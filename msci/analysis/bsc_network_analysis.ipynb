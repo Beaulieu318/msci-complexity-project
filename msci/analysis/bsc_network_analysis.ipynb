{
 "cells": [
  {
   "cell_type": "markdown",
   "metadata": {},
   "source": [
    "# BSc network analysis"
   ]
  },
  {
   "cell_type": "markdown",
   "metadata": {},
   "source": [
    "This notebook recreates the network analysis found in the BSc project."
   ]
  },
  {
   "cell_type": "markdown",
   "metadata": {},
   "source": [
    "## Theory"
   ]
  },
  {
   "cell_type": "markdown",
   "metadata": {},
   "source": [
    "The BSc project investigated one network methods:\n",
    "- Network Flow Matrix: the flow of shoppers between shops"
   ]
  },
  {
   "cell_type": "markdown",
   "metadata": {},
   "source": [
    "**Network Flow Matrix**\n",
    "\n",
    "Each shop is a node in the network. The flow of shoppers from one node to another (moving to a different store) is dipicted by the adjacency matrix $A$. Therefore, the number of shoppers going from shop $i$ to shop $j$ is the element $A_{ij}$.\n",
    "\n",
    "Shopper can both move from shop $i$ to shop $j$ as well as from shop $j$ to shop $i$. We can characterise the `Net Flow`($F$) as the net amount of shoppers moving from $i$ to $j$. Therefore, the `Net Flow` is\n",
    "\n",
    "$$ F_{ij} = A_{ij} - A_{ji}. $$\n",
    "\n",
    "Furthermore, the `Net Flow` matrix can also be written as\n",
    "\n",
    "$$ F_{ij} = A - A^{T}. $$"
   ]
  },
  {
   "cell_type": "markdown",
   "metadata": {},
   "source": [
    "**Sliding Window**\n",
    "\n",
    "The devices need to be `binned` to find the number of devices (shoppers) present over a time period at a shop. This is important because the devices emit singals at random intervals which do not allow us to know the exact number of devices in a shop at a given time. So, this will enable the number of shoppers at a particular shop over a given period time to be calculated. The period of time (known as a window) is kept at a fixed width and moved over time at a given rate (known as sliding). Therefore, the number of shopper can be approximated (with a window of 20 minutes) at a 1 minute time interval. This process is known as a `Sliding Window`."
   ]
  },
  {
   "cell_type": "markdown",
   "metadata": {},
   "source": [
    "**In-Degree Ranked Distribution**\n",
    "\n",
    "In-degree $k_{in}$ is the sum of the adjancy matrix elements that direct to a particular shop i:\n",
    "\n",
    "$$ k_{in}^{(i)} = \\sum_{j}A_{ij} $$\n"
   ]
  },
  {
   "cell_type": "markdown",
   "metadata": {},
   "source": [
    "## Load dependencies"
   ]
  },
  {
   "cell_type": "code",
   "execution_count": 2,
   "metadata": {},
   "outputs": [],
   "source": [
    "import pandas as pd\n",
    "import numpy as np\n",
    "from scipy import stats\n",
    "\n",
    "%matplotlib inline\n",
    "import matplotlib\n",
    "import matplotlib.pyplot as plt\n",
    "import matplotlib.image as mpimg\n",
    "import matplotlib.cm as cm\n",
    "matplotlib.style.use('ggplot')\n",
    "\n",
    "import seaborn as sns"
   ]
  },
  {
   "cell_type": "code",
   "execution_count": 3,
   "metadata": {
    "scrolled": false
   },
   "outputs": [],
   "source": [
    "%load_ext autoreload\n",
    "%autoreload 2"
   ]
  },
  {
   "cell_type": "code",
   "execution_count": 4,
   "metadata": {},
   "outputs": [],
   "source": [
    "from msci.utils import utils"
   ]
  },
  {
   "cell_type": "markdown",
   "metadata": {},
   "source": [
    "## Import raw data"
   ]
  },
  {
   "cell_type": "code",
   "execution_count": 6,
   "metadata": {},
   "outputs": [],
   "source": [
    "signal_df = utils.import_signals('Mall of Mauritius', version=3, signal_type=1)"
   ]
  },
  {
   "cell_type": "markdown",
   "metadata": {},
   "source": [
    "## Method"
   ]
  },
  {
   "cell_type": "code",
   "execution_count": 249,
   "metadata": {},
   "outputs": [],
   "source": [
    "def create_adjacency_matrices(signal_df, sliding_interval=30, window_size=60):\n",
    "    \"\"\"\n",
    "    Creates an array of adjacency matrices which find the number of shopper which move from shop i to shop j\n",
    "    \n",
    "    :param signal_df: (pd.DataFrame) the number of signals in the dataframe\n",
    "    :param sliding_interval: (int) the number of minutes between each sampled window\n",
    "    :param window_size: (int) the size of the window in minutes\n",
    "    :return: (np.array) an array of adjacency matrices which increase in time with intervals of `sliding_interval`\n",
    "    \"\"\"\n",
    "    signal_df = signal_df[signal_df.date_time.dt.time > pd.Timestamp('7:00:00').time()]\n",
    "    \n",
    "    store_ids = np.sort(signal_df[signal_df.store_id.notnull()].store_id.unique())\n",
    "    store_ids_indices = {key: value for (key, value) in zip(store_ids, range(len(store_ids)))}\n",
    "    \n",
    "    adjacency_matrices_with_time = []\n",
    "    \n",
    "    start_time = min(signal_df.date_time)\n",
    "    end_time = max(signal_df.date_time)\n",
    "    window_start_time = start_time\n",
    "    \n",
    "    while window_start_time < (end_time - pd.Timedelta(minutes=window_size)):\n",
    "        print(window_start_time)\n",
    "        window_end_time = window_start_time + pd.Timedelta(minutes=window_size)\n",
    "        \n",
    "        signal_window_df = signal_df[\n",
    "            (signal_df.date_time > window_start_time) &\n",
    "            (signal_df.date_time < window_end_time)\n",
    "        ]\n",
    "        \n",
    "        signal_matrix = signal_window_df.as_matrix(['mac_address', 'store_id'])\n",
    "        adjacency_matrices_with_time.append(create_adjacency_matrix(store_ids_indices, signal_matrix))\n",
    "        \n",
    "        window_start_time = window_start_time + pd.Timedelta(minutes=sliding_interval)\n",
    "            \n",
    "    return np.array(adjacency_matrices_with_time)\n",
    "    "
   ]
  },
  {
   "cell_type": "code",
   "execution_count": 259,
   "metadata": {},
   "outputs": [],
   "source": [
    "def create_adjacency_matrix(store_ids_indices, signal_matrix):\n",
    "    \"\"\"\n",
    "    :param store_ids_indices: (dict) the store ids as keys and index in the adjacency matrix as values\n",
    "    :param signal_matrix: (np.array) the mac_address, store_id for a given window\n",
    "    :return: (np.array) adjacency matrix with the number of shoppers going from store i to store j in the signal_matrix\n",
    "    \"\"\"\n",
    "    num_stores = len(store_ids_indices)\n",
    "    adjacency_matrix = np.zeros((num_stores, num_stores))\n",
    "    mac_addresses = np.unique(signal_matrix[:, 0])\n",
    "    \n",
    "    for mac_address in mac_addresses:\n",
    "        mac_address_indices = np.where(signal_matrix[:, 0] == mac_address)\n",
    "        \n",
    "        # remove nans from stores\n",
    "        stores = [store for store in signal_matrix[mac_address_indices[0]][:, 1] if store is not np.nan]\n",
    "        \n",
    "        store_from = np.nan\n",
    "        for store_to in stores:\n",
    "            \n",
    "            if (store_from is not store_to) and (store_from is not np.nan) and (store_to is not np.nan):\n",
    "                store_from_index = store_ids_indices[store_from]\n",
    "                store_to_index = store_ids_indices[store_to]\n",
    "                \n",
    "                adjacency_matrix[store_from_index][store_to_index] += 1\n",
    "                \n",
    "            store_from = store_to\n",
    "                \n",
    "    return adjacency_matrix\n",
    "    "
   ]
  },
  {
   "cell_type": "markdown",
   "metadata": {},
   "source": [
    "## Result"
   ]
  },
  {
   "cell_type": "code",
   "execution_count": 263,
   "metadata": {
    "scrolled": true
   },
   "outputs": [
    {
     "name": "stdout",
     "output_type": "stream",
     "text": [
      "2016-12-22 07:00:05\n"
     ]
    }
   ],
   "source": [
    "adjacency_matrix = create_adjacency_matrices(signal_df)"
   ]
  }
 ],
 "metadata": {
  "kernelspec": {
   "display_name": "Python 3",
   "language": "python",
   "name": "python3"
  },
  "language_info": {
   "codemirror_mode": {
    "name": "ipython",
    "version": 3
   },
   "file_extension": ".py",
   "mimetype": "text/x-python",
   "name": "python",
   "nbconvert_exporter": "python",
   "pygments_lexer": "ipython3",
   "version": "3.6.2"
  },
  "varInspector": {
   "cols": {
    "lenName": 16,
    "lenType": 16,
    "lenVar": 40
   },
   "kernels_config": {
    "python": {
     "delete_cmd_postfix": "",
     "delete_cmd_prefix": "del ",
     "library": "var_list.py",
     "varRefreshCmd": "print(var_dic_list())"
    },
    "r": {
     "delete_cmd_postfix": ") ",
     "delete_cmd_prefix": "rm(",
     "library": "var_list.r",
     "varRefreshCmd": "cat(var_dic_list()) "
    }
   },
   "types_to_exclude": [
    "module",
    "function",
    "builtin_function_or_method",
    "instance",
    "_Feature"
   ],
   "window_display": false
  }
 },
 "nbformat": 4,
 "nbformat_minor": 2
}
