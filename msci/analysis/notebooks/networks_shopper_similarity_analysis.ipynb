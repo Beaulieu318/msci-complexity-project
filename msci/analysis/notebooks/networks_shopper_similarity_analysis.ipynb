{
 "cells": [
  {
   "cell_type": "markdown",
   "metadata": {},
   "source": [
    "# Shopper similarity analysis"
   ]
  },
  {
   "cell_type": "markdown",
   "metadata": {},
   "source": [
    "This notebook tries to find if there are similarities in shopper behaviour using network analysis."
   ]
  },
  {
   "cell_type": "markdown",
   "metadata": {},
   "source": [
    "## Theory"
   ]
  },
  {
   "cell_type": "markdown",
   "metadata": {},
   "source": [
    "**Girvan Newman**\n",
    "\n",
    "The Girvan–Newman algorithm detects communities by progressively removing edges from the original graph. The algorithm removes the “most valuable” edge, traditionally the edge with the highest betweenness centrality, at each step. As the graph breaks down into pieces, the tightly knit community structure is exposed and the result can be depicted as a dendrogram.\n",
    "\n",
    "**Edge betweenness centrality**\n",
    "\n",
    "Compute betweenness centrality for edges.\n",
    "\n",
    "Betweenness centrality of an edge e is the sum of the fraction of all-pairs shortest paths that pass through e:\n",
    "\n",
    "$$ c_b(e) = \\sum_{s, t \\ \\in V} \\frac{\\sigma(s, t \\mid e)}{\\sigma(s, t)} $$\n"
   ]
  },
  {
   "cell_type": "markdown",
   "metadata": {},
   "source": [
    "## Load dependencies"
   ]
  },
  {
   "cell_type": "code",
   "execution_count": 1,
   "metadata": {},
   "outputs": [],
   "source": [
    "import pandas as pd\n",
    "import numpy as np\n",
    "import copy\n",
    "\n",
    "from scipy import stats\n",
    "\n",
    "%matplotlib inline\n",
    "import matplotlib\n",
    "import matplotlib.pyplot as plt\n",
    "import matplotlib.image as mpimg\n",
    "import matplotlib.cm as cm\n",
    "matplotlib.style.use('ggplot')\n",
    "\n",
    "import seaborn as sns"
   ]
  },
  {
   "cell_type": "code",
   "execution_count": 2,
   "metadata": {
    "scrolled": false
   },
   "outputs": [],
   "source": [
    "%load_ext autoreload\n",
    "%autoreload 2"
   ]
  },
  {
   "cell_type": "code",
   "execution_count": 3,
   "metadata": {},
   "outputs": [],
   "source": [
    "from msci.utils import utils\n",
    "from msci.analysis.networks import *\n",
    "from msci.utils.plot import create_count_of_shoppers_gif, create_count_of_shoppers_image\n",
    "from msci.utils.plot import plot_path_jn"
   ]
  },
  {
   "cell_type": "code",
   "execution_count": 4,
   "metadata": {},
   "outputs": [],
   "source": [
    "import networkx as nx\n",
    "from networkx.algorithms.community.centrality import girvan_newman"
   ]
  },
  {
   "cell_type": "markdown",
   "metadata": {},
   "source": [
    "## Import raw data"
   ]
  },
  {
   "cell_type": "code",
   "execution_count": 18,
   "metadata": {},
   "outputs": [
    {
     "name": "stderr",
     "output_type": "stream",
     "text": [
      "c:\\users\\tvb\\envs\\venv-msci\\lib\\site-packages\\IPython\\core\\interactiveshell.py:2850: DtypeWarning: Columns (4) have mixed types. Specify dtype option on import or set low_memory=False.\n",
      "  if self.run_code(code, result):\n"
     ]
    }
   ],
   "source": [
    "signal_df = utils.import_signals('Mall of Mauritius', version=4)"
   ]
  },
  {
   "cell_type": "code",
   "execution_count": 19,
   "metadata": {},
   "outputs": [],
   "source": [
    "mac_address_df = utils.import_mac_addresses(version=3)\n",
    "shopper_df = mac_address_df[mac_address_df.dbscan_label == 'Shopper']"
   ]
  },
  {
   "cell_type": "code",
   "execution_count": 67,
   "metadata": {},
   "outputs": [],
   "source": [
    "analysis_mac_addresses = shopper_df.mac_address.tolist()[4090:4100]"
   ]
  },
  {
   "cell_type": "code",
   "execution_count": 68,
   "metadata": {},
   "outputs": [
    {
     "data": {
      "text/plain": [
       "['64:89:9a:38:1b:69',\n",
       " '38:aa:3c:5b:07:a0',\n",
       " 'f0:c1:f1:25:5f:18',\n",
       " 'b4:74:43:d9:08:87',\n",
       " '30:f7:c5:c8:71:04',\n",
       " 'e0:cb:ee:88:60:df',\n",
       " '7c:0b:c6:f9:9f:d4',\n",
       " '3c:a1:0d:44:f7:fc',\n",
       " 'e8:50:8b:dd:09:27',\n",
       " '48:13:7e:1b:5d:7c']"
      ]
     },
     "execution_count": 68,
     "metadata": {},
     "output_type": "execute_result"
    }
   ],
   "source": [
    "analysis_mac_addresses"
   ]
  },
  {
   "cell_type": "markdown",
   "metadata": {},
   "source": [
    "## Method"
   ]
  },
  {
   "cell_type": "markdown",
   "metadata": {},
   "source": [
    "We want to create a matrix which will enable us to determine how similar two shoppers are. We can then perform various measures on this dataset such as:\n",
    "- community detection\n",
    "- xxx"
   ]
  },
  {
   "cell_type": "markdown",
   "metadata": {},
   "source": [
    "Create a shopper normalised similarity matrix:\n",
    "- get the signals from the mall\n",
    "- create a pivot data which contains shopper on the x-axis and shops on the y-axis and the signal count as the value\n",
    "- turn all signal counts to 1\n",
    "- for every pair of shoppers $Aij$ calculate the number of stores that they both went to\n",
    "- divide each connection by the total number of shops visited for the $i$th shopper\n",
    "\n",
    "This has now created a weighted directional network $A$ which gives the shopper $i$'s similarity to shopper $j$. The similarity is calculated by the number of shops they both went to divide by the number of shops shopper $i$ went to."
   ]
  },
  {
   "cell_type": "markdown",
   "metadata": {},
   "source": [
    "## Get data"
   ]
  },
  {
   "cell_type": "code",
   "execution_count": 69,
   "metadata": {},
   "outputs": [],
   "source": [
    "def create_shopper_shop_pivot(signal_df, mac_address=None):\n",
    "    clean_signal_df = signal_df[\n",
    "        signal_df.store_id.notnull() & \n",
    "        signal_df.store_id.str.contains('B')\n",
    "    ]\n",
    "    if mac_address is not None:\n",
    "        clean_signal_df = clean_signal_df[clean_signal_df.mac_address.isin(mac_address)]\n",
    "    shopper_shop_pivot = pd.pivot_table(clean_signal_df, values='x', index='mac_address', columns='store_id', aggfunc=len)\n",
    "    return shopper_shop_pivot"
   ]
  },
  {
   "cell_type": "code",
   "execution_count": 70,
   "metadata": {},
   "outputs": [],
   "source": [
    "def create_similarity_matrix(shopper_shop_df, num_entities=100, skip_entities=0):\n",
    "    \"\"\"\n",
    "    Creates a shop or shopper similarity matrix. \n",
    "    The x-axis is entities which the similarity is based on and y-axis is overlap which is being counted.\n",
    "    E.g. a shopper shopper matrix will contain the number shops both shopper_i and shopper_j both went to\n",
    "    E.g. a shop shop matrix will contain the number of shoppers that both went to shop_i and shop_j\n",
    "    \n",
    "    :param shopper_shop_df: (pd.DataFrame) the shoppers on one axis with the shops on the other\n",
    "    :return: (pd.DataFrame) entity entity matrix with the number of overlap in the value (entity is shop or shopper)\n",
    "    \"\"\"\n",
    "    shopper_shop_df[shopper_shop_df > 0] = 1\n",
    "    # shopper_shop_df = shopper_shop_df[shopper_shop_df.notnull().sum(axis=1) == 5]\n",
    "    shopper_shop_index_df = (shopper_shop_df * np.arange(shopper_shop_df.shape[1]))[skip_entities:skip_entities+num_entities]\n",
    "    similarity_df = pd.DataFrame(0, shopper_shop_index_df.index, shopper_shop_index_df.index)\n",
    "    \n",
    "    for i in range(len(similarity_df.index)):\n",
    "        entity_index_i = shopper_shop_index_df.iloc[i][shopper_shop_index_df.iloc[i].notnull()]\n",
    "        for j in range(i+1, (len(similarity_df.index))):\n",
    "            entity_index_j = shopper_shop_index_df.iloc[j][shopper_shop_index_df.iloc[j].notnull()]\n",
    "            num_overlap = len(list(set(entity_index_i) & set(entity_index_j)))\n",
    "            similarity_df.iloc[i, j] = num_overlap\n",
    "            \n",
    "    norm = shopper_shop_index_df.notnull().sum(axis=1)\n",
    "            \n",
    "    return similarity_df / norm + similarity_df.T / norm"
   ]
  },
  {
   "cell_type": "code",
   "execution_count": 71,
   "metadata": {
    "scrolled": false
   },
   "outputs": [],
   "source": [
    "shopper_shop_pivot = create_shopper_shop_pivot(signal_df, analysis_mac_addresses)\n",
    "shopper_similarity_df = create_similarity_matrix(shopper_shop_pivot, num_entities=51, skip_entities=0)"
   ]
  },
  {
   "cell_type": "markdown",
   "metadata": {},
   "source": [
    "## Create network"
   ]
  },
  {
   "cell_type": "code",
   "execution_count": 72,
   "metadata": {},
   "outputs": [],
   "source": [
    "G = nx.from_numpy_matrix(shopper_similarity_df.as_matrix(), create_using=nx.MultiDiGraph())\n",
    "# G = nx.relabel_nodes(G, dict(enumerate(shopper_similarity_df.columns)))"
   ]
  },
  {
   "cell_type": "code",
   "execution_count": 73,
   "metadata": {},
   "outputs": [],
   "source": [
    "comp = girvan_newman(G)\n",
    "communities = tuple(sorted(c) for c in next(comp))"
   ]
  },
  {
   "cell_type": "code",
   "execution_count": 74,
   "metadata": {
    "scrolled": true
   },
   "outputs": [
    {
     "data": {
      "text/plain": [
       "([0, 1, 5, 7, 8], [2, 3, 4, 6, 9])"
      ]
     },
     "execution_count": 74,
     "metadata": {},
     "output_type": "execute_result"
    }
   ],
   "source": [
    "communities"
   ]
  },
  {
   "cell_type": "code",
   "execution_count": 75,
   "metadata": {
    "scrolled": false
   },
   "outputs": [
    {
     "data": {
      "text/plain": [
       "array([[ 0.,  1.,  0.,  0.,  0.,  1.,  1.,  0.,  1.,  1.],\n",
       "       [ 1.,  0.,  0.,  0.,  1.,  1.,  0.,  1.,  0.,  0.],\n",
       "       [ 0.,  0.,  0.,  0.,  1.,  0.,  0.,  0.,  0.,  1.],\n",
       "       [ 0.,  0.,  0.,  0.,  1.,  0.,  0.,  0.,  0.,  0.],\n",
       "       [ 0.,  1.,  1.,  1.,  0.,  0.,  1.,  0.,  0.,  1.],\n",
       "       [ 1.,  1.,  0.,  0.,  0.,  0.,  0.,  0.,  1.,  0.],\n",
       "       [ 1.,  0.,  0.,  0.,  1.,  0.,  0.,  0.,  0.,  1.],\n",
       "       [ 0.,  1.,  0.,  0.,  0.,  0.,  0.,  0.,  0.,  0.],\n",
       "       [ 1.,  0.,  0.,  0.,  0.,  1.,  0.,  0.,  0.,  0.],\n",
       "       [ 1.,  0.,  1.,  0.,  1.,  0.,  1.,  0.,  0.,  0.]])"
      ]
     },
     "execution_count": 75,
     "metadata": {},
     "output_type": "execute_result"
    }
   ],
   "source": [
    "shopper_similarity_matrix = shopper_similarity_df.as_matrix()\n",
    "shopper_similarity_matrix_binary = copy.deepcopy(shopper_similarity_matrix)\n",
    "shopper_similarity_matrix_binary[np.where(shopper_similarity_matrix_binary > 0)] = 1\n",
    "shopper_similarity_matrix_binary"
   ]
  },
  {
   "cell_type": "code",
   "execution_count": 79,
   "metadata": {
    "scrolled": false
   },
   "outputs": [
    {
     "data": {
      "image/png": "[encoded data removed]",
      "text/plain": [
       "<matplotlib.figure.Figure at 0x21c97af2ac8>"
      ]
     },
     "metadata": {},
     "output_type": "display_data"
    }
   ],
   "source": [
    "fig, ax = plt.subplots(nrows=1, ncols=1, figsize=(16, 8))\n",
    "pos = nx.spectral_layout(G)\n",
    "nx.draw_spectral(G)\n",
    "labels = {i : i for i in G.nodes()}\n",
    "nx.draw_networkx_labels(G, pos, labels, font_size=15)\n",
    "# plt.savefig('destination_path.eps', format='eps', transparent=True)\n",
    "plt.show()"
   ]
  },
  {
   "cell_type": "code",
   "execution_count": null,
   "metadata": {},
   "outputs": [],
   "source": [
    "G.edges(data=True)"
   ]
  },
  {
   "cell_type": "code",
   "execution_count": null,
   "metadata": {},
   "outputs": [],
   "source": [
    "fig, ax = plt.subplots(nrows=1, ncols=1, figsize=(16, 8))\n",
    "plot_path_jn(signal_df, communities[0], axes=ax, scatter=False)\n",
    "\n",
    "fig, ax = plt.subplots(nrows=1, ncols=1, figsize=(16, 8))\n",
    "plot_path_jn(signal_df, communities[1], axes=ax, scatter=False)"
   ]
  },
  {
   "cell_type": "code",
   "execution_count": null,
   "metadata": {},
   "outputs": [],
   "source": [
    "for shopper in communities[1]:\n",
    "    print(signal_df[(signal_df.mac_address == shopper) & signal_df.store_id.str.contains('B')].store_id.unique())"
   ]
  },
  {
   "cell_type": "markdown",
   "metadata": {},
   "source": [
    "Two sets of paths on two maps of Mall of Mauritius. The each set of paths shows a different community detected by the Girvan–Newman algorithm. Each paths is connected to the next via the number of stories they both went to divide by the number of stores that path went to."
   ]
  },
  {
   "cell_type": "markdown",
   "metadata": {},
   "source": [
    "## Investigate deeper"
   ]
  },
  {
   "cell_type": "code",
   "execution_count": null,
   "metadata": {},
   "outputs": [],
   "source": [
    "import itertools"
   ]
  },
  {
   "cell_type": "code",
   "execution_count": null,
   "metadata": {},
   "outputs": [],
   "source": [
    "G = nx.from_numpy_matrix(shopper_similarity_df.as_matrix(), create_using=nx.MultiDiGraph())\n",
    "# G = nx.relabel_nodes(G, dict(enumerate(shopper_similarity_df.columns)))"
   ]
  },
  {
   "cell_type": "code",
   "execution_count": null,
   "metadata": {},
   "outputs": [],
   "source": [
    "k = 50\n",
    "comp = girvan_newman(G)\n",
    "for communities in itertools.islice(comp, k):\n",
    "    print(tuple(sorted(c) for c in communities)) "
   ]
  },
  {
   "cell_type": "code",
   "execution_count": null,
   "metadata": {},
   "outputs": [],
   "source": [
    "fig, ax = plt.subplots(nrows=1, ncols=1, figsize=(16, 8))\n",
    "plt.imshow(shopper_similarity_df.as_matrix())\n",
    "plt.colorbar()"
   ]
  },
  {
   "cell_type": "code",
   "execution_count": null,
   "metadata": {},
   "outputs": [],
   "source": []
  }
 ],
 "metadata": {
  "kernelspec": {
   "display_name": "Python 3",
   "language": "python",
   "name": "python3"
  },
  "language_info": {
   "codemirror_mode": {
    "name": "ipython",
    "version": 3
   },
   "file_extension": ".py",
   "mimetype": "text/x-python",
   "name": "python",
   "nbconvert_exporter": "python",
   "pygments_lexer": "ipython3",
   "version": "3.6.2"
  },
  "varInspector": {
   "cols": {
    "lenName": 16,
    "lenType": 16,
    "lenVar": 40
   },
   "kernels_config": {
    "python": {
     "delete_cmd_postfix": "",
     "delete_cmd_prefix": "del ",
     "library": "var_list.py",
     "varRefreshCmd": "print(var_dic_list())"
    },
    "r": {
     "delete_cmd_postfix": ") ",
     "delete_cmd_prefix": "rm(",
     "library": "var_list.r",
     "varRefreshCmd": "cat(var_dic_list()) "
    }
   },
   "types_to_exclude": [
    "module",
    "function",
    "builtin_function_or_method",
    "instance",
    "_Feature"
   ],
   "window_display": false
  }
 },
 "nbformat": 4,
 "nbformat_minor": 2
}
