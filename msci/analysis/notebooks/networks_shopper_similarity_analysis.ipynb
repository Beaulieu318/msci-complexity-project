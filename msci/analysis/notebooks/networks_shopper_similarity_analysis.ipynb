{
 "cells": [
  {
   "cell_type": "markdown",
   "metadata": {},
   "source": [
    "# Shopper similarity analysis"
   ]
  },
  {
   "cell_type": "markdown",
   "metadata": {},
   "source": [
    "This notebook tries to find if there are similarities in shopper behaviour using network analysis."
   ]
  },
  {
   "cell_type": "markdown",
   "metadata": {},
   "source": [
    "## Theory"
   ]
  },
  {
   "cell_type": "markdown",
   "metadata": {},
   "source": [
    "## Load dependencies"
   ]
  },
  {
   "cell_type": "code",
   "execution_count": 1,
   "metadata": {},
   "outputs": [],
   "source": [
    "import pandas as pd\n",
    "import numpy as np\n",
    "from scipy import stats\n",
    "\n",
    "%matplotlib inline\n",
    "import matplotlib\n",
    "import matplotlib.pyplot as plt\n",
    "import matplotlib.image as mpimg\n",
    "import matplotlib.cm as cm\n",
    "matplotlib.style.use('ggplot')\n",
    "\n",
    "import seaborn as sns"
   ]
  },
  {
   "cell_type": "code",
   "execution_count": 2,
   "metadata": {
    "scrolled": false
   },
   "outputs": [],
   "source": [
    "%load_ext autoreload\n",
    "%autoreload 2"
   ]
  },
  {
   "cell_type": "code",
   "execution_count": 3,
   "metadata": {},
   "outputs": [],
   "source": [
    "from msci.utils import utils\n",
    "from msci.analysis.networks import *\n",
    "from msci.utils.plot import create_count_of_shoppers_gif, create_count_of_shoppers_image"
   ]
  },
  {
   "cell_type": "markdown",
   "metadata": {},
   "source": [
    "## Import raw data"
   ]
  },
  {
   "cell_type": "code",
   "execution_count": 4,
   "metadata": {},
   "outputs": [],
   "source": [
    "signal_df = utils.import_signals('Mall of Mauritius', version=3, signal_type=1)"
   ]
  },
  {
   "cell_type": "markdown",
   "metadata": {},
   "source": [
    "## Method"
   ]
  },
  {
   "cell_type": "markdown",
   "metadata": {},
   "source": [
    "We want to investigate whether there are any similarities in which shop the shoppers go to. Using network analysis, create a matrix which has each shopper on the on axis and each shop on another axis. The number of signals recorded for each shoppers will be the value in the matrix.\n",
    "\n",
    "Using this matrix, we can determine how similar the shoppers are. The new matrix will have the shoppers on both axis and values will contain the number of shops which they both went to. The matrix will be symmetric. This matrix can be analysed in various ways:\n",
    "- the degree vs the rank (rank distribution)\n",
    "- number of clusters"
   ]
  },
  {
   "cell_type": "markdown",
   "metadata": {},
   "source": [
    "## Get data"
   ]
  },
  {
   "cell_type": "code",
   "execution_count": 127,
   "metadata": {},
   "outputs": [],
   "source": [
    "clean_signal_df = signal_df[signal_df.store_id.notnull()]\n",
    "shopper_shop_pivot = pd.pivot_table(clean_signal_df, values='x', index='mac_address', columns='store_id', aggfunc=len)"
   ]
  },
  {
   "cell_type": "code",
   "execution_count": 128,
   "metadata": {
    "scrolled": true
   },
   "outputs": [],
   "source": [
    "shops = shopper_shop_pivot.columns.tolist()\n",
    "shoppers = shopper_shop_pivot.index.tolist()\n",
    "shopper_shop_matrix = shopper_shop_pivot.as_matrix()"
   ]
  },
  {
   "cell_type": "code",
   "execution_count": 177,
   "metadata": {},
   "outputs": [
    {
     "data": {
      "text/plain": [
       "130.0"
      ]
     },
     "execution_count": 177,
     "metadata": {},
     "output_type": "execute_result"
    }
   ],
   "source": [
    "shopper_shop_matrix = np.nan_to_num(shopper_shop_matrix, 0)\n",
    "shopper_shop_matrix[np.where(shopper_shop_matrix > 0)] = 1\n",
    "np.max(np.sum(shopper_shop_matrix, axis=1))"
   ]
  },
  {
   "cell_type": "code",
   "execution_count": 168,
   "metadata": {},
   "outputs": [],
   "source": [
    "count_sort = np.sort(np.sum(shopper_shop_matrix, axis=1))"
   ]
  },
  {
   "cell_type": "markdown",
   "metadata": {},
   "source": [
    "## Number of people in each shop"
   ]
  },
  {
   "cell_type": "code",
   "execution_count": null,
   "metadata": {},
   "outputs": [],
   "source": [
    "create_count_of_shoppers_image(count_of_shoppers, frame_times, count_index=60)"
   ]
  },
  {
   "cell_type": "markdown",
   "metadata": {},
   "source": [
    "The number of people in each shop of `Mall of Mauritius` at the beginning of the day. The area of the dots (number of people) are largest around the entrances, the major shops (Intermart) and major hallways. Fewer people are in the smaller shops.\n",
    "\n",
    "Issues:\n",
    "- Some dots are very close to other dots (in the same shop). This might be caused by a shop with two floors and will need further investigating."
   ]
  },
  {
   "cell_type": "markdown",
   "metadata": {},
   "source": [
    "### Create GIF of the number of people in each shop over time"
   ]
  },
  {
   "cell_type": "code",
   "execution_count": null,
   "metadata": {
    "scrolled": true
   },
   "outputs": [],
   "source": [
    "%%capture\n",
    "create_count_of_shoppers_gif(count_of_shoppers, frame_times)"
   ]
  },
  {
   "cell_type": "markdown",
   "metadata": {},
   "source": [
    "## In-Degree Ranked Distribution"
   ]
  },
  {
   "cell_type": "markdown",
   "metadata": {},
   "source": [
    "The in-degree, $k_{in}$, is the sum of the adjancency matrix elements that direct to a particular shop i.e. how many people go into a particular shop. \n",
    "\n",
    "$$ k_{in} = \\sum_{j} A_{ij}. $$\n",
    "\n",
    "\n",
    "Asumming that every shop starts and ends with no people in it, $k_{in}$ is equal to the total number of people that visit a particular shop (count the number of devices that have emitted a signal in each shop). \n",
    "\n",
    "$$ k_{in} = \\text{number of people that visit the shop}. $$"
   ]
  },
  {
   "cell_type": "markdown",
   "metadata": {},
   "source": [
    "There are only 100 shops therefore the degree distribution will not produce an insightful plot (because most degrees will only occur once). Use a ranked distribution (Zipf plot) instead which calculates the rank, $r_{i}$, \n",
    "\n",
    "$$ r_{i} = N \\sum_{k=k_{i}}^{\\infty}P(k), $$\n",
    "\n",
    "where N is the number of observed degrees."
   ]
  },
  {
   "cell_type": "markdown",
   "metadata": {},
   "source": [
    "### Results"
   ]
  },
  {
   "cell_type": "code",
   "execution_count": 183,
   "metadata": {},
   "outputs": [
    {
     "data": {
      "image/png": "[encoded data removed]",
      "text/plain": [
       "<matplotlib.figure.Figure at 0x1f49add6908>"
      ]
     },
     "metadata": {},
     "output_type": "display_data"
    }
   ],
   "source": [
    "fig, ax = plt.subplots(nrows=1, ncols=1, figsize=(16, 8))\n",
    "\n",
    "degrees, rank = count_sort, range(len(count_sort))[::-1]\n",
    "plt.scatter(rank, degrees, label='Shop + area outside shop')\n",
    "\n",
    "# ax.set_xscale(\"log\", nonposx='clip')\n",
    "# ax.set_yscale(\"log\", nonposy='clip')\n",
    "ax.set_xlabel('Rank ($r_{i}$)', fontsize=15)\n",
    "ax.set_ylabel('In-degree ($k_{in}$)', fontsize=15);\n",
    "ax.legend(loc='best', fontsize=15);"
   ]
  },
  {
   "cell_type": "markdown",
   "metadata": {},
   "source": [
    "The rank distribution (Zipf Plot) showing the in-degree ($k_{in}$) against the in-degree rank $r_{i}$. The in-degree is the number of people that were in that shop over the day and the rank is the position in the frequency table. Therefore, shops that recieve looks of people (left side of graph) have a low rank because there is a lower probability of these types of show. On the other hand, there are lots of shops (high rank) that have few people (low $k_{in}$)."
   ]
  },
  {
   "cell_type": "markdown",
   "metadata": {},
   "source": [
    "## Further Network Research"
   ]
  },
  {
   "cell_type": "markdown",
   "metadata": {},
   "source": [
    "**Measures**\n",
    "\n",
    "- More rank distribution (what does it look like for stationary devices\n",
    "- Next shop vs distance from the shop\n",
    "- Use every centrality measure\n",
    "- "
   ]
  }
 ],
 "metadata": {
  "kernelspec": {
   "display_name": "Python 3",
   "language": "python",
   "name": "python3"
  },
  "language_info": {
   "codemirror_mode": {
    "name": "ipython",
    "version": 3
   },
   "file_extension": ".py",
   "mimetype": "text/x-python",
   "name": "python",
   "nbconvert_exporter": "python",
   "pygments_lexer": "ipython3",
   "version": "3.6.2"
  },
  "varInspector": {
   "cols": {
    "lenName": 16,
    "lenType": 16,
    "lenVar": 40
   },
   "kernels_config": {
    "python": {
     "delete_cmd_postfix": "",
     "delete_cmd_prefix": "del ",
     "library": "var_list.py",
     "varRefreshCmd": "print(var_dic_list())"
    },
    "r": {
     "delete_cmd_postfix": ") ",
     "delete_cmd_prefix": "rm(",
     "library": "var_list.r",
     "varRefreshCmd": "cat(var_dic_list()) "
    }
   },
   "types_to_exclude": [
    "module",
    "function",
    "builtin_function_or_method",
    "instance",
    "_Feature"
   ],
   "window_display": false
  }
 },
 "nbformat": 4,
 "nbformat_minor": 2
}
