{
 "cells": [
  {
   "cell_type": "markdown",
   "metadata": {},
   "source": [
    "# Markov Chain Analysis"
   ]
  },
  {
   "cell_type": "markdown",
   "metadata": {},
   "source": [
    "This notebook tries to find if there are similarities in shopper behaviour using network analysis."
   ]
  },
  {
   "cell_type": "markdown",
   "metadata": {},
   "source": [
    "## Load dependencies"
   ]
  },
  {
   "cell_type": "code",
   "execution_count": 1,
   "metadata": {},
   "outputs": [],
   "source": [
    "import pandas as pd\n",
    "import numpy as np\n",
    "import copy\n",
    "\n",
    "from scipy import stats\n",
    "\n",
    "%matplotlib inline\n",
    "import matplotlib\n",
    "import matplotlib.pyplot as plt\n",
    "import matplotlib.image as mpimg\n",
    "import matplotlib.cm as cm\n",
    "matplotlib.style.use('ggplot')\n",
    "\n",
    "import seaborn as sns\n",
    "from tqdm import tqdm_notebook as tqdm"
   ]
  },
  {
   "cell_type": "code",
   "execution_count": 2,
   "metadata": {
    "scrolled": false
   },
   "outputs": [],
   "source": [
    "%load_ext autoreload\n",
    "%autoreload 2"
   ]
  },
  {
   "cell_type": "code",
   "execution_count": 3,
   "metadata": {},
   "outputs": [],
   "source": [
    "from msci.utils import utils\n",
    "from msci.utils.utils import data_path\n",
    "from msci.analysis.networks import *\n",
    "from msci.utils.plot import create_count_of_shoppers_gif, create_count_of_shoppers_image\n",
    "from msci.utils.plot import plot_path_jn, plot_histogram_jn, plot_points_on_map_jn\n",
    "from msci.analysis.markov_chain import *"
   ]
  },
  {
   "cell_type": "code",
   "execution_count": 4,
   "metadata": {},
   "outputs": [],
   "source": [
    "from sklearn import preprocessing\n",
    "from scipy.stats import linregress"
   ]
  },
  {
   "cell_type": "markdown",
   "metadata": {},
   "source": [
    "## Get data"
   ]
  },
  {
   "cell_type": "code",
   "execution_count": 5,
   "metadata": {},
   "outputs": [
    {
     "name": "stderr",
     "output_type": "stream",
     "text": [
      "c:\\users\\tvb\\envs\\venv-msci\\lib\\site-packages\\IPython\\core\\interactiveshell.py:2850: DtypeWarning: Columns (4) have mixed types. Specify dtype option on import or set low_memory=False.\n",
      "  if self.run_code(code, result):\n"
     ]
    }
   ],
   "source": [
    "mac_address_df = utils.import_mac_addresses(version=3)\n",
    "signal_df = utils.import_signals(version=4)"
   ]
  },
  {
   "cell_type": "code",
   "execution_count": 6,
   "metadata": {},
   "outputs": [],
   "source": [
    "shopper_df = mac_address_df[mac_address_df.dbscan_label == 'Shopper']"
   ]
  },
  {
   "cell_type": "code",
   "execution_count": 7,
   "metadata": {},
   "outputs": [],
   "source": [
    "shop_df_old = utils.import_shop_directory(mall='Mall of Mauritius', version=2)"
   ]
  },
  {
   "cell_type": "code",
   "execution_count": 8,
   "metadata": {},
   "outputs": [],
   "source": [
    "shop_df1 = utils.import_shop_directory(mall='Mall of Mauritius', version=1)\n",
    "\n",
    "shop_df = pd.merge(\n",
    "    shop_df_old, \n",
    "    shop_df1[['store_id', 'store_name', 'store_category']], \n",
    "    how='left',\n",
    "    on='store_id'\n",
    ")"
   ]
  },
  {
   "cell_type": "code",
   "execution_count": 9,
   "metadata": {},
   "outputs": [],
   "source": [
    "r_signal_df1 = signal_df[\n",
    "    signal_df.store_id.notnull() & \n",
    "    (signal_df.store_id.str[0] == 'B') & \n",
    "    signal_df.mac_address.isin(shopper_df.mac_address)\n",
    "].sort_values(['mac_address', 'date_time'])"
   ]
  },
  {
   "cell_type": "code",
   "execution_count": 10,
   "metadata": {},
   "outputs": [
    {
     "name": "stderr",
     "output_type": "stream",
     "text": [
      "c:\\users\\tvb\\envs\\venv-msci\\lib\\site-packages\\ipykernel_launcher.py:8: SettingWithCopyWarning: \n",
      "A value is trying to be set on a copy of a slice from a DataFrame\n",
      "\n",
      "See the caveats in the documentation: http://pandas.pydata.org/pandas-docs/stable/indexing.html#indexing-view-versus-copy\n",
      "  \n"
     ]
    }
   ],
   "source": [
    "r_signal_df = pd.merge(\n",
    "    r_signal_df1, \n",
    "    shop_df[['store_id', 'store_category']], \n",
    "    how='left', \n",
    "    on='store_id'\n",
    ")\n",
    "\n",
    "r_signal_df.store_category[r_signal_df.store_category.isnull()] = 'None'"
   ]
  },
  {
   "cell_type": "markdown",
   "metadata": {},
   "source": [
    "## Markov Chain"
   ]
  },
  {
   "cell_type": "code",
   "execution_count": 37,
   "metadata": {},
   "outputs": [],
   "source": [
    "names, A, pi = markov_chain(dd_signal_df, return_permitted=False, on='store_id')"
   ]
  },
  {
   "cell_type": "code",
   "execution_count": 12,
   "metadata": {
    "scrolled": false
   },
   "outputs": [
    {
     "data": {
      "text/html": [
       "<div>\n",
       "<style>\n",
       "    .dataframe thead tr:only-child th {\n",
       "        text-align: right;\n",
       "    }\n",
       "\n",
       "    .dataframe thead th {\n",
       "        text-align: left;\n",
       "    }\n",
       "\n",
       "    .dataframe tbody tr th {\n",
       "        vertical-align: top;\n",
       "    }\n",
       "</style>\n",
       "<table border=\"1\" class=\"dataframe\">\n",
       "  <thead>\n",
       "    <tr style=\"text-align: right;\">\n",
       "      <th></th>\n",
       "      <th>frequency</th>\n",
       "      <th>store_id</th>\n",
       "      <th>area</th>\n",
       "      <th>dimensions</th>\n",
       "      <th>centroid</th>\n",
       "      <th>x</th>\n",
       "      <th>y</th>\n",
       "      <th>count_of_shoppers</th>\n",
       "      <th>store_name</th>\n",
       "      <th>store_category</th>\n",
       "      <th>pi</th>\n",
       "      <th>piA</th>\n",
       "      <th>ss</th>\n",
       "    </tr>\n",
       "  </thead>\n",
       "  <tbody>\n",
       "    <tr>\n",
       "      <th>0</th>\n",
       "      <td>138233</td>\n",
       "      <td>B87</td>\n",
       "      <td>3345.833333</td>\n",
       "      <td>{308.5: [69.0, 92.0], 309.5: [72.5, 104.0], 31...</td>\n",
       "      <td>[318.9785048914996, 89.388654180502002]</td>\n",
       "      <td>318.978505</td>\n",
       "      <td>89.388654</td>\n",
       "      <td>15744</td>\n",
       "      <td>Intermart</td>\n",
       "      <td>Supermarket</td>\n",
       "      <td>0.062773</td>\n",
       "      <td>0.047219</td>\n",
       "      <td>0.063943</td>\n",
       "    </tr>\n",
       "    <tr>\n",
       "      <th>1</th>\n",
       "      <td>48621</td>\n",
       "      <td>B247</td>\n",
       "      <td>1214.833333</td>\n",
       "      <td>{225.0: [56.0, 56.0], 231.33333333333331: [46....</td>\n",
       "      <td>[246.72877631750342, 43.35011277705793]</td>\n",
       "      <td>246.728776</td>\n",
       "      <td>43.350113</td>\n",
       "      <td>6661</td>\n",
       "      <td>Courts Mammouth</td>\n",
       "      <td>Audio/Electronic</td>\n",
       "      <td>0.051985</td>\n",
       "      <td>0.041284</td>\n",
       "      <td>0.035048</td>\n",
       "    </tr>\n",
       "    <tr>\n",
       "      <th>2</th>\n",
       "      <td>46538</td>\n",
       "      <td>B48</td>\n",
       "      <td>629.000000</td>\n",
       "      <td>{128.0: [120.0, 131.0], 129.0: [119.0, 121.0],...</td>\n",
       "      <td>[118.1652126577564, 125.09122652456057]</td>\n",
       "      <td>118.165213</td>\n",
       "      <td>125.091227</td>\n",
       "      <td>4464</td>\n",
       "      <td>Cash &amp; Carry</td>\n",
       "      <td>Audio/Electronic</td>\n",
       "      <td>0.019394</td>\n",
       "      <td>0.020783</td>\n",
       "      <td>0.025072</td>\n",
       "    </tr>\n",
       "    <tr>\n",
       "      <th>3</th>\n",
       "      <td>30784</td>\n",
       "      <td>B251</td>\n",
       "      <td>611.500000</td>\n",
       "      <td>{256.0: [51.0, 58.0], 256.5: [52.0, 56.5], 258...</td>\n",
       "      <td>[266.81200190575197, 46.96101871101871]</td>\n",
       "      <td>266.812002</td>\n",
       "      <td>46.961019</td>\n",
       "      <td>5449</td>\n",
       "      <td>Manjoo</td>\n",
       "      <td>Home &amp; Décor</td>\n",
       "      <td>0.027083</td>\n",
       "      <td>0.037637</td>\n",
       "      <td>0.039245</td>\n",
       "    </tr>\n",
       "    <tr>\n",
       "      <th>4</th>\n",
       "      <td>23494</td>\n",
       "      <td>B39</td>\n",
       "      <td>1718.500000</td>\n",
       "      <td>{18.0: [102.0, 103.0], 19.0: [102.0, 103.0], 2...</td>\n",
       "      <td>[50.058532675009225, 106.37523764932889]</td>\n",
       "      <td>50.058533</td>\n",
       "      <td>106.375238</td>\n",
       "      <td>4711</td>\n",
       "      <td>Monoprix</td>\n",
       "      <td>Supermarket</td>\n",
       "      <td>0.023984</td>\n",
       "      <td>0.015758</td>\n",
       "      <td>0.015764</td>\n",
       "    </tr>\n",
       "  </tbody>\n",
       "</table>\n",
       "</div>"
      ],
      "text/plain": [
       "   frequency store_id         area  \\\n",
       "0     138233      B87  3345.833333   \n",
       "1      48621     B247  1214.833333   \n",
       "2      46538      B48   629.000000   \n",
       "3      30784     B251   611.500000   \n",
       "4      23494      B39  1718.500000   \n",
       "\n",
       "                                          dimensions  \\\n",
       "0  {308.5: [69.0, 92.0], 309.5: [72.5, 104.0], 31...   \n",
       "1  {225.0: [56.0, 56.0], 231.33333333333331: [46....   \n",
       "2  {128.0: [120.0, 131.0], 129.0: [119.0, 121.0],...   \n",
       "3  {256.0: [51.0, 58.0], 256.5: [52.0, 56.5], 258...   \n",
       "4  {18.0: [102.0, 103.0], 19.0: [102.0, 103.0], 2...   \n",
       "\n",
       "                                   centroid           x           y  \\\n",
       "0   [318.9785048914996, 89.388654180502002]  318.978505   89.388654   \n",
       "1   [246.72877631750342, 43.35011277705793]  246.728776   43.350113   \n",
       "2   [118.1652126577564, 125.09122652456057]  118.165213  125.091227   \n",
       "3   [266.81200190575197, 46.96101871101871]  266.812002   46.961019   \n",
       "4  [50.058532675009225, 106.37523764932889]   50.058533  106.375238   \n",
       "\n",
       "   count_of_shoppers       store_name    store_category        pi       piA  \\\n",
       "0              15744        Intermart       Supermarket  0.062773  0.047219   \n",
       "1               6661  Courts Mammouth  Audio/Electronic  0.051985  0.041284   \n",
       "2               4464     Cash & Carry  Audio/Electronic  0.019394  0.020783   \n",
       "3               5449           Manjoo      Home & Décor  0.027083  0.037637   \n",
       "4               4711         Monoprix       Supermarket  0.023984  0.015758   \n",
       "\n",
       "         ss  \n",
       "0  0.063943  \n",
       "1  0.035048  \n",
       "2  0.025072  \n",
       "3  0.039245  \n",
       "4  0.015764  "
      ]
     },
     "execution_count": 12,
     "metadata": {},
     "output_type": "execute_result"
    }
   ],
   "source": [
    "shop_probs_df = process(names, A, pi, shop_df, rep = 1000)\n",
    "shop_probs_df.head()"
   ]
  },
  {
   "cell_type": "code",
   "execution_count": 13,
   "metadata": {},
   "outputs": [],
   "source": [
    "# # Output transition matrix and shop names\n",
    "output = False\n",
    "\n",
    "if output:\n",
    "    np.savez(\n",
    "        data_path + 'shop_markov_data', \n",
    "        shop_names=names,\n",
    "        transition_matrix=A,\n",
    "        initial_probabilities=pi,\n",
    "    )"
   ]
  },
  {
   "cell_type": "code",
   "execution_count": 14,
   "metadata": {},
   "outputs": [],
   "source": [
    "area_shop_df = shop_probs_df[(shop_probs_df.area > 0) & (shop_probs_df.pi > 0) & (shop_probs_df.count_of_shoppers > 0)]"
   ]
  },
  {
   "cell_type": "code",
   "execution_count": 175,
   "metadata": {
    "scrolled": false
   },
   "outputs": [
    {
     "data": {
      "image/png": "[encoded data removed]",
      "text/plain": [
       "<matplotlib.figure.Figure at 0x1c386aa1358>"
      ]
     },
     "metadata": {},
     "output_type": "display_data"
    }
   ],
   "source": [
    "fig, ax = plt.subplots(nrows=1, ncols=1, figsize=(16, 8))\n",
    "\n",
    "x = np.log10(area_shop_df.area.tolist())\n",
    "y = np.log10((area_shop_df.count_of_shoppers / sum(area_shop_df.count_of_shoppers)).tolist())\n",
    "ax.scatter(x, y, c='r', label='Raw data')\n",
    "\n",
    "slope, intercept, x_value, p_value, std_err = linregress(x, y)\n",
    "x_fit = np.linspace(10**(0), 10**(4), 10)\n",
    "y_fit = [10**intercept*x**slope for x in x_fit]\n",
    "ax.plot(\n",
    "    np.log10(x_fit), np.log10(y_fit), \n",
    "    'r--', \n",
    "    label='Power Law Fit ($a_0A^{\\gamma}$) \\n $\\gamma=%.2f \\pm %.2f$' % (slope, std_err)\n",
    ")\n",
    "\n",
    "\n",
    "x = np.log10(area_shop_df.area.tolist())\n",
    "y = np.log10((area_shop_df.pi / sum(area_shop_df.pi)).tolist())\n",
    "ax.scatter(x, y, c='b', label='Initial probability')\n",
    "\n",
    "slope, intercept, x_value, p_value, std_err = linregress(x, y)\n",
    "x_fit = np.linspace(10**(0), 10**(4), 10)\n",
    "y_fit = [10**intercept*x**slope for x in x_fit]\n",
    "ax.plot(\n",
    "    np.log10(x_fit), np.log10(y_fit), \n",
    "    'b--', \n",
    "    label='Power Law Fit ($a_0A^{\\gamma}$) \\n $\\gamma=%.2f \\pm %.2f$' % (slope, std_err)\n",
    ")\n",
    "\n",
    "\n",
    "x = np.log10(area_shop_df.area.tolist())\n",
    "y = np.log10((area_shop_df.ss / sum(area_shop_df.ss)).tolist())\n",
    "ax.scatter(x, y, c='g', label='Stead state')\n",
    "\n",
    "slope, intercept, x_value, p_value, std_err = linregress(x, y)\n",
    "x_fit = np.linspace(10**(0), 10**(4), 10)\n",
    "y_fit = [10**intercept*x**slope for x in x_fit]\n",
    "ax.plot(\n",
    "    np.log10(x_fit), np.log10(y_fit), \n",
    "    'g--', \n",
    "    label='Power Law Fit ($a_0A^{\\gamma}$) \\n $\\gamma=%.2f \\pm %.2f$' % (slope, std_err)\n",
    ")\n",
    "\n",
    "ax.set_xlabel('Area of store (A) [$m^2$]', fontsize=15)\n",
    "ax.set_ylabel('Probability of shopper in shop ($p(A)$)', fontsize=15)\n",
    "# ax.set_xscale('log')\n",
    "# ax.set_yscale('log')\n",
    "ax.legend(fontsize=15);"
   ]
  },
  {
   "cell_type": "markdown",
   "metadata": {},
   "source": [
    "## Transition matrix network"
   ]
  },
  {
   "cell_type": "code",
   "execution_count": null,
   "metadata": {},
   "outputs": [],
   "source": [
    "import networkx as nx"
   ]
  },
  {
   "cell_type": "code",
   "execution_count": null,
   "metadata": {},
   "outputs": [],
   "source": [
    "G = nx.from_numpy_matrix(A[:20, :20], create_using=nx.MultiDiGraph())\n",
    "G = nx.relabel_nodes(G, dict(enumerate(le.inverse_transform(range(len(pi[:20]))))))"
   ]
  },
  {
   "cell_type": "code",
   "execution_count": null,
   "metadata": {},
   "outputs": [],
   "source": [
    "fig, ax = plt.subplots(nrows=1, ncols=1, figsize=(16, 8))\n",
    "labels = {i : i for i in G.nodes()}\n",
    "pos=nx.spring_layout(G)\n",
    "nx.draw(G, pos=pos, ax=ax)\n",
    "nx.draw_networkx_labels(G, pos=pos, labels=labels);"
   ]
  },
  {
   "cell_type": "code",
   "execution_count": 24,
   "metadata": {},
   "outputs": [
    {
     "data": {
      "application/vnd.jupyter.widget-view+json": {
       "model_id": "0b06b46e287c4b6588ac2628e9c0f340",
       "version_major": 2,
       "version_minor": 0
      },
      "text/html": [
       "<p>Failed to display Jupyter Widget of type <code>HBox</code>.</p>\n",
       "<p>\n",
       "  If you're reading this message in Jupyter Notebook or JupyterLab, it may mean\n",
       "  that the widgets JavaScript is still loading. If this message persists, it\n",
       "  likely means that the widgets JavaScript library is either not installed or\n",
       "  not enabled. See the <a href=\"https://ipywidgets.readthedocs.io/en/stable/user_install.html\">Jupyter\n",
       "  Widgets Documentation</a> for setup instructions.\n",
       "</p>\n",
       "<p>\n",
       "  If you're reading this message in another notebook frontend (for example, a static\n",
       "  rendering on GitHub or <a href=\"https://nbviewer.jupyter.org/\">NBViewer</a>),\n",
       "  it may mean that your frontend doesn't currently support widgets.\n",
       "</p>\n"
      ],
      "text/plain": [
       "HBox(children=(IntProgress(value=0, max=8714), HTML(value='')))"
      ]
     },
     "metadata": {},
     "output_type": "display_data"
    },
    {
     "name": "stdout",
     "output_type": "stream",
     "text": [
      "\n"
     ]
    }
   ],
   "source": [
    "def remove_duplicate_stores():\n",
    "    signal_mac_group = r_signal_df.groupby('mac_address')\n",
    "    mac_addresses = r_signal_df.mac_address.unique()\n",
    "\n",
    "    dd_signal = pd.DataFrame()\n",
    "\n",
    "    for macs in tqdm(mac_addresses):\n",
    "        seq = signal_mac_group.get_group(macs)\n",
    "        if len(seq) > 1:\n",
    "            sel = np.ones(len(seq), dtype=bool)\n",
    "            seq_store = seq.store_id.as_matrix()\n",
    "            sel[1:] = seq_store[1:] != seq_store[:-1]\n",
    "            seq = seq[sel]\n",
    "        dd_signal = pd.concat([dd_signal, seq])\n",
    "        \n",
    "    return dd_signal\n",
    "\n",
    "\n",
    "test = remove_duplicate_stores()\n",
    "# dd_signal_df = pd.concat(dd_signal)"
   ]
  },
  {
   "cell_type": "code",
   "execution_count": 27,
   "metadata": {},
   "outputs": [],
   "source": [
    "dd_signal_df = test"
   ]
  },
  {
   "cell_type": "code",
   "execution_count": 28,
   "metadata": {},
   "outputs": [
    {
     "data": {
      "text/html": [
       "<div>\n",
       "<style>\n",
       "    .dataframe thead tr:only-child th {\n",
       "        text-align: right;\n",
       "    }\n",
       "\n",
       "    .dataframe thead th {\n",
       "        text-align: left;\n",
       "    }\n",
       "\n",
       "    .dataframe tbody tr th {\n",
       "        vertical-align: top;\n",
       "    }\n",
       "</style>\n",
       "<table border=\"1\" class=\"dataframe\">\n",
       "  <thead>\n",
       "    <tr style=\"text-align: right;\">\n",
       "      <th></th>\n",
       "      <th>mac_address</th>\n",
       "      <th>wifi_type</th>\n",
       "      <th>date_time</th>\n",
       "      <th>email</th>\n",
       "      <th>store_id</th>\n",
       "      <th>location</th>\n",
       "      <th>x</th>\n",
       "      <th>y</th>\n",
       "      <th>store_category</th>\n",
       "    </tr>\n",
       "  </thead>\n",
       "  <tbody>\n",
       "    <tr>\n",
       "      <th>0</th>\n",
       "      <td>00:01:da:fe:b0:8b</td>\n",
       "      <td>unknown</td>\n",
       "      <td>2016-12-22 16:39:49</td>\n",
       "      <td>unknown</td>\n",
       "      <td>B231</td>\n",
       "      <td>Mall of Mauritius</td>\n",
       "      <td>189.0</td>\n",
       "      <td>55.0</td>\n",
       "      <td>Food</td>\n",
       "    </tr>\n",
       "    <tr>\n",
       "      <th>1</th>\n",
       "      <td>00:02:ac:49:2d:2d</td>\n",
       "      <td>unknown</td>\n",
       "      <td>2016-12-22 20:07:39</td>\n",
       "      <td>unknown</td>\n",
       "      <td>B3</td>\n",
       "      <td>Mall of Mauritius</td>\n",
       "      <td>45.0</td>\n",
       "      <td>31.0</td>\n",
       "      <td>Clothing</td>\n",
       "    </tr>\n",
       "    <tr>\n",
       "      <th>2</th>\n",
       "      <td>00:02:ac:49:2d:2d</td>\n",
       "      <td>unknown</td>\n",
       "      <td>2016-12-22 20:09:41</td>\n",
       "      <td>unknown</td>\n",
       "      <td>B109</td>\n",
       "      <td>Mall of Mauritius</td>\n",
       "      <td>92.0</td>\n",
       "      <td>76.0</td>\n",
       "      <td>Clothing</td>\n",
       "    </tr>\n",
       "    <tr>\n",
       "      <th>4</th>\n",
       "      <td>00:02:ac:49:2d:2d</td>\n",
       "      <td>unknown</td>\n",
       "      <td>2016-12-22 20:11:13</td>\n",
       "      <td>unknown</td>\n",
       "      <td>B123</td>\n",
       "      <td>Mall of Mauritius</td>\n",
       "      <td>130.0</td>\n",
       "      <td>108.0</td>\n",
       "      <td>Footwear</td>\n",
       "    </tr>\n",
       "    <tr>\n",
       "      <th>5</th>\n",
       "      <td>00:02:ac:49:2d:2d</td>\n",
       "      <td>unknown</td>\n",
       "      <td>2016-12-22 20:26:05</td>\n",
       "      <td>unknown</td>\n",
       "      <td>B77</td>\n",
       "      <td>Mall of Mauritius</td>\n",
       "      <td>279.0</td>\n",
       "      <td>110.0</td>\n",
       "      <td>Specialist</td>\n",
       "    </tr>\n",
       "  </tbody>\n",
       "</table>\n",
       "</div>"
      ],
      "text/plain": [
       "         mac_address wifi_type           date_time    email store_id  \\\n",
       "0  00:01:da:fe:b0:8b   unknown 2016-12-22 16:39:49  unknown     B231   \n",
       "1  00:02:ac:49:2d:2d   unknown 2016-12-22 20:07:39  unknown       B3   \n",
       "2  00:02:ac:49:2d:2d   unknown 2016-12-22 20:09:41  unknown     B109   \n",
       "4  00:02:ac:49:2d:2d   unknown 2016-12-22 20:11:13  unknown     B123   \n",
       "5  00:02:ac:49:2d:2d   unknown 2016-12-22 20:26:05  unknown      B77   \n",
       "\n",
       "            location      x      y store_category  \n",
       "0  Mall of Mauritius  189.0   55.0           Food  \n",
       "1  Mall of Mauritius   45.0   31.0       Clothing  \n",
       "2  Mall of Mauritius   92.0   76.0       Clothing  \n",
       "4  Mall of Mauritius  130.0  108.0       Footwear  \n",
       "5  Mall of Mauritius  279.0  110.0     Specialist  "
      ]
     },
     "execution_count": 28,
     "metadata": {},
     "output_type": "execute_result"
    }
   ],
   "source": [
    "dd_signal_df.head()"
   ]
  },
  {
   "cell_type": "code",
   "execution_count": 79,
   "metadata": {},
   "outputs": [],
   "source": [
    "K = 2\n",
    "D = 16\n",
    "\n",
    "pi=np.zeros(K)\n",
    "b=np.zeros((2, D))\n",
    "A=np.ones((2, D, D))\n",
    "\n",
    "names, A[0], b[0] = markov_chain(\n",
    "    dd_signal_df[dd_signal_df.mac_address.isin(shopper_df[shopper_df.length_of_stay < 4000].mac_address[:500])], \n",
    "    return_permitted=True, \n",
    "    on='store_category'\n",
    ")\n",
    "\n",
    "names, A[1], b[1] = markov_chain(\n",
    "    dd_signal_df[dd_signal_df.mac_address.isin(shopper_df[shopper_df.length_of_stay > 11000].mac_address[500:])], \n",
    "    return_permitted=True, \n",
    "    on='store_category'\n",
    ")\n",
    "\n",
    "pi=np.array([0.5, 0.5])"
   ]
  },
  {
   "cell_type": "code",
   "execution_count": 80,
   "metadata": {},
   "outputs": [
    {
     "data": {
      "text/plain": [
       "array([[ 0.  ,  0.  ,  0.1 ,  0.3 ,  0.02,  0.24,  0.06,  0.02,  0.03,\n",
       "         0.05,  0.  ,  0.04,  0.01,  0.06,  0.06,  0.01],\n",
       "       [ 0.  ,  0.  ,  0.08,  0.33,  0.02,  0.25,  0.03,  0.01,  0.02,\n",
       "         0.04,  0.01,  0.04,  0.02,  0.05,  0.1 ,  0.  ]])"
      ]
     },
     "execution_count": 80,
     "metadata": {},
     "output_type": "execute_result"
    }
   ],
   "source": [
    "b.round(2)"
   ]
  },
  {
   "cell_type": "code",
   "execution_count": 92,
   "metadata": {
    "scrolled": true
   },
   "outputs": [
    {
     "data": {
      "text/plain": [
       "array([ 0.025     ,  0.01627287,  0.13582971,  0.37559624,  0.00334746,\n",
       "        0.31495861,  0.03672746,  0.00338845,  0.00088587,  0.03618146,\n",
       "        0.02506994,  0.03713298,  0.00160923,  0.03006293,  0.04698048,\n",
       "        0.00194952])"
      ]
     },
     "execution_count": 92,
     "metadata": {},
     "output_type": "execute_result"
    }
   ],
   "source": [
    "np.diag(A[0])"
   ]
  },
  {
   "cell_type": "code",
   "execution_count": 95,
   "metadata": {
    "scrolled": true
   },
   "outputs": [
    {
     "data": {
      "text/plain": [
       "array([ 0.025 ,  0.025 ,  0.05  ,  0.1   ,  0.025 ,  0.2625,  0.0375,\n",
       "        0.0375,  0.0375,  0.05  ,  0.025 ,  0.1375,  0.025 ,  0.05  ,\n",
       "        0.0875,  0.025 ])"
      ]
     },
     "execution_count": 95,
     "metadata": {},
     "output_type": "execute_result"
    }
   ],
   "source": [
    "A[0][0]"
   ]
  },
  {
   "cell_type": "code",
   "execution_count": 82,
   "metadata": {
    "scrolled": true
   },
   "outputs": [
    {
     "data": {
      "application/vnd.jupyter.widget-view+json": {
       "model_id": "701edf37f3da474b83009e903fd096c4",
       "version_major": 2,
       "version_minor": 0
      },
      "text/html": [
       "<p>Failed to display Jupyter Widget of type <code>HBox</code>.</p>\n",
       "<p>\n",
       "  If you're reading this message in Jupyter Notebook or JupyterLab, it may mean\n",
       "  that the widgets JavaScript is still loading. If this message persists, it\n",
       "  likely means that the widgets JavaScript library is either not installed or\n",
       "  not enabled. See the <a href=\"https://ipywidgets.readthedocs.io/en/stable/user_install.html\">Jupyter\n",
       "  Widgets Documentation</a> for setup instructions.\n",
       "</p>\n",
       "<p>\n",
       "  If you're reading this message in another notebook frontend (for example, a static\n",
       "  rendering on GitHub or <a href=\"https://nbviewer.jupyter.org/\">NBViewer</a>),\n",
       "  it may mean that your frontend doesn't currently support widgets.\n",
       "</p>\n"
      ],
      "text/plain": [
       "HBox(children=(IntProgress(value=0, max=1), HTML(value='')))"
      ]
     },
     "metadata": {},
     "output_type": "display_data"
    },
    {
     "name": "stdout",
     "output_type": "stream",
     "text": [
      "\n"
     ]
    }
   ],
   "source": [
    "names, pi, b, A, gamma = markov_chain_clustering(dd_signal_df, pi, b, A, 1)"
   ]
  },
  {
   "cell_type": "code",
   "execution_count": 91,
   "metadata": {
    "scrolled": true
   },
   "outputs": [
    {
     "data": {
      "image/png": "[encoded data removed]",
      "text/plain": [
       "<matplotlib.figure.Figure at 0x1c3d3212588>"
      ]
     },
     "metadata": {},
     "output_type": "display_data"
    }
   ],
   "source": [
    "plt.hist(gamma[0], bins=100);"
   ]
  },
  {
   "cell_type": "code",
   "execution_count": 96,
   "metadata": {},
   "outputs": [],
   "source": [
    "names, A_all, b_all = markov_chain(\n",
    "    dd_signal_df, \n",
    "    return_permitted=True, \n",
    "    on='store_category'\n",
    ")"
   ]
  },
  {
   "cell_type": "code",
   "execution_count": 135,
   "metadata": {},
   "outputs": [],
   "source": [
    "shop_categories_df = pd.DataFrame.from_records({'store_categories': names, 'pi': b_all})\n",
    "shop_categories_count_df = pd.DataFrame(shop_df.store_category.value_counts().reset_index())\n",
    "shop_categories_count_df.columns = ['store_categories', 'frequency']\n",
    "shop_categories_df = pd.merge(shop_categories_df, shop_categories_count_df, how='left', on='store_categories')"
   ]
  },
  {
   "cell_type": "code",
   "execution_count": 165,
   "metadata": {},
   "outputs": [],
   "source": [
    "b_all = shop_categories_df.pi.as_matrix()\n",
    "b_allA = A_all.T.dot(b_all).tolist()\n",
    "shop_categories_df['piA'] = b_allA"
   ]
  },
  {
   "cell_type": "code",
   "execution_count": 170,
   "metadata": {},
   "outputs": [],
   "source": [
    "b_all = shop_categories_df.pi.as_matrix()\n",
    "\n",
    "for i in range(100):\n",
    "    b_all = A_all.T.dot(b_all).tolist()\n",
    "    \n",
    "shop_categories_df['ss'] = b_all"
   ]
  },
  {
   "cell_type": "code",
   "execution_count": 171,
   "metadata": {},
   "outputs": [
    {
     "data": {
      "image/png": "[encoded data removed]",
      "text/plain": [
       "<matplotlib.figure.Figure at 0x1c386b856d8>"
      ]
     },
     "metadata": {},
     "output_type": "display_data"
    }
   ],
   "source": [
    "fig, ax = plt.subplots(nrows=1, ncols=1, figsize=(16, 8))\n",
    "\n",
    "values = shop_categories_df[\n",
    "    shop_categories_df.frequency.notnull() &\n",
    "    shop_categories_df.pi.notnull()\n",
    "]\n",
    "\n",
    "x = np.log10(values.frequency.tolist())\n",
    "y = np.log10(values.pi.tolist())\n",
    "ax.scatter(x, y, c='r', label='Raw data')\n",
    "\n",
    "slope, intercept, x_value, p_value, std_err = linregress(x, y)\n",
    "x_fit = np.linspace(10**0, 10**1.5, 10)\n",
    "y_fit = [10**intercept*x**slope for x in x_fit]\n",
    "ax.plot(\n",
    "    np.log10(x_fit), np.log10(y_fit), \n",
    "    'r--', \n",
    "    label='Power Law Fit ($a_0A^{\\gamma}$) \\n $\\gamma=%.2f \\pm %.2f$' % (slope, std_err)\n",
    ")\n",
    "\n",
    "\n",
    "x = np.log10(values.frequency.tolist())\n",
    "y = np.log10(values.piA.tolist())\n",
    "ax.scatter(x, y, c='b', label='Raw data')\n",
    "\n",
    "slope, intercept, x_value, p_value, std_err = linregress(x, y)\n",
    "x_fit = np.linspace(10**0, 10**1.5, 10)\n",
    "y_fit = [10**intercept*x**slope for x in x_fit]\n",
    "ax.plot(\n",
    "    np.log10(x_fit), np.log10(y_fit), \n",
    "    'b--', \n",
    "    label='Power Law Fit ($a_0A^{\\gamma}$) \\n $\\gamma=%.2f \\pm %.2f$' % (slope, std_err)\n",
    ")\n",
    "\n",
    "\n",
    "x = np.log10(values.frequency.tolist())\n",
    "y = np.log10(values.ss.tolist())\n",
    "ax.scatter(x, y, c='g', label='Raw data')\n",
    "\n",
    "slope, intercept, x_value, p_value, std_err = linregress(x, y)\n",
    "x_fit = np.linspace(10**0, 10**1.5, 10)\n",
    "y_fit = [10**intercept*x**slope for x in x_fit]\n",
    "ax.plot(\n",
    "    np.log10(x_fit), np.log10(y_fit), \n",
    "    'g--', \n",
    "    label='Power Law Fit ($a_0A^{\\gamma}$) \\n $\\gamma=%.2f \\pm %.2f$' % (slope, std_err)\n",
    ")\n",
    "\n",
    "ax.set_xlabel('Area of store (A) [$m^2$]', fontsize=15)\n",
    "ax.set_ylabel('Probability of shopper in shop ($p(A)$)', fontsize=15)\n",
    "# ax.set_xscale('log')\n",
    "# ax.set_yscale('log')\n",
    "ax.legend(fontsize=15);"
   ]
  },
  {
   "cell_type": "code",
   "execution_count": 177,
   "metadata": {},
   "outputs": [
    {
     "data": {
      "text/html": [
       "<div>\n",
       "<style>\n",
       "    .dataframe thead tr:only-child th {\n",
       "        text-align: right;\n",
       "    }\n",
       "\n",
       "    .dataframe thead th {\n",
       "        text-align: left;\n",
       "    }\n",
       "\n",
       "    .dataframe tbody tr th {\n",
       "        vertical-align: top;\n",
       "    }\n",
       "</style>\n",
       "<table border=\"1\" class=\"dataframe\">\n",
       "  <thead>\n",
       "    <tr style=\"text-align: right;\">\n",
       "      <th></th>\n",
       "      <th>pi</th>\n",
       "      <th>store_categories</th>\n",
       "      <th>frequency</th>\n",
       "      <th>piA</th>\n",
       "      <th>ss</th>\n",
       "    </tr>\n",
       "  </thead>\n",
       "  <tbody>\n",
       "    <tr>\n",
       "      <th>0</th>\n",
       "      <td>0.000230</td>\n",
       "      <td>ATM</td>\n",
       "      <td>1.0</td>\n",
       "      <td>0.001130</td>\n",
       "      <td>0.001075</td>\n",
       "    </tr>\n",
       "    <tr>\n",
       "      <th>1</th>\n",
       "      <td>0.000230</td>\n",
       "      <td>Art, Antiques</td>\n",
       "      <td>1.0</td>\n",
       "      <td>0.001209</td>\n",
       "      <td>0.001447</td>\n",
       "    </tr>\n",
       "    <tr>\n",
       "      <th>10</th>\n",
       "      <td>0.003443</td>\n",
       "      <td>Movie &amp; Entertainment</td>\n",
       "      <td>2.0</td>\n",
       "      <td>0.005259</td>\n",
       "      <td>0.004964</td>\n",
       "    </tr>\n",
       "    <tr>\n",
       "      <th>15</th>\n",
       "      <td>0.004361</td>\n",
       "      <td>Toys &amp; Education</td>\n",
       "      <td>2.0</td>\n",
       "      <td>0.014366</td>\n",
       "      <td>0.014949</td>\n",
       "    </tr>\n",
       "    <tr>\n",
       "      <th>4</th>\n",
       "      <td>0.017787</td>\n",
       "      <td>Eyewear &amp; Optomstrist</td>\n",
       "      <td>3.0</td>\n",
       "      <td>0.015776</td>\n",
       "      <td>0.016648</td>\n",
       "    </tr>\n",
       "    <tr>\n",
       "      <th>7</th>\n",
       "      <td>0.012738</td>\n",
       "      <td>Hair, Health, Beauty</td>\n",
       "      <td>8.0</td>\n",
       "      <td>0.016926</td>\n",
       "      <td>0.017972</td>\n",
       "    </tr>\n",
       "    <tr>\n",
       "      <th>12</th>\n",
       "      <td>0.016296</td>\n",
       "      <td>Services</td>\n",
       "      <td>2.0</td>\n",
       "      <td>0.028469</td>\n",
       "      <td>0.027905</td>\n",
       "    </tr>\n",
       "    <tr>\n",
       "      <th>8</th>\n",
       "      <td>0.027083</td>\n",
       "      <td>Home &amp; Décor</td>\n",
       "      <td>1.0</td>\n",
       "      <td>0.038626</td>\n",
       "      <td>0.037732</td>\n",
       "    </tr>\n",
       "    <tr>\n",
       "      <th>9</th>\n",
       "      <td>0.039247</td>\n",
       "      <td>Jewellery &amp; Accessories</td>\n",
       "      <td>8.0</td>\n",
       "      <td>0.039251</td>\n",
       "      <td>0.039990</td>\n",
       "    </tr>\n",
       "    <tr>\n",
       "      <th>11</th>\n",
       "      <td>0.048657</td>\n",
       "      <td>None</td>\n",
       "      <td>NaN</td>\n",
       "      <td>0.051737</td>\n",
       "      <td>0.047418</td>\n",
       "    </tr>\n",
       "    <tr>\n",
       "      <th>6</th>\n",
       "      <td>0.042690</td>\n",
       "      <td>Footwear</td>\n",
       "      <td>10.0</td>\n",
       "      <td>0.046353</td>\n",
       "      <td>0.047747</td>\n",
       "    </tr>\n",
       "    <tr>\n",
       "      <th>13</th>\n",
       "      <td>0.053707</td>\n",
       "      <td>Specialist</td>\n",
       "      <td>8.0</td>\n",
       "      <td>0.076250</td>\n",
       "      <td>0.078805</td>\n",
       "    </tr>\n",
       "    <tr>\n",
       "      <th>14</th>\n",
       "      <td>0.111200</td>\n",
       "      <td>Supermarket</td>\n",
       "      <td>3.0</td>\n",
       "      <td>0.086397</td>\n",
       "      <td>0.091876</td>\n",
       "    </tr>\n",
       "    <tr>\n",
       "      <th>2</th>\n",
       "      <td>0.099151</td>\n",
       "      <td>Audio/Electronic</td>\n",
       "      <td>9.0</td>\n",
       "      <td>0.095609</td>\n",
       "      <td>0.094829</td>\n",
       "    </tr>\n",
       "    <tr>\n",
       "      <th>5</th>\n",
       "      <td>0.207826</td>\n",
       "      <td>Food</td>\n",
       "      <td>21.0</td>\n",
       "      <td>0.145417</td>\n",
       "      <td>0.127261</td>\n",
       "    </tr>\n",
       "    <tr>\n",
       "      <th>3</th>\n",
       "      <td>0.315355</td>\n",
       "      <td>Clothing</td>\n",
       "      <td>33.0</td>\n",
       "      <td>0.337224</td>\n",
       "      <td>0.349381</td>\n",
       "    </tr>\n",
       "  </tbody>\n",
       "</table>\n",
       "</div>"
      ],
      "text/plain": [
       "          pi         store_categories  frequency       piA        ss\n",
       "0   0.000230                      ATM        1.0  0.001130  0.001075\n",
       "1   0.000230            Art, Antiques        1.0  0.001209  0.001447\n",
       "10  0.003443    Movie & Entertainment        2.0  0.005259  0.004964\n",
       "15  0.004361         Toys & Education        2.0  0.014366  0.014949\n",
       "4   0.017787    Eyewear & Optomstrist        3.0  0.015776  0.016648\n",
       "7   0.012738     Hair, Health, Beauty        8.0  0.016926  0.017972\n",
       "12  0.016296                 Services        2.0  0.028469  0.027905\n",
       "8   0.027083             Home & Décor        1.0  0.038626  0.037732\n",
       "9   0.039247  Jewellery & Accessories        8.0  0.039251  0.039990\n",
       "11  0.048657                     None        NaN  0.051737  0.047418\n",
       "6   0.042690                 Footwear       10.0  0.046353  0.047747\n",
       "13  0.053707               Specialist        8.0  0.076250  0.078805\n",
       "14  0.111200              Supermarket        3.0  0.086397  0.091876\n",
       "2   0.099151         Audio/Electronic        9.0  0.095609  0.094829\n",
       "5   0.207826                     Food       21.0  0.145417  0.127261\n",
       "3   0.315355                 Clothing       33.0  0.337224  0.349381"
      ]
     },
     "execution_count": 177,
     "metadata": {},
     "output_type": "execute_result"
    }
   ],
   "source": [
    "shop_categories_df.sort_values('ss')"
   ]
  },
  {
   "cell_type": "code",
   "execution_count": null,
   "metadata": {},
   "outputs": [],
   "source": []
  }
 ],
 "metadata": {
  "kernelspec": {
   "display_name": "Python 3",
   "language": "python",
   "name": "python3"
  },
  "language_info": {
   "codemirror_mode": {
    "name": "ipython",
    "version": 3
   },
   "file_extension": ".py",
   "mimetype": "text/x-python",
   "name": "python",
   "nbconvert_exporter": "python",
   "pygments_lexer": "ipython3",
   "version": "3.6.2"
  },
  "varInspector": {
   "cols": {
    "lenName": 16,
    "lenType": 16,
    "lenVar": 40
   },
   "kernels_config": {
    "python": {
     "delete_cmd_postfix": "",
     "delete_cmd_prefix": "del ",
     "library": "var_list.py",
     "varRefreshCmd": "print(var_dic_list())"
    },
    "r": {
     "delete_cmd_postfix": ") ",
     "delete_cmd_prefix": "rm(",
     "library": "var_list.r",
     "varRefreshCmd": "cat(var_dic_list()) "
    }
   },
   "types_to_exclude": [
    "module",
    "function",
    "builtin_function_or_method",
    "instance",
    "_Feature"
   ],
   "window_display": false
  }
 },
 "nbformat": 4,
 "nbformat_minor": 2
}
