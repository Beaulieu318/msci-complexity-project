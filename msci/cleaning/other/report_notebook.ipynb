{
 "cells": [
  {
   "cell_type": "code",
   "execution_count": 2,
   "metadata": {},
   "outputs": [],
   "source": [
    "import pandas as pd\n",
    "import numpy as np\n",
    "\n",
    "from sklearn.cluster import KMeans, SpectralClustering\n",
    "from sklearn.mixture import GaussianMixture, BayesianGaussianMixture\n",
    "from sklearn.preprocessing import scale\n",
    "\n",
    "%matplotlib inline\n",
    "import matplotlib\n",
    "import matplotlib.pyplot as plt\n",
    "import matplotlib.image as mpimg\n",
    "import matplotlib.cm as cm\n",
    "import os\n",
    "matplotlib.style.use('ggplot')\n",
    "\n",
    "import seaborn as sns"
   ]
  },
  {
   "cell_type": "code",
   "execution_count": 8,
   "metadata": {},
   "outputs": [
    {
     "name": "stdout",
     "output_type": "stream",
     "text": [
      "The autoreload extension is already loaded. To reload it, use:\n",
      "  %reload_ext autoreload\n"
     ]
    }
   ],
   "source": [
    "%load_ext autoreload\n",
    "%autoreload 2"
   ]
  },
  {
   "cell_type": "code",
   "execution_count": 9,
   "metadata": {},
   "outputs": [],
   "source": [
    "from msci.utils import utils"
   ]
  },
  {
   "cell_type": "code",
   "execution_count": 41,
   "metadata": {},
   "outputs": [],
   "source": [
    "COLUMNS_TO_IMPORT = ['mac_address', 'date_time', 'location', 'store_id', 'x', 'y', 'wifi_type', 'email']"
   ]
  },
  {
   "cell_type": "code",
   "execution_count": 42,
   "metadata": {},
   "outputs": [],
   "source": [
    "shopper_df = pd.read_csv('/Users/SebastianLee/Documents/Repos/msci-complexity-project/msci/data/bag_mus_12-22-2016.csv', usecols=COLUMNS_TO_IMPORT)"
   ]
  },
  {
   "cell_type": "code",
   "execution_count": 43,
   "metadata": {},
   "outputs": [
    {
     "data": {
      "text/plain": [
       "['Mall of Mauritius', 'Home & Leisure', 'Phoenix Mall']"
      ]
     },
     "execution_count": 43,
     "metadata": {},
     "output_type": "execute_result"
    }
   ],
   "source": [
    "shopper_df.location.drop_duplicates().tolist()"
   ]
  },
  {
   "cell_type": "code",
   "execution_count": 44,
   "metadata": {},
   "outputs": [],
   "source": [
    "mac_address_df = utils.import_mac_addresses()"
   ]
  },
  {
   "cell_type": "code",
   "execution_count": 4,
   "metadata": {},
   "outputs": [
    {
     "data": {
      "text/html": [
       "<div>\n",
       "<style>\n",
       "    .dataframe thead tr:only-child th {\n",
       "        text-align: right;\n",
       "    }\n",
       "\n",
       "    .dataframe thead th {\n",
       "        text-align: left;\n",
       "    }\n",
       "\n",
       "    .dataframe tbody tr th {\n",
       "        vertical-align: top;\n",
       "    }\n",
       "</style>\n",
       "<table border=\"1\" class=\"dataframe\">\n",
       "  <thead>\n",
       "    <tr style=\"text-align: right;\">\n",
       "      <th></th>\n",
       "      <th>frequency</th>\n",
       "      <th>mac_address</th>\n",
       "      <th>centroid</th>\n",
       "      <th>radius_of_gyration</th>\n",
       "      <th>manufacturer</th>\n",
       "      <th>count_density_variance</th>\n",
       "      <th>length_of_stay</th>\n",
       "      <th>is_out_of_hours</th>\n",
       "      <th>av_speed</th>\n",
       "      <th>av_turning_angle</th>\n",
       "      <th>total_turning_angle</th>\n",
       "      <th>av_turning_angle_velocity</th>\n",
       "      <th>av_path_length</th>\n",
       "      <th>total_path_length</th>\n",
       "      <th>av_straightness</th>\n",
       "      <th>av_speed_from_total</th>\n",
       "      <th>turning_angle_density</th>\n",
       "      <th>wifi_type</th>\n",
       "    </tr>\n",
       "  </thead>\n",
       "  <tbody>\n",
       "    <tr>\n",
       "      <th>0</th>\n",
       "      <td>4344</td>\n",
       "      <td>bc:20:10:8c:fe:05</td>\n",
       "      <td>[ 248.77371087   52.52286679]</td>\n",
       "      <td>12.025153</td>\n",
       "      <td>NaN</td>\n",
       "      <td>10.071358</td>\n",
       "      <td>86335</td>\n",
       "      <td>1</td>\n",
       "      <td>0.825502</td>\n",
       "      <td>2.020544</td>\n",
       "      <td>8561.045646</td>\n",
       "      <td>0.006382</td>\n",
       "      <td>9.778814</td>\n",
       "      <td>42469.389503</td>\n",
       "      <td>2.982753</td>\n",
       "      <td>0.491914</td>\n",
       "      <td>0.201582</td>\n",
       "      <td>unknown</td>\n",
       "    </tr>\n",
       "    <tr>\n",
       "      <th>1</th>\n",
       "      <td>4078</td>\n",
       "      <td>38:ff:36:2d:f1:88</td>\n",
       "      <td>[ 295.51814615   29.36096126]</td>\n",
       "      <td>16.875408</td>\n",
       "      <td>Ruckus Wireless</td>\n",
       "      <td>6.927397</td>\n",
       "      <td>86335</td>\n",
       "      <td>1</td>\n",
       "      <td>0.888605</td>\n",
       "      <td>1.945714</td>\n",
       "      <td>6516.196923</td>\n",
       "      <td>-0.029064</td>\n",
       "      <td>11.785791</td>\n",
       "      <td>48050.668616</td>\n",
       "      <td>3.281043</td>\n",
       "      <td>0.556561</td>\n",
       "      <td>0.135611</td>\n",
       "      <td>Discovered-AP</td>\n",
       "    </tr>\n",
       "    <tr>\n",
       "      <th>2</th>\n",
       "      <td>4024</td>\n",
       "      <td>9c:99:a0:07:5e:a9</td>\n",
       "      <td>[ 254.38680417   53.64417661]</td>\n",
       "      <td>10.124160</td>\n",
       "      <td>Xiaomi Communications Co Ltd</td>\n",
       "      <td>11.369713</td>\n",
       "      <td>86335</td>\n",
       "      <td>1</td>\n",
       "      <td>0.848888</td>\n",
       "      <td>2.027772</td>\n",
       "      <td>8060.395190</td>\n",
       "      <td>0.000939</td>\n",
       "      <td>9.815611</td>\n",
       "      <td>39488.202654</td>\n",
       "      <td>2.854801</td>\n",
       "      <td>0.457383</td>\n",
       "      <td>0.204122</td>\n",
       "      <td>unknown</td>\n",
       "    </tr>\n",
       "    <tr>\n",
       "      <th>3</th>\n",
       "      <td>3972</td>\n",
       "      <td>c4:f0:81:19:be:fc</td>\n",
       "      <td>[ 242.23308996   52.00499329]</td>\n",
       "      <td>8.260927</td>\n",
       "      <td>HUAWEI TECHNOLOGIES CO.,LTD</td>\n",
       "      <td>10.447394</td>\n",
       "      <td>86284</td>\n",
       "      <td>1</td>\n",
       "      <td>0.787383</td>\n",
       "      <td>2.096552</td>\n",
       "      <td>8195.419843</td>\n",
       "      <td>0.001840</td>\n",
       "      <td>9.093106</td>\n",
       "      <td>36108.722719</td>\n",
       "      <td>2.904129</td>\n",
       "      <td>0.418487</td>\n",
       "      <td>0.226965</td>\n",
       "      <td>unknown</td>\n",
       "    </tr>\n",
       "    <tr>\n",
       "      <th>4</th>\n",
       "      <td>3876</td>\n",
       "      <td>e8:de:27:5e:bf:99</td>\n",
       "      <td>[ 197.38132095   17.06037152]</td>\n",
       "      <td>49.939965</td>\n",
       "      <td>TP-LINK TECHNOLOGIES CO.,LTD.</td>\n",
       "      <td>6.613266</td>\n",
       "      <td>86089</td>\n",
       "      <td>1</td>\n",
       "      <td>2.490503</td>\n",
       "      <td>1.439755</td>\n",
       "      <td>5564.654963</td>\n",
       "      <td>-0.000188</td>\n",
       "      <td>35.829046</td>\n",
       "      <td>138837.554597</td>\n",
       "      <td>3.394850</td>\n",
       "      <td>1.612721</td>\n",
       "      <td>0.040080</td>\n",
       "      <td>Discovered-AP</td>\n",
       "    </tr>\n",
       "  </tbody>\n",
       "</table>\n",
       "</div>"
      ],
      "text/plain": [
       "   frequency        mac_address                       centroid  \\\n",
       "0       4344  bc:20:10:8c:fe:05  [ 248.77371087   52.52286679]   \n",
       "1       4078  38:ff:36:2d:f1:88  [ 295.51814615   29.36096126]   \n",
       "2       4024  9c:99:a0:07:5e:a9  [ 254.38680417   53.64417661]   \n",
       "3       3972  c4:f0:81:19:be:fc  [ 242.23308996   52.00499329]   \n",
       "4       3876  e8:de:27:5e:bf:99  [ 197.38132095   17.06037152]   \n",
       "\n",
       "   radius_of_gyration                   manufacturer  count_density_variance  \\\n",
       "0           12.025153                            NaN               10.071358   \n",
       "1           16.875408                Ruckus Wireless                6.927397   \n",
       "2           10.124160   Xiaomi Communications Co Ltd               11.369713   \n",
       "3            8.260927    HUAWEI TECHNOLOGIES CO.,LTD               10.447394   \n",
       "4           49.939965  TP-LINK TECHNOLOGIES CO.,LTD.                6.613266   \n",
       "\n",
       "   length_of_stay  is_out_of_hours  av_speed  av_turning_angle  \\\n",
       "0           86335                1  0.825502          2.020544   \n",
       "1           86335                1  0.888605          1.945714   \n",
       "2           86335                1  0.848888          2.027772   \n",
       "3           86284                1  0.787383          2.096552   \n",
       "4           86089                1  2.490503          1.439755   \n",
       "\n",
       "   total_turning_angle  av_turning_angle_velocity  av_path_length  \\\n",
       "0          8561.045646                   0.006382        9.778814   \n",
       "1          6516.196923                  -0.029064       11.785791   \n",
       "2          8060.395190                   0.000939        9.815611   \n",
       "3          8195.419843                   0.001840        9.093106   \n",
       "4          5564.654963                  -0.000188       35.829046   \n",
       "\n",
       "   total_path_length  av_straightness  av_speed_from_total  \\\n",
       "0       42469.389503         2.982753             0.491914   \n",
       "1       48050.668616         3.281043             0.556561   \n",
       "2       39488.202654         2.854801             0.457383   \n",
       "3       36108.722719         2.904129             0.418487   \n",
       "4      138837.554597         3.394850             1.612721   \n",
       "\n",
       "   turning_angle_density      wifi_type  \n",
       "0               0.201582        unknown  \n",
       "1               0.135611  Discovered-AP  \n",
       "2               0.204122        unknown  \n",
       "3               0.226965        unknown  \n",
       "4               0.040080  Discovered-AP  "
      ]
     },
     "execution_count": 4,
     "metadata": {},
     "output_type": "execute_result"
    }
   ],
   "source": [
    "mac_address_df.head()"
   ]
  },
  {
   "cell_type": "code",
   "execution_count": 5,
   "metadata": {},
   "outputs": [],
   "source": [
    "signal_df = utils.import_signals()"
   ]
  },
  {
   "cell_type": "code",
   "execution_count": 6,
   "metadata": {},
   "outputs": [
    {
     "data": {
      "text/html": [
       "<div>\n",
       "<style>\n",
       "    .dataframe thead tr:only-child th {\n",
       "        text-align: right;\n",
       "    }\n",
       "\n",
       "    .dataframe thead th {\n",
       "        text-align: left;\n",
       "    }\n",
       "\n",
       "    .dataframe tbody tr th {\n",
       "        vertical-align: top;\n",
       "    }\n",
       "</style>\n",
       "<table border=\"1\" class=\"dataframe\">\n",
       "  <thead>\n",
       "    <tr style=\"text-align: right;\">\n",
       "      <th></th>\n",
       "      <th>mac_address</th>\n",
       "      <th>wifi_type</th>\n",
       "      <th>date_time</th>\n",
       "      <th>email</th>\n",
       "      <th>store_id</th>\n",
       "      <th>location</th>\n",
       "      <th>x</th>\n",
       "      <th>y</th>\n",
       "    </tr>\n",
       "  </thead>\n",
       "  <tbody>\n",
       "    <tr>\n",
       "      <th>0</th>\n",
       "      <td>fe:55:36:4e:bd:83</td>\n",
       "      <td>lawifiuser</td>\n",
       "      <td>2016-12-22 00:00:04</td>\n",
       "      <td>unknown</td>\n",
       "      <td>NaN</td>\n",
       "      <td>Mall of Mauritius</td>\n",
       "      <td>151.0</td>\n",
       "      <td>18.0</td>\n",
       "    </tr>\n",
       "    <tr>\n",
       "      <th>85</th>\n",
       "      <td>dc:cf:96:e8:01:53</td>\n",
       "      <td>unknown</td>\n",
       "      <td>2016-12-22 00:00:04</td>\n",
       "      <td>unknown</td>\n",
       "      <td>A165</td>\n",
       "      <td>Mall of Mauritius</td>\n",
       "      <td>252.0</td>\n",
       "      <td>93.0</td>\n",
       "    </tr>\n",
       "    <tr>\n",
       "      <th>84</th>\n",
       "      <td>dc:d9:16:77:4d:a5</td>\n",
       "      <td>unknown</td>\n",
       "      <td>2016-12-22 00:00:04</td>\n",
       "      <td>unknown</td>\n",
       "      <td>NaN</td>\n",
       "      <td>Mall of Mauritius</td>\n",
       "      <td>111.0</td>\n",
       "      <td>111.0</td>\n",
       "    </tr>\n",
       "    <tr>\n",
       "      <th>83</th>\n",
       "      <td>dc:ee:06:c5:51:3c</td>\n",
       "      <td>unknown</td>\n",
       "      <td>2016-12-22 00:00:04</td>\n",
       "      <td>unknown</td>\n",
       "      <td>P0001</td>\n",
       "      <td>Mall of Mauritius</td>\n",
       "      <td>22.0</td>\n",
       "      <td>26.0</td>\n",
       "    </tr>\n",
       "    <tr>\n",
       "      <th>82</th>\n",
       "      <td>e8:3a:12:23:c3:33</td>\n",
       "      <td>unknown</td>\n",
       "      <td>2016-12-22 00:00:04</td>\n",
       "      <td>unknown</td>\n",
       "      <td>A141A</td>\n",
       "      <td>Mall of Mauritius</td>\n",
       "      <td>151.0</td>\n",
       "      <td>67.0</td>\n",
       "    </tr>\n",
       "  </tbody>\n",
       "</table>\n",
       "</div>"
      ],
      "text/plain": [
       "          mac_address   wifi_type           date_time    email store_id  \\\n",
       "0   fe:55:36:4e:bd:83  lawifiuser 2016-12-22 00:00:04  unknown      NaN   \n",
       "85  dc:cf:96:e8:01:53     unknown 2016-12-22 00:00:04  unknown     A165   \n",
       "84  dc:d9:16:77:4d:a5     unknown 2016-12-22 00:00:04  unknown      NaN   \n",
       "83  dc:ee:06:c5:51:3c     unknown 2016-12-22 00:00:04  unknown    P0001   \n",
       "82  e8:3a:12:23:c3:33     unknown 2016-12-22 00:00:04  unknown    A141A   \n",
       "\n",
       "             location      x      y  \n",
       "0   Mall of Mauritius  151.0   18.0  \n",
       "85  Mall of Mauritius  252.0   93.0  \n",
       "84  Mall of Mauritius  111.0  111.0  \n",
       "83  Mall of Mauritius   22.0   26.0  \n",
       "82  Mall of Mauritius  151.0   67.0  "
      ]
     },
     "execution_count": 6,
     "metadata": {},
     "output_type": "execute_result"
    }
   ],
   "source": [
    "signal_df.head()"
   ]
  },
  {
   "cell_type": "code",
   "execution_count": 7,
   "metadata": {},
   "outputs": [],
   "source": [
    "filter_df = signal_df.filter(items=['mac_address', 'date_time', 'x', 'y'])"
   ]
  },
  {
   "cell_type": "code",
   "execution_count": 8,
   "metadata": {},
   "outputs": [
    {
     "data": {
      "text/html": [
       "<div>\n",
       "<style>\n",
       "    .dataframe thead tr:only-child th {\n",
       "        text-align: right;\n",
       "    }\n",
       "\n",
       "    .dataframe thead th {\n",
       "        text-align: left;\n",
       "    }\n",
       "\n",
       "    .dataframe tbody tr th {\n",
       "        vertical-align: top;\n",
       "    }\n",
       "</style>\n",
       "<table border=\"1\" class=\"dataframe\">\n",
       "  <thead>\n",
       "    <tr style=\"text-align: right;\">\n",
       "      <th></th>\n",
       "      <th>mac_address</th>\n",
       "      <th>date_time</th>\n",
       "      <th>x</th>\n",
       "      <th>y</th>\n",
       "    </tr>\n",
       "  </thead>\n",
       "  <tbody>\n",
       "    <tr>\n",
       "      <th>0</th>\n",
       "      <td>fe:55:36:4e:bd:83</td>\n",
       "      <td>2016-12-22 00:00:04</td>\n",
       "      <td>151.0</td>\n",
       "      <td>18.0</td>\n",
       "    </tr>\n",
       "    <tr>\n",
       "      <th>85</th>\n",
       "      <td>dc:cf:96:e8:01:53</td>\n",
       "      <td>2016-12-22 00:00:04</td>\n",
       "      <td>252.0</td>\n",
       "      <td>93.0</td>\n",
       "    </tr>\n",
       "    <tr>\n",
       "      <th>84</th>\n",
       "      <td>dc:d9:16:77:4d:a5</td>\n",
       "      <td>2016-12-22 00:00:04</td>\n",
       "      <td>111.0</td>\n",
       "      <td>111.0</td>\n",
       "    </tr>\n",
       "    <tr>\n",
       "      <th>83</th>\n",
       "      <td>dc:ee:06:c5:51:3c</td>\n",
       "      <td>2016-12-22 00:00:04</td>\n",
       "      <td>22.0</td>\n",
       "      <td>26.0</td>\n",
       "    </tr>\n",
       "    <tr>\n",
       "      <th>82</th>\n",
       "      <td>e8:3a:12:23:c3:33</td>\n",
       "      <td>2016-12-22 00:00:04</td>\n",
       "      <td>151.0</td>\n",
       "      <td>67.0</td>\n",
       "    </tr>\n",
       "  </tbody>\n",
       "</table>\n",
       "</div>"
      ],
      "text/plain": [
       "          mac_address           date_time      x      y\n",
       "0   fe:55:36:4e:bd:83 2016-12-22 00:00:04  151.0   18.0\n",
       "85  dc:cf:96:e8:01:53 2016-12-22 00:00:04  252.0   93.0\n",
       "84  dc:d9:16:77:4d:a5 2016-12-22 00:00:04  111.0  111.0\n",
       "83  dc:ee:06:c5:51:3c 2016-12-22 00:00:04   22.0   26.0\n",
       "82  e8:3a:12:23:c3:33 2016-12-22 00:00:04  151.0   67.0"
      ]
     },
     "execution_count": 8,
     "metadata": {},
     "output_type": "execute_result"
    }
   ],
   "source": [
    "filter_df.head()"
   ]
  },
  {
   "cell_type": "code",
   "execution_count": 4,
   "metadata": {},
   "outputs": [
    {
     "name": "stdout",
     "output_type": "stream",
     "text": [
      "Number of Signals in Mall of Mauritius 2762923\n",
      "Number of Signals in Phoenix Mall 1617170\n",
      "Number of Signals in Home & Leisure 105856\n",
      "Number of Devices in Mall of Mauritius 154152\n",
      "Number of Devices in Phoenix Mall 90901\n",
      "Number of Devices in Home & Leisure 12555\n"
     ]
    }
   ],
   "source": [
    "v1_mm_df = utils.import_signals(mall='Mall of Mauritius', v1=True)\n",
    "v1_p_df = utils.import_signals(mall='Phoenix Mall', v1=True)\n",
    "v1_hl_df = utils.import_signals(mall='Home & Leisure', v1=True)\n",
    "v1_mm_macs = v1_mm_df.mac_address.drop_duplicates().tolist()\n",
    "v1_p_macs = v1_p_df.mac_address.drop_duplicates().tolist()\n",
    "v1_hl_macs = v1_hl_df.mac_address.drop_duplicates().tolist()\n",
    "print('Number of Signals in Mall of Mauritius', len(v1_mm_df))\n",
    "print('Number of Signals in Phoenix Mall', len(v1_p_df))\n",
    "print('Number of Signals in Home & Leisure', len(v1_hl_df))\n",
    "print('Number of Devices in Mall of Mauritius', len(v1_mm_macs))\n",
    "print('Number of Devices in Phoenix Mall', len(v1_p_macs))\n",
    "print('Number of Devices in Home & Leisure', len(v1_hl_macs))"
   ]
  },
  {
   "cell_type": "code",
   "execution_count": 28,
   "metadata": {},
   "outputs": [],
   "source": [
    "mm_df = utils.import_signals(mall='Mall of Mauritius')\n",
    "p_df = utils.import_signals(mall='Phoenix Mall')\n",
    "hl_df = utils.import_signals(mall='Home & Leisure')"
   ]
  },
  {
   "cell_type": "code",
   "execution_count": 29,
   "metadata": {},
   "outputs": [],
   "source": [
    "mm_macs = mm_df.mac_address.drop_duplicates().tolist()\n",
    "p_macs = p_df.mac_address.drop_duplicates().tolist()\n",
    "hl_macs = hl_df.mac_address.drop_duplicates().tolist()"
   ]
  },
  {
   "cell_type": "code",
   "execution_count": 30,
   "metadata": {},
   "outputs": [
    {
     "name": "stdout",
     "output_type": "stream",
     "text": [
      "Number of Signals in Mall of Mauritius 2367624\n",
      "Number of Signals in Phoenix Mall 1515481\n",
      "Number of Signals in Home & Leisure 102668\n"
     ]
    }
   ],
   "source": [
    "print('Number of Signals in Mall of Mauritius', len(mm_df))\n",
    "print('Number of Signals in Phoenix Mall', len(p_df))\n",
    "print('Number of Signals in Home & Leisure', len(hl_df))"
   ]
  },
  {
   "cell_type": "code",
   "execution_count": 31,
   "metadata": {},
   "outputs": [
    {
     "name": "stdout",
     "output_type": "stream",
     "text": [
      "Number of Devices in Mall of Mauritius 154152\n",
      "Number of Devices in Phoenix Mall 90901\n",
      "Number of Devices in Home & Leisure 12555\n"
     ]
    }
   ],
   "source": [
    "print('Number of Devices in Mall of Mauritius', len(mm_macs))\n",
    "print('Number of Devices in Phoenix Mall', len(p_macs))\n",
    "print('Number of Devices in Home & Leisure', len(hl_macs))"
   ]
  },
  {
   "cell_type": "code",
   "execution_count": 10,
   "metadata": {},
   "outputs": [],
   "source": [
    "shopper_df = utils.import_signals(v1=True)"
   ]
  },
  {
   "cell_type": "code",
   "execution_count": 11,
   "metadata": {},
   "outputs": [],
   "source": [
    "from msci.cleaning.duplicate_analysis import *"
   ]
  },
  {
   "cell_type": "code",
   "execution_count": 12,
   "metadata": {},
   "outputs": [],
   "source": [
    "dups = identify_duplicate_data(shopper_df)\n",
    "duplicate_macs = dups[1]\n",
    "grouped = shopper_df.groupby('mac_address')\n",
    "group_dup_ex = grouped.get_group(duplicate_macs[0])"
   ]
  },
  {
   "cell_type": "code",
   "execution_count": 36,
   "metadata": {},
   "outputs": [
    {
     "ename": "KeyboardInterrupt",
     "evalue": "",
     "traceback": [
      "\u001b[0;31m---------------------------------------------------------------------------\u001b[0m",
      "\u001b[0;31mKeyboardInterrupt\u001b[0m                         Traceback (most recent call last)",
      "\u001b[0;32m<ipython-input-36-4a221638f00a>\u001b[0m in \u001b[0;36m<module>\u001b[0;34m()\u001b[0m\n\u001b[1;32m      2\u001b[0m \u001b[0;32mfor\u001b[0m \u001b[0mmac\u001b[0m \u001b[0;32min\u001b[0m \u001b[0mduplicate_macs\u001b[0m\u001b[0;34m:\u001b[0m\u001b[0;34m\u001b[0m\u001b[0m\n\u001b[1;32m      3\u001b[0m     \u001b[0mgroup\u001b[0m \u001b[0;34m=\u001b[0m \u001b[0mgrouped\u001b[0m\u001b[0;34m.\u001b[0m\u001b[0mget_group\u001b[0m\u001b[0;34m(\u001b[0m\u001b[0mmac\u001b[0m\u001b[0;34m)\u001b[0m\u001b[0;34m\u001b[0m\u001b[0m\n\u001b[0;32m----> 4\u001b[0;31m     \u001b[0mtimes\u001b[0m \u001b[0;34m=\u001b[0m \u001b[0mgroup_dup_ex\u001b[0m\u001b[0;34m.\u001b[0m\u001b[0mdate_time\u001b[0m\u001b[0;34m.\u001b[0m\u001b[0mtolist\u001b[0m\u001b[0;34m(\u001b[0m\u001b[0;34m)\u001b[0m\u001b[0;34m\u001b[0m\u001b[0m\n\u001b[0m\u001b[1;32m      5\u001b[0m     \u001b[0midentical\u001b[0m \u001b[0;34m=\u001b[0m \u001b[0;34m[\u001b[0m\u001b[0mi\u001b[0m \u001b[0;32mfor\u001b[0m \u001b[0mi\u001b[0m \u001b[0;32min\u001b[0m \u001b[0mrange\u001b[0m\u001b[0;34m(\u001b[0m\u001b[0mlen\u001b[0m\u001b[0;34m(\u001b[0m\u001b[0mtimes\u001b[0m\u001b[0;34m)\u001b[0m\u001b[0;34m-\u001b[0m\u001b[0;36m1\u001b[0m\u001b[0;34m)\u001b[0m \u001b[0;32mif\u001b[0m \u001b[0mtimes\u001b[0m\u001b[0;34m[\u001b[0m\u001b[0mi\u001b[0m\u001b[0;34m]\u001b[0m \u001b[0;34m==\u001b[0m \u001b[0mtimes\u001b[0m\u001b[0;34m[\u001b[0m\u001b[0mi\u001b[0m\u001b[0;34m+\u001b[0m\u001b[0;36m1\u001b[0m\u001b[0;34m]\u001b[0m\u001b[0;34m]\u001b[0m\u001b[0;34m\u001b[0m\u001b[0m\n\u001b[1;32m      6\u001b[0m     \u001b[0midenticals\u001b[0m\u001b[0;34m.\u001b[0m\u001b[0mappend\u001b[0m\u001b[0;34m(\u001b[0m\u001b[0mlen\u001b[0m\u001b[0;34m(\u001b[0m\u001b[0midentical\u001b[0m\u001b[0;34m)\u001b[0m\u001b[0;34m)\u001b[0m\u001b[0;34m\u001b[0m\u001b[0m\n",
      "\u001b[0;32m~/.virtualenvs/venv-msci/lib/python3.6/site-packages/pandas/core/series.py\u001b[0m in \u001b[0;36mtolist\u001b[0;34m(self)\u001b[0m\n\u001b[1;32m   1073\u001b[0m     \u001b[0;32mdef\u001b[0m \u001b[0mtolist\u001b[0m\u001b[0;34m(\u001b[0m\u001b[0mself\u001b[0m\u001b[0;34m)\u001b[0m\u001b[0;34m:\u001b[0m\u001b[0;34m\u001b[0m\u001b[0m\n\u001b[1;32m   1074\u001b[0m         \u001b[0;34m\"\"\" Convert Series to a nested list \"\"\"\u001b[0m\u001b[0;34m\u001b[0m\u001b[0m\n\u001b[0;32m-> 1075\u001b[0;31m         \u001b[0;32mreturn\u001b[0m \u001b[0mlist\u001b[0m\u001b[0;34m(\u001b[0m\u001b[0mself\u001b[0m\u001b[0;34m.\u001b[0m\u001b[0masobject\u001b[0m\u001b[0;34m)\u001b[0m\u001b[0;34m\u001b[0m\u001b[0m\n\u001b[0m\u001b[1;32m   1076\u001b[0m \u001b[0;34m\u001b[0m\u001b[0m\n\u001b[1;32m   1077\u001b[0m     \u001b[0;32mdef\u001b[0m \u001b[0mto_dict\u001b[0m\u001b[0;34m(\u001b[0m\u001b[0mself\u001b[0m\u001b[0;34m)\u001b[0m\u001b[0;34m:\u001b[0m\u001b[0;34m\u001b[0m\u001b[0m\n",
      "\u001b[0;31mKeyboardInterrupt\u001b[0m: "
     ],
     "output_type": "error"
    }
   ],
   "source": [
    "identicals = []\n",
    "for mac in duplicate_macs:\n",
    "    group = grouped.get_group(mac)\n",
    "    times = group_dup_ex.date_time.tolist()\n",
    "    identical = [i for i in range(len(times)-1) if times[i] == times[i+1]]\n",
    "    identicals.append(len(identical))"
   ]
  },
  {
   "cell_type": "code",
   "execution_count": 34,
   "metadata": {},
   "outputs": [
    {
     "name": "stdout",
     "output_type": "stream",
     "text": [
      "Number of macs with identical time signals in Mall of Mauritius: 50585\n"
     ]
    }
   ],
   "source": [
    "print('Number of macs with identical time signals in Mall of Mauritius:', len(duplicate_macs))\n",
    "print('Number of duplicate time signals in Mall of Mauritius:', np.sum(identicals))"
   ]
  },
  {
   "cell_type": "code",
   "execution_count": 13,
   "metadata": {},
   "outputs": [
    {
     "data": {
      "text/html": [
       "<div>\n",
       "<style>\n",
       "    .dataframe thead tr:only-child th {\n",
       "        text-align: right;\n",
       "    }\n",
       "\n",
       "    .dataframe thead th {\n",
       "        text-align: left;\n",
       "    }\n",
       "\n",
       "    .dataframe tbody tr th {\n",
       "        vertical-align: top;\n",
       "    }\n",
       "</style>\n",
       "<table border=\"1\" class=\"dataframe\">\n",
       "  <thead>\n",
       "    <tr style=\"text-align: right;\">\n",
       "      <th></th>\n",
       "      <th>mac_address</th>\n",
       "      <th>wifi_type</th>\n",
       "      <th>date_time</th>\n",
       "      <th>email</th>\n",
       "      <th>store_id</th>\n",
       "      <th>location</th>\n",
       "      <th>x</th>\n",
       "      <th>y</th>\n",
       "    </tr>\n",
       "  </thead>\n",
       "  <tbody>\n",
       "    <tr>\n",
       "      <th>4485843</th>\n",
       "      <td>38:ff:36:2d:f1:88</td>\n",
       "      <td>unknown</td>\n",
       "      <td>2016-12-22 00:00:04</td>\n",
       "      <td>unknown</td>\n",
       "      <td>A102</td>\n",
       "      <td>Mall of Mauritius</td>\n",
       "      <td>295.0</td>\n",
       "      <td>39.0</td>\n",
       "    </tr>\n",
       "    <tr>\n",
       "      <th>4485667</th>\n",
       "      <td>38:ff:36:2d:f1:88</td>\n",
       "      <td>Discovered-AP</td>\n",
       "      <td>2016-12-22 00:00:15</td>\n",
       "      <td>unknown</td>\n",
       "      <td>B257</td>\n",
       "      <td>Mall of Mauritius</td>\n",
       "      <td>287.0</td>\n",
       "      <td>28.0</td>\n",
       "    </tr>\n",
       "    <tr>\n",
       "      <th>4485472</th>\n",
       "      <td>38:ff:36:2d:f1:88</td>\n",
       "      <td>Discovered-AP</td>\n",
       "      <td>2016-12-22 00:00:25</td>\n",
       "      <td>unknown</td>\n",
       "      <td>NaN</td>\n",
       "      <td>Mall of Mauritius</td>\n",
       "      <td>283.0</td>\n",
       "      <td>22.0</td>\n",
       "    </tr>\n",
       "    <tr>\n",
       "      <th>4485059</th>\n",
       "      <td>38:ff:36:2d:f1:88</td>\n",
       "      <td>unknown</td>\n",
       "      <td>2016-12-22 00:00:45</td>\n",
       "      <td>unknown</td>\n",
       "      <td>B257</td>\n",
       "      <td>Mall of Mauritius</td>\n",
       "      <td>287.0</td>\n",
       "      <td>25.0</td>\n",
       "    </tr>\n",
       "    <tr>\n",
       "      <th>4484839</th>\n",
       "      <td>38:ff:36:2d:f1:88</td>\n",
       "      <td>Discovered-AP</td>\n",
       "      <td>2016-12-22 00:00:55</td>\n",
       "      <td>unknown</td>\n",
       "      <td>NaN</td>\n",
       "      <td>Mall of Mauritius</td>\n",
       "      <td>283.0</td>\n",
       "      <td>21.0</td>\n",
       "    </tr>\n",
       "  </tbody>\n",
       "</table>\n",
       "</div>"
      ],
      "text/plain": [
       "               mac_address      wifi_type           date_time    email  \\\n",
       "4485843  38:ff:36:2d:f1:88        unknown 2016-12-22 00:00:04  unknown   \n",
       "4485667  38:ff:36:2d:f1:88  Discovered-AP 2016-12-22 00:00:15  unknown   \n",
       "4485472  38:ff:36:2d:f1:88  Discovered-AP 2016-12-22 00:00:25  unknown   \n",
       "4485059  38:ff:36:2d:f1:88        unknown 2016-12-22 00:00:45  unknown   \n",
       "4484839  38:ff:36:2d:f1:88  Discovered-AP 2016-12-22 00:00:55  unknown   \n",
       "\n",
       "        store_id           location      x     y  \n",
       "4485843     A102  Mall of Mauritius  295.0  39.0  \n",
       "4485667     B257  Mall of Mauritius  287.0  28.0  \n",
       "4485472      NaN  Mall of Mauritius  283.0  22.0  \n",
       "4485059     B257  Mall of Mauritius  287.0  25.0  \n",
       "4484839      NaN  Mall of Mauritius  283.0  21.0  "
      ]
     },
     "execution_count": 13,
     "metadata": {},
     "output_type": "execute_result"
    }
   ],
   "source": [
    "group_dup_ex.head()"
   ]
  },
  {
   "cell_type": "code",
   "execution_count": 14,
   "metadata": {},
   "outputs": [
    {
     "data": {
      "text/html": [
       "<div>\n",
       "<style>\n",
       "    .dataframe thead tr:only-child th {\n",
       "        text-align: right;\n",
       "    }\n",
       "\n",
       "    .dataframe thead th {\n",
       "        text-align: left;\n",
       "    }\n",
       "\n",
       "    .dataframe tbody tr th {\n",
       "        vertical-align: top;\n",
       "    }\n",
       "</style>\n",
       "<table border=\"1\" class=\"dataframe\">\n",
       "  <thead>\n",
       "    <tr style=\"text-align: right;\">\n",
       "      <th></th>\n",
       "      <th>mac_address</th>\n",
       "      <th>wifi_type</th>\n",
       "      <th>date_time</th>\n",
       "      <th>email</th>\n",
       "      <th>store_id</th>\n",
       "      <th>location</th>\n",
       "      <th>x</th>\n",
       "      <th>y</th>\n",
       "    </tr>\n",
       "  </thead>\n",
       "  <tbody>\n",
       "    <tr>\n",
       "      <th>4460104</th>\n",
       "      <td>38:ff:36:2d:f1:88</td>\n",
       "      <td>Discovered-AP</td>\n",
       "      <td>2016-12-22 00:23:04</td>\n",
       "      <td>unknown</td>\n",
       "      <td>B104</td>\n",
       "      <td>Mall of Mauritius</td>\n",
       "      <td>322.0</td>\n",
       "      <td>26.0</td>\n",
       "    </tr>\n",
       "    <tr>\n",
       "      <th>4460105</th>\n",
       "      <td>38:ff:36:2d:f1:88</td>\n",
       "      <td>Discovered-AP</td>\n",
       "      <td>2016-12-22 00:23:04</td>\n",
       "      <td>unknown</td>\n",
       "      <td>P0010</td>\n",
       "      <td>Mall of Mauritius</td>\n",
       "      <td>322.0</td>\n",
       "      <td>26.0</td>\n",
       "    </tr>\n",
       "  </tbody>\n",
       "</table>\n",
       "</div>"
      ],
      "text/plain": [
       "               mac_address      wifi_type           date_time    email  \\\n",
       "4460104  38:ff:36:2d:f1:88  Discovered-AP 2016-12-22 00:23:04  unknown   \n",
       "4460105  38:ff:36:2d:f1:88  Discovered-AP 2016-12-22 00:23:04  unknown   \n",
       "\n",
       "        store_id           location      x     y  \n",
       "4460104     B104  Mall of Mauritius  322.0  26.0  \n",
       "4460105    P0010  Mall of Mauritius  322.0  26.0  "
      ]
     },
     "execution_count": 14,
     "metadata": {},
     "output_type": "execute_result"
    }
   ],
   "source": [
    "times = group_dup_ex.date_time.tolist()\n",
    "identical = [i for i in range(len(times)-1) if times[i] == times[i+1]]\n",
    "group_dup_ex.iloc[identical[0]:identical[0]+2]"
   ]
  },
  {
   "cell_type": "code",
   "execution_count": 29,
   "metadata": {},
   "outputs": [],
   "source": [
    "x = group_dup_ex.x.tolist()\n",
    "y = group_dup_ex.y.tolist()\n",
    "coordinates = list(zip(x,y))\n",
    "different_coordinates = [i for i in range(len(coordinates) - 1) if coordinates[i] != coordinates[i+1] and i in identical]\n",
    "    "
   ]
  },
  {
   "cell_type": "code",
   "execution_count": 30,
   "metadata": {},
   "outputs": [
    {
     "data": {
      "text/html": [
       "<div>\n",
       "<style>\n",
       "    .dataframe thead tr:only-child th {\n",
       "        text-align: right;\n",
       "    }\n",
       "\n",
       "    .dataframe thead th {\n",
       "        text-align: left;\n",
       "    }\n",
       "\n",
       "    .dataframe tbody tr th {\n",
       "        vertical-align: top;\n",
       "    }\n",
       "</style>\n",
       "<table border=\"1\" class=\"dataframe\">\n",
       "  <thead>\n",
       "    <tr style=\"text-align: right;\">\n",
       "      <th></th>\n",
       "      <th>mac_address</th>\n",
       "      <th>wifi_type</th>\n",
       "      <th>date_time</th>\n",
       "      <th>email</th>\n",
       "      <th>store_id</th>\n",
       "      <th>location</th>\n",
       "      <th>x</th>\n",
       "      <th>y</th>\n",
       "    </tr>\n",
       "  </thead>\n",
       "  <tbody>\n",
       "    <tr>\n",
       "      <th>4182109</th>\n",
       "      <td>38:ff:36:2d:f1:88</td>\n",
       "      <td>Discovered-AP</td>\n",
       "      <td>2016-12-22 06:42:28</td>\n",
       "      <td>unknown</td>\n",
       "      <td>P0010</td>\n",
       "      <td>Mall of Mauritius</td>\n",
       "      <td>323.0</td>\n",
       "      <td>24.0</td>\n",
       "    </tr>\n",
       "    <tr>\n",
       "      <th>4182401</th>\n",
       "      <td>38:ff:36:2d:f1:88</td>\n",
       "      <td>Discovered-AP</td>\n",
       "      <td>2016-12-22 06:42:28</td>\n",
       "      <td>unknown</td>\n",
       "      <td>A259</td>\n",
       "      <td>Mall of Mauritius</td>\n",
       "      <td>279.0</td>\n",
       "      <td>17.0</td>\n",
       "    </tr>\n",
       "  </tbody>\n",
       "</table>\n",
       "</div>"
      ],
      "text/plain": [
       "               mac_address      wifi_type           date_time    email  \\\n",
       "4182109  38:ff:36:2d:f1:88  Discovered-AP 2016-12-22 06:42:28  unknown   \n",
       "4182401  38:ff:36:2d:f1:88  Discovered-AP 2016-12-22 06:42:28  unknown   \n",
       "\n",
       "        store_id           location      x     y  \n",
       "4182109    P0010  Mall of Mauritius  323.0  24.0  \n",
       "4182401     A259  Mall of Mauritius  279.0  17.0  "
      ]
     },
     "execution_count": 30,
     "metadata": {},
     "output_type": "execute_result"
    }
   ],
   "source": [
    "group_dup_ex.iloc[different_coordinates[0]:different_coordinates[0]+2]"
   ]
  },
  {
   "cell_type": "code",
   "execution_count": 33,
   "metadata": {},
   "outputs": [
    {
     "data": {
      "text/html": [
       "<div>\n",
       "<style>\n",
       "    .dataframe thead tr:only-child th {\n",
       "        text-align: right;\n",
       "    }\n",
       "\n",
       "    .dataframe thead th {\n",
       "        text-align: left;\n",
       "    }\n",
       "\n",
       "    .dataframe tbody tr th {\n",
       "        vertical-align: top;\n",
       "    }\n",
       "</style>\n",
       "<table border=\"1\" class=\"dataframe\">\n",
       "  <thead>\n",
       "    <tr style=\"text-align: right;\">\n",
       "      <th></th>\n",
       "      <th>mac_address</th>\n",
       "      <th>date_time</th>\n",
       "      <th>x</th>\n",
       "      <th>y</th>\n",
       "    </tr>\n",
       "  </thead>\n",
       "  <tbody>\n",
       "    <tr>\n",
       "      <th>4182109</th>\n",
       "      <td>38:ff:36:2d:f1:88</td>\n",
       "      <td>2016-12-22 06:42:28</td>\n",
       "      <td>323.0</td>\n",
       "      <td>24.0</td>\n",
       "    </tr>\n",
       "    <tr>\n",
       "      <th>4182401</th>\n",
       "      <td>38:ff:36:2d:f1:88</td>\n",
       "      <td>2016-12-22 06:42:28</td>\n",
       "      <td>279.0</td>\n",
       "      <td>17.0</td>\n",
       "    </tr>\n",
       "  </tbody>\n",
       "</table>\n",
       "</div>"
      ],
      "text/plain": [
       "               mac_address           date_time      x     y\n",
       "4182109  38:ff:36:2d:f1:88 2016-12-22 06:42:28  323.0  24.0\n",
       "4182401  38:ff:36:2d:f1:88 2016-12-22 06:42:28  279.0  17.0"
      ]
     },
     "execution_count": 33,
     "metadata": {},
     "output_type": "execute_result"
    }
   ],
   "source": [
    "filter_ex = group_dup_ex.filter(items=['mac_address', 'date_time', 'x', 'y'])\n",
    "filter_ex.iloc[different_coordinates[0]:different_coordinates[0]+2]"
   ]
  },
  {
   "cell_type": "code",
   "execution_count": 38,
   "metadata": {},
   "outputs": [
    {
     "name": "stdout",
     "output_type": "stream",
     "text": [
      "Fraction of different coordinates: 0.12244897959183673\n"
     ]
    }
   ],
   "source": [
    "print('Fraction of different coordinates:', len(different_coordinates)/len(identical))"
   ]
  },
  {
   "cell_type": "code",
   "execution_count": null,
   "metadata": {},
   "outputs": [],
   "source": []
  }
 ],
 "metadata": {
  "kernelspec": {
   "display_name": "Python 3",
   "language": "python",
   "name": "python3"
  },
  "language_info": {
   "codemirror_mode": {
    "name": "ipython",
    "version": 3
   },
   "file_extension": ".py",
   "mimetype": "text/x-python",
   "name": "python",
   "nbconvert_exporter": "python",
   "pygments_lexer": "ipython3",
   "version": "3.6.2"
  }
 },
 "nbformat": 4,
 "nbformat_minor": 2
}
