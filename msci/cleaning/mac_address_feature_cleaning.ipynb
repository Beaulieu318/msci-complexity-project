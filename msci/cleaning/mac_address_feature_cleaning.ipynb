{
 "cells": [
  {
   "cell_type": "markdown",
   "metadata": {},
   "source": [
    "# Mac Address Feature Cleaning"
   ]
  },
  {
   "cell_type": "markdown",
   "metadata": {},
   "source": [
    "The notebook aims at understanding the mac addresses using a clustering algorithm (k-means) to determine whether the mac addresses are stationary or moving (shoppers)."
   ]
  },
  {
   "cell_type": "code",
   "execution_count": 3,
   "metadata": {},
   "outputs": [],
   "source": [
    "import pandas as pd\n",
    "import numpy as np\n",
    "\n",
    "%matplotlib inline\n",
    "import matplotlib\n",
    "import matplotlib.pyplot as plt\n",
    "import matplotlib.image as mpimg\n",
    "import matplotlib.cm as cm\n",
    "matplotlib.style.use('ggplot')\n",
    "\n",
    "import mac_address_features as maf"
   ]
  },
  {
   "cell_type": "code",
   "execution_count": 4,
   "metadata": {},
   "outputs": [
    {
     "name": "stdout",
     "output_type": "stream",
     "text": [
      "The autoreload extension is already loaded. To reload it, use:\n",
      "  %reload_ext autoreload\n"
     ]
    }
   ],
   "source": [
    "%load_ext autoreload\n",
    "%autoreload 2"
   ]
  },
  {
   "cell_type": "markdown",
   "metadata": {},
   "source": [
    "## Import the data and create mac address data frame"
   ]
  },
  {
   "cell_type": "code",
   "execution_count": 44,
   "metadata": {},
   "outputs": [],
   "source": [
    "signal_df = maf.import_data('Mall of Mauritius')\n",
    "mac_address_df = maf.create_mac_address_df(signal_df)"
   ]
  },
  {
   "cell_type": "code",
   "execution_count": 45,
   "metadata": {},
   "outputs": [
    {
     "name": "stdout",
     "output_type": "stream",
     "text": [
      "2762923 signals\n",
      "154152 mac addresses\n"
     ]
    }
   ],
   "source": [
    "print('{} signals'.format(len(signal_df)))\n",
    "print('{} mac addresses'.format(len(mac_address_df)))"
   ]
  },
  {
   "cell_type": "markdown",
   "metadata": {},
   "source": [
    "## Add the features"
   ]
  },
  {
   "cell_type": "code",
   "execution_count": 46,
   "metadata": {},
   "outputs": [],
   "source": [
    "mac_address_df['manufacturer'] = maf.find_device_type(mac_address_df)"
   ]
  },
  {
   "cell_type": "code",
   "execution_count": 71,
   "metadata": {},
   "outputs": [
    {
     "name": "stdout",
     "output_type": "stream",
     "text": [
      " "
     ]
    }
   ],
   "source": [
    "mac_address_df['gyration'] = np.nan\n",
    "mac_address_df.loc[:number - 1, 'gyration'] = maf.calculate_radius_gyration(signal_df, mac_address_df[:number])[1]"
   ]
  },
  {
   "cell_type": "code",
   "execution_count": 68,
   "metadata": {},
   "outputs": [
    {
     "name": "stdout",
     "output_type": "stream",
     "text": [
      " "
     ]
    }
   ],
   "source": [
    "number = 10000\n",
    "\n",
    "mac_address_df['cdv'] = np.nan\n",
    "mac_address_df.loc['cdv'] = maf.count_density_variance(signal_df, mac_address_df, minute_resolution='15')"
   ]
  },
  {
   "cell_type": "code",
   "execution_count": 63,
   "metadata": {},
   "outputs": [
    {
     "data": {
      "text/html": [
       "<div>\n",
       "<style>\n",
       "    .dataframe thead tr:only-child th {\n",
       "        text-align: right;\n",
       "    }\n",
       "\n",
       "    .dataframe thead th {\n",
       "        text-align: left;\n",
       "    }\n",
       "\n",
       "    .dataframe tbody tr th {\n",
       "        vertical-align: top;\n",
       "    }\n",
       "</style>\n",
       "<table border=\"1\" class=\"dataframe\">\n",
       "  <thead>\n",
       "    <tr style=\"text-align: right;\">\n",
       "      <th></th>\n",
       "      <th>count</th>\n",
       "      <th>mac_address</th>\n",
       "      <th>manufacturer</th>\n",
       "      <th>gyration</th>\n",
       "      <th>cdv</th>\n",
       "    </tr>\n",
       "  </thead>\n",
       "  <tbody>\n",
       "    <tr>\n",
       "      <th>0</th>\n",
       "      <td>6606</td>\n",
       "      <td>bc:20:10:8c:fe:05</td>\n",
       "      <td>NaN</td>\n",
       "      <td>10.848379</td>\n",
       "      <td>50.790938</td>\n",
       "    </tr>\n",
       "    <tr>\n",
       "      <th>1</th>\n",
       "      <td>5718</td>\n",
       "      <td>98:fc:11:eb:90:65</td>\n",
       "      <td>Cisco-Linksys, LLC</td>\n",
       "      <td>20.430586</td>\n",
       "      <td>26.874078</td>\n",
       "    </tr>\n",
       "    <tr>\n",
       "      <th>2</th>\n",
       "      <td>5686</td>\n",
       "      <td>c4:f0:81:19:be:fc</td>\n",
       "      <td>HUAWEI TECHNOLOGIES CO.,LTD</td>\n",
       "      <td>8.211081</td>\n",
       "      <td>45.712970</td>\n",
       "    </tr>\n",
       "    <tr>\n",
       "      <th>3</th>\n",
       "      <td>5332</td>\n",
       "      <td>e8:de:27:5e:bf:99</td>\n",
       "      <td>TP-LINK TECHNOLOGIES CO.,LTD.</td>\n",
       "      <td>47.177085</td>\n",
       "      <td>24.980181</td>\n",
       "    </tr>\n",
       "    <tr>\n",
       "      <th>4</th>\n",
       "      <td>5281</td>\n",
       "      <td>9c:99:a0:07:5e:a9</td>\n",
       "      <td>Xiaomi Communications Co Ltd</td>\n",
       "      <td>9.771733</td>\n",
       "      <td>48.059259</td>\n",
       "    </tr>\n",
       "  </tbody>\n",
       "</table>\n",
       "</div>"
      ],
      "text/plain": [
       "   count        mac_address                   manufacturer   gyration  \\\n",
       "0   6606  bc:20:10:8c:fe:05                            NaN  10.848379   \n",
       "1   5718  98:fc:11:eb:90:65             Cisco-Linksys, LLC  20.430586   \n",
       "2   5686  c4:f0:81:19:be:fc    HUAWEI TECHNOLOGIES CO.,LTD   8.211081   \n",
       "3   5332  e8:de:27:5e:bf:99  TP-LINK TECHNOLOGIES CO.,LTD.  47.177085   \n",
       "4   5281  9c:99:a0:07:5e:a9   Xiaomi Communications Co Ltd   9.771733   \n",
       "\n",
       "         cdv  \n",
       "0  50.790938  \n",
       "1  26.874078  \n",
       "2  45.712970  \n",
       "3  24.980181  \n",
       "4  48.059259  "
      ]
     },
     "execution_count": 63,
     "metadata": {},
     "output_type": "execute_result"
    }
   ],
   "source": [
    "mac_address_df.head()"
   ]
  },
  {
   "cell_type": "markdown",
   "metadata": {},
   "source": [
    "## Manufacturer Analysis"
   ]
  },
  {
   "cell_type": "code",
   "execution_count": 41,
   "metadata": {},
   "outputs": [
    {
     "data": {
      "image/png": "[encoded data removed]",
      "text/plain": [
       "<matplotlib.figure.Figure at 0x267011d40b8>"
      ]
     },
     "metadata": {},
     "output_type": "display_data"
    }
   ],
   "source": [
    "fig, axes = plt.subplots(nrows=1, ncols=1, figsize=(20, 6))\n",
    "ax = signal_df.manufacturer.value_counts()[0:10].plot.bar(ax=axes)\n",
    "ax.set_title('Number of signals per manufacturer')\n",
    "ax.set_xlabel('Manufacturer')\n",
    "ax.set_ylabel('Signals');"
   ]
  }
 ],
 "metadata": {
  "kernelspec": {
   "display_name": "Python 3",
   "language": "python",
   "name": "python3"
  },
  "language_info": {
   "codemirror_mode": {
    "name": "ipython",
    "version": 3
   },
   "file_extension": ".py",
   "mimetype": "text/x-python",
   "name": "python",
   "nbconvert_exporter": "python",
   "pygments_lexer": "ipython3",
   "version": "3.6.2"
  },
  "varInspector": {
   "cols": {
    "lenName": 16,
    "lenType": 16,
    "lenVar": 40
   },
   "kernels_config": {
    "python": {
     "delete_cmd_postfix": "",
     "delete_cmd_prefix": "del ",
     "library": "var_list.py",
     "varRefreshCmd": "print(var_dic_list())"
    },
    "r": {
     "delete_cmd_postfix": ") ",
     "delete_cmd_prefix": "rm(",
     "library": "var_list.r",
     "varRefreshCmd": "cat(var_dic_list()) "
    }
   },
   "types_to_exclude": [
    "module",
    "function",
    "builtin_function_or_method",
    "instance",
    "_Feature"
   ],
   "window_display": false
  }
 },
 "nbformat": 4,
 "nbformat_minor": 2
}
