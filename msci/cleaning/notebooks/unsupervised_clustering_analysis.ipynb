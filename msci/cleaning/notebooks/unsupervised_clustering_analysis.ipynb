{
 "cells": [
  {
   "cell_type": "markdown",
   "metadata": {},
   "source": [
    "# Unsupervied Clustering"
   ]
  },
  {
   "cell_type": "markdown",
   "metadata": {},
   "source": [
    "The notebook aims at understanding the mac addresses using a clustering algorithm (k-means) to determine whether the mac addresses are stationary or moving (shoppers)."
   ]
  },
  {
   "cell_type": "markdown",
   "metadata": {},
   "source": [
    "## Theory"
   ]
  },
  {
   "cell_type": "markdown",
   "metadata": {},
   "source": [
    "Machine learning is the most common method for find clustering data into seperate groups."
   ]
  },
  {
   "cell_type": "markdown",
   "metadata": {},
   "source": [
    "Python has various packages to perform machine learning (out of the box) on a dataset. We have used these packages to determine whether they can seperate out devices (mac addresses) into shoppers and non-shoppers."
   ]
  },
  {
   "cell_type": "markdown",
   "metadata": {},
   "source": [
    "## Load dependencies"
   ]
  },
  {
   "cell_type": "code",
   "execution_count": 1,
   "metadata": {},
   "outputs": [],
   "source": [
    "import pandas as pd\n",
    "import numpy as np\n",
    "\n",
    "from sklearn.cluster import KMeans, SpectralClustering\n",
    "from sklearn.mixture import GaussianMixture, BayesianGaussianMixture\n",
    "from sklearn.preprocessing import scale\n",
    "\n",
    "%matplotlib inline\n",
    "import matplotlib\n",
    "import matplotlib.pyplot as plt\n",
    "import matplotlib.image as mpimg\n",
    "import matplotlib.cm as cm\n",
    "matplotlib.style.use('ggplot')\n",
    "\n",
    "import seaborn as sns"
   ]
  },
  {
   "cell_type": "code",
   "execution_count": 2,
   "metadata": {
    "scrolled": true
   },
   "outputs": [],
   "source": [
    "%load_ext autoreload\n",
    "%autoreload 2"
   ]
  },
  {
   "cell_type": "code",
   "execution_count": 3,
   "metadata": {},
   "outputs": [],
   "source": [
    "from msci.utils import utils"
   ]
  },
  {
   "cell_type": "markdown",
   "metadata": {},
   "source": [
    "## Import data"
   ]
  },
  {
   "cell_type": "code",
   "execution_count": 4,
   "metadata": {},
   "outputs": [],
   "source": [
    "mac_address_df = utils.import_mac_addresses()"
   ]
  },
  {
   "cell_type": "code",
   "execution_count": 5,
   "metadata": {
    "scrolled": true
   },
   "outputs": [
    {
     "name": "stdout",
     "output_type": "stream",
     "text": [
      "154152 mac addresses with 18 features\n"
     ]
    }
   ],
   "source": [
    "print('{} mac addresses with {} features'.format(mac_address_df.shape[0], mac_address_df.shape[1]))"
   ]
  },
  {
   "cell_type": "code",
   "execution_count": 6,
   "metadata": {},
   "outputs": [],
   "source": [
    "from msci.cleaning import mac_address_features"
   ]
  },
  {
   "cell_type": "code",
   "execution_count": 7,
   "metadata": {},
   "outputs": [],
   "source": [
    "signal_df = utils.import_signals()"
   ]
  },
  {
   "cell_type": "markdown",
   "metadata": {},
   "source": [
    "## Investigation"
   ]
  },
  {
   "cell_type": "code",
   "execution_count": 45,
   "metadata": {},
   "outputs": [],
   "source": [
    "FEATURE_LIST = [\n",
    "    'length_of_stay',\n",
    "    'radius_of_gyration',\n",
    "    'count_density_variance',\n",
    "    'av_speed',\n",
    "    'av_turning_angle',\n",
    "    'av_turning_angle_velocity',\n",
    "    'av_path_length',\n",
    "    'av_straightness',\n",
    "    'turning_angle_density',\n",
    "]"
   ]
  },
  {
   "cell_type": "code",
   "execution_count": 46,
   "metadata": {},
   "outputs": [],
   "source": [
    "mac_address_clean_df = mac_address_df[mac_address_df.frequency > 10].dropna(subset=FEATURE_LIST)"
   ]
  },
  {
   "cell_type": "code",
   "execution_count": 47,
   "metadata": {
    "scrolled": false
   },
   "outputs": [
    {
     "data": {
      "text/html": [
       "<div>\n",
       "<style>\n",
       "    .dataframe thead tr:only-child th {\n",
       "        text-align: right;\n",
       "    }\n",
       "\n",
       "    .dataframe thead th {\n",
       "        text-align: left;\n",
       "    }\n",
       "\n",
       "    .dataframe tbody tr th {\n",
       "        vertical-align: top;\n",
       "    }\n",
       "</style>\n",
       "<table border=\"1\" class=\"dataframe\">\n",
       "  <thead>\n",
       "    <tr style=\"text-align: right;\">\n",
       "      <th></th>\n",
       "      <th>frequency</th>\n",
       "      <th>radius_of_gyration</th>\n",
       "      <th>count_density_variance</th>\n",
       "      <th>length_of_stay</th>\n",
       "      <th>is_out_of_hours</th>\n",
       "      <th>av_speed</th>\n",
       "      <th>av_turning_angle</th>\n",
       "      <th>total_turning_angle</th>\n",
       "      <th>av_turning_angle_velocity</th>\n",
       "      <th>av_path_length</th>\n",
       "      <th>total_path_length</th>\n",
       "      <th>av_straightness</th>\n",
       "      <th>av_speed_from_total</th>\n",
       "      <th>turning_angle_density</th>\n",
       "    </tr>\n",
       "  </thead>\n",
       "  <tbody>\n",
       "    <tr>\n",
       "      <th>count</th>\n",
       "      <td>23061.000000</td>\n",
       "      <td>23061.000000</td>\n",
       "      <td>23061.000000</td>\n",
       "      <td>23061.000000</td>\n",
       "      <td>23061.000000</td>\n",
       "      <td>23061.000000</td>\n",
       "      <td>23061.000000</td>\n",
       "      <td>23061.000000</td>\n",
       "      <td>23061.000000</td>\n",
       "      <td>23061.000000</td>\n",
       "      <td>23061.000000</td>\n",
       "      <td>23061.000000</td>\n",
       "      <td>23061.000000</td>\n",
       "      <td>23061.000000</td>\n",
       "    </tr>\n",
       "    <tr>\n",
       "      <th>mean</th>\n",
       "      <td>90.699709</td>\n",
       "      <td>57.749790</td>\n",
       "      <td>2.402008</td>\n",
       "      <td>13413.549629</td>\n",
       "      <td>0.026712</td>\n",
       "      <td>0.966003</td>\n",
       "      <td>1.626512</td>\n",
       "      <td>141.177089</td>\n",
       "      <td>-0.004662</td>\n",
       "      <td>26.588731</td>\n",
       "      <td>1567.478145</td>\n",
       "      <td>2.513107</td>\n",
       "      <td>0.270036</td>\n",
       "      <td>0.072905</td>\n",
       "    </tr>\n",
       "    <tr>\n",
       "      <th>std</th>\n",
       "      <td>203.665588</td>\n",
       "      <td>28.075675</td>\n",
       "      <td>1.461152</td>\n",
       "      <td>18867.794012</td>\n",
       "      <td>0.161243</td>\n",
       "      <td>1.218436</td>\n",
       "      <td>0.363271</td>\n",
       "      <td>381.021519</td>\n",
       "      <td>0.189985</td>\n",
       "      <td>15.977674</td>\n",
       "      <td>2723.290050</td>\n",
       "      <td>1.231534</td>\n",
       "      <td>0.272835</td>\n",
       "      <td>0.051967</td>\n",
       "    </tr>\n",
       "    <tr>\n",
       "      <th>min</th>\n",
       "      <td>11.000000</td>\n",
       "      <td>0.944355</td>\n",
       "      <td>0.000000</td>\n",
       "      <td>87.000000</td>\n",
       "      <td>0.000000</td>\n",
       "      <td>0.004872</td>\n",
       "      <td>0.084186</td>\n",
       "      <td>0.390607</td>\n",
       "      <td>-3.119614</td>\n",
       "      <td>0.183925</td>\n",
       "      <td>16.185363</td>\n",
       "      <td>1.000000</td>\n",
       "      <td>0.000194</td>\n",
       "      <td>0.001430</td>\n",
       "    </tr>\n",
       "    <tr>\n",
       "      <th>25%</th>\n",
       "      <td>17.000000</td>\n",
       "      <td>35.941058</td>\n",
       "      <td>1.313579</td>\n",
       "      <td>2120.000000</td>\n",
       "      <td>0.000000</td>\n",
       "      <td>0.435000</td>\n",
       "      <td>1.385630</td>\n",
       "      <td>22.629754</td>\n",
       "      <td>-0.049368</td>\n",
       "      <td>15.964845</td>\n",
       "      <td>539.127871</td>\n",
       "      <td>1.818841</td>\n",
       "      <td>0.103390</td>\n",
       "      <td>0.037817</td>\n",
       "    </tr>\n",
       "    <tr>\n",
       "      <th>50%</th>\n",
       "      <td>38.000000</td>\n",
       "      <td>61.157028</td>\n",
       "      <td>2.130152</td>\n",
       "      <td>6058.000000</td>\n",
       "      <td>0.000000</td>\n",
       "      <td>0.623315</td>\n",
       "      <td>1.619592</td>\n",
       "      <td>48.251357</td>\n",
       "      <td>-0.000027</td>\n",
       "      <td>22.458634</td>\n",
       "      <td>1020.131638</td>\n",
       "      <td>2.266002</td>\n",
       "      <td>0.198810</td>\n",
       "      <td>0.059034</td>\n",
       "    </tr>\n",
       "    <tr>\n",
       "      <th>75%</th>\n",
       "      <td>85.000000</td>\n",
       "      <td>79.042536</td>\n",
       "      <td>3.214550</td>\n",
       "      <td>14044.000000</td>\n",
       "      <td>0.000000</td>\n",
       "      <td>0.971918</td>\n",
       "      <td>1.859266</td>\n",
       "      <td>114.902579</td>\n",
       "      <td>0.049170</td>\n",
       "      <td>32.954900</td>\n",
       "      <td>1716.968419</td>\n",
       "      <td>2.864555</td>\n",
       "      <td>0.335048</td>\n",
       "      <td>0.090295</td>\n",
       "    </tr>\n",
       "    <tr>\n",
       "      <th>max</th>\n",
       "      <td>4344.000000</td>\n",
       "      <td>154.812502</td>\n",
       "      <td>15.556349</td>\n",
       "      <td>86335.000000</td>\n",
       "      <td>1.000000</td>\n",
       "      <td>23.011323</td>\n",
       "      <td>3.141593</td>\n",
       "      <td>8561.045646</td>\n",
       "      <td>3.049002</td>\n",
       "      <td>161.696885</td>\n",
       "      <td>138837.554597</td>\n",
       "      <td>40.620109</td>\n",
       "      <td>3.969383</td>\n",
       "      <td>0.477567</td>\n",
       "    </tr>\n",
       "  </tbody>\n",
       "</table>\n",
       "</div>"
      ],
      "text/plain": [
       "          frequency  radius_of_gyration  count_density_variance  \\\n",
       "count  23061.000000        23061.000000            23061.000000   \n",
       "mean      90.699709           57.749790                2.402008   \n",
       "std      203.665588           28.075675                1.461152   \n",
       "min       11.000000            0.944355                0.000000   \n",
       "25%       17.000000           35.941058                1.313579   \n",
       "50%       38.000000           61.157028                2.130152   \n",
       "75%       85.000000           79.042536                3.214550   \n",
       "max     4344.000000          154.812502               15.556349   \n",
       "\n",
       "       length_of_stay  is_out_of_hours      av_speed  av_turning_angle  \\\n",
       "count    23061.000000     23061.000000  23061.000000      23061.000000   \n",
       "mean     13413.549629         0.026712      0.966003          1.626512   \n",
       "std      18867.794012         0.161243      1.218436          0.363271   \n",
       "min         87.000000         0.000000      0.004872          0.084186   \n",
       "25%       2120.000000         0.000000      0.435000          1.385630   \n",
       "50%       6058.000000         0.000000      0.623315          1.619592   \n",
       "75%      14044.000000         0.000000      0.971918          1.859266   \n",
       "max      86335.000000         1.000000     23.011323          3.141593   \n",
       "\n",
       "       total_turning_angle  av_turning_angle_velocity  av_path_length  \\\n",
       "count         23061.000000               23061.000000    23061.000000   \n",
       "mean            141.177089                  -0.004662       26.588731   \n",
       "std             381.021519                   0.189985       15.977674   \n",
       "min               0.390607                  -3.119614        0.183925   \n",
       "25%              22.629754                  -0.049368       15.964845   \n",
       "50%              48.251357                  -0.000027       22.458634   \n",
       "75%             114.902579                   0.049170       32.954900   \n",
       "max            8561.045646                   3.049002      161.696885   \n",
       "\n",
       "       total_path_length  av_straightness  av_speed_from_total  \\\n",
       "count       23061.000000     23061.000000         23061.000000   \n",
       "mean         1567.478145         2.513107             0.270036   \n",
       "std          2723.290050         1.231534             0.272835   \n",
       "min            16.185363         1.000000             0.000194   \n",
       "25%           539.127871         1.818841             0.103390   \n",
       "50%          1020.131638         2.266002             0.198810   \n",
       "75%          1716.968419         2.864555             0.335048   \n",
       "max        138837.554597        40.620109             3.969383   \n",
       "\n",
       "       turning_angle_density  \n",
       "count           23061.000000  \n",
       "mean                0.072905  \n",
       "std                 0.051967  \n",
       "min                 0.001430  \n",
       "25%                 0.037817  \n",
       "50%                 0.059034  \n",
       "75%                 0.090295  \n",
       "max                 0.477567  "
      ]
     },
     "execution_count": 47,
     "metadata": {},
     "output_type": "execute_result"
    }
   ],
   "source": [
    "mac_address_clean_df.describe()"
   ]
  },
  {
   "cell_type": "markdown",
   "metadata": {},
   "source": [
    "We need to scale each feature into a Gaussian distribution."
   ]
  },
  {
   "cell_type": "code",
   "execution_count": 48,
   "metadata": {
    "scrolled": false
   },
   "outputs": [
    {
     "name": "stderr",
     "output_type": "stream",
     "text": [
      "c:\\users\\tvb\\envs\\venv-msci\\lib\\site-packages\\sklearn\\utils\\validation.py:475: DataConversionWarning: Data with input dtype int64 was converted to float64 by the scale function.\n",
      "  warnings.warn(msg, DataConversionWarning)\n"
     ]
    }
   ],
   "source": [
    "mac_address_scaled_df = mac_address_clean_df.copy()\n",
    "\n",
    "for feature in FEATURE_LIST:\n",
    "    mac_address_scaled_df[feature] = scale(mac_address_clean_df[feature])"
   ]
  },
  {
   "cell_type": "code",
   "execution_count": 49,
   "metadata": {},
   "outputs": [],
   "source": [
    "samples = mac_address_scaled_df.as_matrix(\n",
    "    columns=FEATURE_LIST\n",
    ")"
   ]
  },
  {
   "cell_type": "markdown",
   "metadata": {},
   "source": [
    "### Kmeans"
   ]
  },
  {
   "cell_type": "markdown",
   "metadata": {},
   "source": [
    "This is one of the simplist clusetering methods."
   ]
  },
  {
   "cell_type": "markdown",
   "metadata": {},
   "source": [
    "Each point is defined into a distinct group with no probability given. This does not allow you to remove points which which have low uncertainty."
   ]
  },
  {
   "cell_type": "code",
   "execution_count": 55,
   "metadata": {},
   "outputs": [],
   "source": [
    "n_clusters = 2\n",
    "\n",
    "model = KMeans(n_clusters=n_clusters)\n",
    "model.fit(samples)\n",
    "labels = model.predict(samples)"
   ]
  },
  {
   "cell_type": "code",
   "execution_count": 56,
   "metadata": {
    "scrolled": true
   },
   "outputs": [],
   "source": [
    "mac_address_clean_df['kmeans_label'] = labels"
   ]
  },
  {
   "cell_type": "code",
   "execution_count": 57,
   "metadata": {
    "scrolled": true
   },
   "outputs": [
    {
     "data": {
      "text/plain": [
       "0    16809\n",
       "1     6252\n",
       "Name: kmeans_label, dtype: int64"
      ]
     },
     "execution_count": 57,
     "metadata": {},
     "output_type": "execute_result"
    }
   ],
   "source": [
    "mac_address_clean_df.kmeans_label.value_counts()"
   ]
  },
  {
   "cell_type": "markdown",
   "metadata": {},
   "source": [
    "### Gaussian Mixture"
   ]
  },
  {
   "cell_type": "code",
   "execution_count": 58,
   "metadata": {},
   "outputs": [],
   "source": [
    "samples = mac_address_clean_df.as_matrix(\n",
    "    columns=FEATURE_LIST\n",
    ")"
   ]
  },
  {
   "cell_type": "code",
   "execution_count": 59,
   "metadata": {},
   "outputs": [],
   "source": [
    "model = BayesianGaussianMixture(n_components=2)\n",
    "model.fit(samples)\n",
    "labels = model.predict(samples)"
   ]
  },
  {
   "cell_type": "code",
   "execution_count": 60,
   "metadata": {
    "scrolled": true
   },
   "outputs": [],
   "source": [
    "mac_address_clean_df['gaussian_mixture_label'] = labels"
   ]
  },
  {
   "cell_type": "code",
   "execution_count": 61,
   "metadata": {},
   "outputs": [
    {
     "data": {
      "text/plain": [
       "0    13804\n",
       "1     9257\n",
       "Name: gaussian_mixture_label, dtype: int64"
      ]
     },
     "execution_count": 61,
     "metadata": {},
     "output_type": "execute_result"
    }
   ],
   "source": [
    "mac_address_clean_df.gaussian_mixture_label.value_counts()"
   ]
  },
  {
   "cell_type": "markdown",
   "metadata": {},
   "source": [
    "## Venn Diagrams"
   ]
  },
  {
   "cell_type": "code",
   "execution_count": 62,
   "metadata": {},
   "outputs": [],
   "source": [
    "k_means_non_shopper_index = mac_address_clean_df[mac_address_clean_df.kmeans_label == 1].index.tolist()\n",
    "gaussian_mixturee_non_shopper_index = mac_address_clean_df[mac_address_clean_df.gaussian_mixture_label == 1].index.tolist()\n",
    "out_of_hours_non_shopper_index = mac_address_clean_df[mac_address_clean_df.is_out_of_hours == 1].index.tolist()"
   ]
  },
  {
   "cell_type": "code",
   "execution_count": 63,
   "metadata": {},
   "outputs": [],
   "source": [
    "k_means_shopper_index = mac_address_clean_df[mac_address_clean_df.kmeans_label == 0].index.tolist()\n",
    "gaussian_mixturee_shopper_index = mac_address_clean_df[mac_address_clean_df.gaussian_mixture_label == 0].index.tolist()\n",
    "out_of_hours_shopper_index = mac_address_clean_df[mac_address_clean_df.is_out_of_hours == 0].index.tolist()"
   ]
  },
  {
   "cell_type": "code",
   "execution_count": 64,
   "metadata": {},
   "outputs": [
    {
     "data": {
      "text/plain": [
       "Text(0.5,1,'Venn diagram of devices  \\n classified as non-shoppers by 2 ML techniques')"
      ]
     },
     "execution_count": 64,
     "metadata": {},
     "output_type": "execute_result"
    },
    {
     "data": {
      "image/png": "[encoded data removed]",
      "text/plain": [
       "<matplotlib.figure.Figure at 0x1f803e256d8>"
      ]
     },
     "metadata": {},
     "output_type": "display_data"
    }
   ],
   "source": [
    "from matplotlib_venn import venn3\n",
    "\n",
    "fig, (ax1) = plt.subplots(nrows=1, ncols=1, figsize=(20, 12))\n",
    "\n",
    "set1s = set(k_means_non_shopper_index)\n",
    "set2s = set(gaussian_mixturee_non_shopper_index)\n",
    "set3s = set(out_of_hours_non_shopper_index)\n",
    "\n",
    "venn3([set1s, set2s, set3s], ('K Means', 'Gaussian Mixture', 'Out of Hours'), ax=ax1)\n",
    "ax1.set_title('Venn diagram of devices  \\n classified as non-shoppers by 2 ML techniques', fontsize=20)"
   ]
  },
  {
   "cell_type": "markdown",
   "metadata": {},
   "source": [
    "Almost all of the devices that were out of hours have been classified as non-shoppers. Both clustering methods has given different result."
   ]
  },
  {
   "cell_type": "code",
   "execution_count": null,
   "metadata": {},
   "outputs": [],
   "source": []
  }
 ],
 "metadata": {
  "kernelspec": {
   "display_name": "Python 3",
   "language": "python",
   "name": "python3"
  },
  "language_info": {
   "codemirror_mode": {
    "name": "ipython",
    "version": 3
   },
   "file_extension": ".py",
   "mimetype": "text/x-python",
   "name": "python",
   "nbconvert_exporter": "python",
   "pygments_lexer": "ipython3",
   "version": "3.6.2"
  },
  "varInspector": {
   "cols": {
    "lenName": 16,
    "lenType": 16,
    "lenVar": 40
   },
   "kernels_config": {
    "python": {
     "delete_cmd_postfix": "",
     "delete_cmd_prefix": "del ",
     "library": "var_list.py",
     "varRefreshCmd": "print(var_dic_list())"
    },
    "r": {
     "delete_cmd_postfix": ") ",
     "delete_cmd_prefix": "rm(",
     "library": "var_list.r",
     "varRefreshCmd": "cat(var_dic_list()) "
    }
   },
   "types_to_exclude": [
    "module",
    "function",
    "builtin_function_or_method",
    "instance",
    "_Feature"
   ],
   "window_display": false
  }
 },
 "nbformat": 4,
 "nbformat_minor": 2
}
