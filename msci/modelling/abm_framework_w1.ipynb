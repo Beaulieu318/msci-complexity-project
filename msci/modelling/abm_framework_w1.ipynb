{
 "cells": [
  {
   "cell_type": "markdown",
   "metadata": {},
   "source": [
    "# Week 1 - ABM plan\n",
    "\n",
    "Having successfully implemented a basic environment with interacting shoppers, here we lay out our thoughts on how to develop the model further. \n",
    "\n",
    "In general we distinguish between what we call $\\textbf{bottom-up}$ approaches, in which we attempt to generate behaviour macroscopically from microscopic rules that we believe to be underlying causal influences on data sets e.g. shoppers avoid each other -> no collisions in simulations; and $\\textbf{top-down}$ approaches, in which we try to engineer patterns stochastically based on inferred patterns in the data set e.g. the average time spent in a store scales as a power law with shop area -> give agents in simulation a stochastically equivalent bias. Below we consider mainly the parameters under the $\\textbf{bottom-up}$ bracket."
   ]
  },
  {
   "cell_type": "markdown",
   "metadata": {},
   "source": [
    "## Parameters to Consider:\n",
    "\n",
    "- Shoppers are attracted to other large groups (attractive potential term) \n",
    "- Shoppers avoid collisions (repulsive potential term) - these two terms can be expressed in a field density comprised of each shopper's potential term over the whole environment \n",
    "- Utility maximisation, primarily time taken for path i.e. shortest path\n",
    "- Random walk element, route choice never fully predicatble\n"
   ]
  },
  {
   "cell_type": "code",
   "execution_count": null,
   "metadata": {},
   "outputs": [],
   "source": []
  }
 ],
 "metadata": {
  "kernelspec": {
   "display_name": "Python 3",
   "language": "python",
   "name": "python3"
  },
  "language_info": {
   "codemirror_mode": {
    "name": "ipython",
    "version": 3
   },
   "file_extension": ".py",
   "mimetype": "text/x-python",
   "name": "python",
   "nbconvert_exporter": "python",
   "pygments_lexer": "ipython3",
   "version": "3.6.2"
  }
 },
 "nbformat": 4,
 "nbformat_minor": 2
}
