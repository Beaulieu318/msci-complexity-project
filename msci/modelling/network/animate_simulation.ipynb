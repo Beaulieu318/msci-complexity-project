{
 "cells": [
  {
   "cell_type": "markdown",
   "metadata": {},
   "source": [
    "# Animate Simulation\n",
    "\n",
    "This notebook is used to animate the simulation."
   ]
  },
  {
   "cell_type": "code",
   "execution_count": 174,
   "metadata": {},
   "outputs": [],
   "source": [
    "from simulation import NetworkSimulation\n",
    "\n",
    "from environment import Environment\n",
    "from location import Location\n",
    "\n",
    "from importlib import reload\n",
    "from matplotlib import animation, rc\n",
    "from IPython.display import HTML"
   ]
  },
  {
   "cell_type": "code",
   "execution_count": 175,
   "metadata": {},
   "outputs": [],
   "source": [
    "%matplotlib inline\n",
    "import matplotlib\n",
    "import matplotlib.pyplot as plt\n",
    "matplotlib.style.use('ggplot')"
   ]
  },
  {
   "cell_type": "code",
   "execution_count": 176,
   "metadata": {},
   "outputs": [
    {
     "name": "stdout",
     "output_type": "stream",
     "text": [
      "The autoreload extension is already loaded. To reload it, use:\n",
      "  %reload_ext autoreload\n"
     ]
    }
   ],
   "source": [
    "%load_ext autoreload\n",
    "%autoreload 2"
   ]
  },
  {
   "cell_type": "code",
   "execution_count": 152,
   "metadata": {},
   "outputs": [],
   "source": [
    "from msci.utils.plot import plot_histogram_jn"
   ]
  },
  {
   "cell_type": "markdown",
   "metadata": {},
   "source": [
    "## Setup the environment\n",
    "\n",
    "The environement is an object which contains an area. The area is a list of lists."
   ]
  },
  {
   "cell_type": "markdown",
   "metadata": {},
   "source": [
    "## Probability distributions"
   ]
  },
  {
   "cell_type": "code",
   "execution_count": 283,
   "metadata": {},
   "outputs": [],
   "source": [
    "from msci.utils import utils\n",
    "mac_address_df = utils.import_mac_addresses(version=1)"
   ]
  },
  {
   "cell_type": "code",
   "execution_count": 298,
   "metadata": {},
   "outputs": [],
   "source": [
    "from scipy import stats"
   ]
  },
  {
   "cell_type": "code",
   "execution_count": 300,
   "metadata": {},
   "outputs": [],
   "source": [
    "values = (mac_address_df[mac_address_df.shopper_label == 1].length_of_stay / 60).as_matrix()"
   ]
  },
  {
   "cell_type": "code",
   "execution_count": 330,
   "metadata": {},
   "outputs": [],
   "source": [
    "shopper_leaving = stats.kde.gaussian_kde(values)"
   ]
  },
  {
   "cell_type": "code",
   "execution_count": 331,
   "metadata": {
    "scrolled": true
   },
   "outputs": [
    {
     "data": {
      "text/plain": [
       "<matplotlib.axes._subplots.AxesSubplot at 0x1c54e4aa7b8>"
      ]
     },
     "execution_count": 331,
     "metadata": {},
     "output_type": "execute_result"
    },
    {
     "data": {
      "image/png": "[encoded data removed]",
      "text/plain": [
       "<matplotlib.figure.Figure at 0x1c54e4aacf8>"
      ]
     },
     "metadata": {},
     "output_type": "display_data"
    }
   ],
   "source": [
    "(mac_address_df[mac_address_df.shopper_label == 1].length_of_stay / 60).hist(bins=50)"
   ]
  },
  {
   "cell_type": "code",
   "execution_count": 314,
   "metadata": {},
   "outputs": [],
   "source": [
    "from scipy.stats import cumfreq\n",
    "from scipy.integrate import quad"
   ]
  },
  {
   "cell_type": "code",
   "execution_count": null,
   "metadata": {},
   "outputs": [],
   "source": []
  },
  {
   "cell_type": "code",
   "execution_count": 374,
   "metadata": {},
   "outputs": [],
   "source": [
    "shopper_leaving = norm(loc=100, scale=30)"
   ]
  },
  {
   "cell_type": "code",
   "execution_count": 375,
   "metadata": {},
   "outputs": [
    {
     "data": {
      "text/plain": [
       "0.9522096477271853"
      ]
     },
     "execution_count": 375,
     "metadata": {},
     "output_type": "execute_result"
    }
   ],
   "source": [
    "shopper_leaving.cdf(150)"
   ]
  },
  {
   "cell_type": "code",
   "execution_count": 376,
   "metadata": {},
   "outputs": [],
   "source": [
    "x = np.arange(200)"
   ]
  },
  {
   "cell_type": "code",
   "execution_count": 377,
   "metadata": {},
   "outputs": [],
   "source": [
    "y = shopper_leaving.cdf(x)"
   ]
  },
  {
   "cell_type": "code",
   "execution_count": 379,
   "metadata": {},
   "outputs": [
    {
     "data": {
      "text/plain": [
       "[<matplotlib.lines.Line2D at 0x1c54bc4bba8>]"
      ]
     },
     "execution_count": 379,
     "metadata": {},
     "output_type": "execute_result"
    },
    {
     "data": {
      "image/png": "[encoded data removed]",
      "text/plain": [
       "<matplotlib.figure.Figure at 0x1c545accac8>"
      ]
     },
     "metadata": {},
     "output_type": "display_data"
    }
   ],
   "source": [
    "plt.plot(x, y)"
   ]
  },
  {
   "cell_type": "markdown",
   "metadata": {},
   "source": [
    "## Create environment"
   ]
  },
  {
   "cell_type": "code",
   "execution_count": 380,
   "metadata": {},
   "outputs": [],
   "source": [
    "locations = [Location('s{}'.format(i)) for i in range(150)]"
   ]
  },
  {
   "cell_type": "code",
   "execution_count": 381,
   "metadata": {
    "scrolled": false
   },
   "outputs": [],
   "source": [
    "environment = Environment(locations)"
   ]
  },
  {
   "cell_type": "markdown",
   "metadata": {},
   "source": [
    "## Run the simulation\n",
    "\n",
    "The simulation requires the maximum number of iterations (time) and the maximum number of shoppers (agents)."
   ]
  },
  {
   "cell_type": "code",
   "execution_count": 382,
   "metadata": {
    "scrolled": false
   },
   "outputs": [
    {
     "data": {
      "application/vnd.jupyter.widget-view+json": {
       "model_id": "3ddfce8aa55947eaa9e52bf42ebe0005",
       "version_major": 2,
       "version_minor": 0
      },
      "text/html": [
       "<p>Failed to display Jupyter Widget of type <code>HBox</code>.</p>\n",
       "<p>\n",
       "  If you're reading this message in Jupyter Notebook or JupyterLab, it may mean\n",
       "  that the widgets JavaScript is still loading. If this message persists, it\n",
       "  likely means that the widgets JavaScript library is either not installed or\n",
       "  not enabled. See the <a href=\"https://ipywidgets.readthedocs.io/en/stable/user_install.html\">Jupyter\n",
       "  Widgets Documentation</a> for setup instructions.\n",
       "</p>\n",
       "<p>\n",
       "  If you're reading this message in another notebook frontend (for example, a static\n",
       "  rendering on GitHub or <a href=\"https://nbviewer.jupyter.org/\">NBViewer</a>),\n",
       "  it may mean that your frontend doesn't currently support widgets.\n",
       "</p>\n"
      ],
      "text/plain": [
       "HBox(children=(IntProgress(value=0, max=1000), HTML(value='')))"
      ]
     },
     "metadata": {},
     "output_type": "display_data"
    },
    {
     "name": "stdout",
     "output_type": "stream",
     "text": [
      "\n"
     ]
    }
   ],
   "source": [
    "sim = NetworkSimulation(environment, max_shoppers=10000)\n",
    "sim.shopper_leave_distribution = shopper_leaving\n",
    "sim.iterate(max_iterations=1000)\n",
    "sim.create_signal_df()\n",
    "sim.create_mac_address_df()"
   ]
  },
  {
   "cell_type": "code",
   "execution_count": 383,
   "metadata": {},
   "outputs": [
    {
     "data": {
      "text/plain": [
       "<matplotlib.axes._subplots.AxesSubplot at 0x1c53a247ac8>"
      ]
     },
     "execution_count": 383,
     "metadata": {},
     "output_type": "execute_result"
    },
    {
     "data": {
      "image/png": "[encoded data removed]",
      "text/plain": [
       "<matplotlib.figure.Figure at 0x1c54890c4a8>"
      ]
     },
     "metadata": {},
     "output_type": "display_data"
    }
   ],
   "source": [
    "fig, ax = plt.subplots(nrows=1, ncols=1, figsize=(16, 6))\n",
    "sim.mac_address_df.length_of_stay.hist(bins=50, ax=ax)"
   ]
  },
  {
   "cell_type": "code",
   "execution_count": 249,
   "metadata": {},
   "outputs": [
    {
     "data": {
      "text/plain": [
       "<matplotlib.axes._subplots.AxesSubplot at 0x1c54959b630>"
      ]
     },
     "execution_count": 249,
     "metadata": {},
     "output_type": "execute_result"
    },
    {
     "data": {
      "image/png": "[encoded data removed]",
      "text/plain": [
       "<matplotlib.figure.Figure at 0x1c5496187b8>"
      ]
     },
     "metadata": {},
     "output_type": "display_data"
    }
   ],
   "source": [
    "fig, ax = plt.subplots(nrows=1, ncols=1, figsize=(16, 6))\n",
    "pd.to_datetime(sim.mac_address_df.start_time).dt.round('15min').hist(bins=70, ax=ax)"
   ]
  },
  {
   "cell_type": "code",
   "execution_count": 250,
   "metadata": {},
   "outputs": [
    {
     "data": {
      "image/png": "[encoded data removed]",
      "text/plain": [
       "<matplotlib.figure.Figure at 0x1c5496be668>"
      ]
     },
     "metadata": {},
     "output_type": "display_data"
    }
   ],
   "source": [
    "fig, ax = plt.subplots(nrows=1, ncols=1, figsize=(16, 6))\n",
    "\n",
    "plot_histogram_jn(\n",
    "    sim.signal_df, \n",
    "    axes=ax,\n",
    "    label='Shopper',\n",
    ");"
   ]
  },
  {
   "cell_type": "code",
   "execution_count": 252,
   "metadata": {},
   "outputs": [
    {
     "data": {
      "text/plain": [
       "<matplotlib.axes._subplots.AxesSubplot at 0x1c549abb710>"
      ]
     },
     "execution_count": 252,
     "metadata": {},
     "output_type": "execute_result"
    },
    {
     "data": {
      "image/png": "[encoded data removed]",
      "text/plain": [
       "<matplotlib.figure.Figure at 0x1c549aaf8d0>"
      ]
     },
     "metadata": {},
     "output_type": "display_data"
    }
   ],
   "source": [
    "sim.mac_address_df.number_of_shops.hist(bins=50)"
   ]
  },
  {
   "cell_type": "code",
   "execution_count": 256,
   "metadata": {},
   "outputs": [
    {
     "data": {
      "text/html": [
       "<div>\n",
       "<style>\n",
       "    .dataframe thead tr:only-child th {\n",
       "        text-align: right;\n",
       "    }\n",
       "\n",
       "    .dataframe thead th {\n",
       "        text-align: left;\n",
       "    }\n",
       "\n",
       "    .dataframe tbody tr th {\n",
       "        vertical-align: top;\n",
       "    }\n",
       "</style>\n",
       "<table border=\"1\" class=\"dataframe\">\n",
       "  <thead>\n",
       "    <tr style=\"text-align: right;\">\n",
       "      <th></th>\n",
       "      <th>mac_address</th>\n",
       "      <th>number_of_shops</th>\n",
       "      <th>length_of_stay</th>\n",
       "      <th>start_time</th>\n",
       "    </tr>\n",
       "  </thead>\n",
       "  <tbody>\n",
       "    <tr>\n",
       "      <th>0</th>\n",
       "      <td>1</td>\n",
       "      <td>76</td>\n",
       "      <td>94.08</td>\n",
       "      <td>2016-12-22 07:00:00.000</td>\n",
       "    </tr>\n",
       "    <tr>\n",
       "      <th>1</th>\n",
       "      <td>2</td>\n",
       "      <td>87</td>\n",
       "      <td>122.88</td>\n",
       "      <td>2016-12-22 07:00:00.000</td>\n",
       "    </tr>\n",
       "    <tr>\n",
       "      <th>2</th>\n",
       "      <td>3</td>\n",
       "      <td>128</td>\n",
       "      <td>227.52</td>\n",
       "      <td>2016-12-22 07:00:00.000</td>\n",
       "    </tr>\n",
       "    <tr>\n",
       "      <th>3</th>\n",
       "      <td>4</td>\n",
       "      <td>39</td>\n",
       "      <td>45.12</td>\n",
       "      <td>2016-12-22 07:00:00.000</td>\n",
       "    </tr>\n",
       "    <tr>\n",
       "      <th>4</th>\n",
       "      <td>5</td>\n",
       "      <td>84</td>\n",
       "      <td>107.52</td>\n",
       "      <td>2016-12-22 07:00:00.000</td>\n",
       "    </tr>\n",
       "    <tr>\n",
       "      <th>5</th>\n",
       "      <td>6</td>\n",
       "      <td>98</td>\n",
       "      <td>162.24</td>\n",
       "      <td>2016-12-22 07:00:00.000</td>\n",
       "    </tr>\n",
       "    <tr>\n",
       "      <th>6</th>\n",
       "      <td>7</td>\n",
       "      <td>50</td>\n",
       "      <td>57.60</td>\n",
       "      <td>2016-12-22 07:00:00.000</td>\n",
       "    </tr>\n",
       "    <tr>\n",
       "      <th>7</th>\n",
       "      <td>8</td>\n",
       "      <td>64</td>\n",
       "      <td>78.72</td>\n",
       "      <td>2016-12-22 07:00:00.000</td>\n",
       "    </tr>\n",
       "    <tr>\n",
       "      <th>8</th>\n",
       "      <td>9</td>\n",
       "      <td>71</td>\n",
       "      <td>77.76</td>\n",
       "      <td>2016-12-22 07:00:00.000</td>\n",
       "    </tr>\n",
       "    <tr>\n",
       "      <th>9</th>\n",
       "      <td>10</td>\n",
       "      <td>113</td>\n",
       "      <td>191.04</td>\n",
       "      <td>2016-12-22 07:00:00.000</td>\n",
       "    </tr>\n",
       "    <tr>\n",
       "      <th>10</th>\n",
       "      <td>11</td>\n",
       "      <td>67</td>\n",
       "      <td>91.20</td>\n",
       "      <td>2016-12-22 07:00:00.000</td>\n",
       "    </tr>\n",
       "    <tr>\n",
       "      <th>11</th>\n",
       "      <td>12</td>\n",
       "      <td>107</td>\n",
       "      <td>166.08</td>\n",
       "      <td>2016-12-22 07:00:57.600</td>\n",
       "    </tr>\n",
       "    <tr>\n",
       "      <th>12</th>\n",
       "      <td>13</td>\n",
       "      <td>92</td>\n",
       "      <td>144.00</td>\n",
       "      <td>2016-12-22 07:00:57.600</td>\n",
       "    </tr>\n",
       "    <tr>\n",
       "      <th>13</th>\n",
       "      <td>14</td>\n",
       "      <td>111</td>\n",
       "      <td>192.96</td>\n",
       "      <td>2016-12-22 07:00:57.600</td>\n",
       "    </tr>\n",
       "    <tr>\n",
       "      <th>14</th>\n",
       "      <td>15</td>\n",
       "      <td>120</td>\n",
       "      <td>222.72</td>\n",
       "      <td>2016-12-22 07:00:57.600</td>\n",
       "    </tr>\n",
       "    <tr>\n",
       "      <th>15</th>\n",
       "      <td>16</td>\n",
       "      <td>102</td>\n",
       "      <td>166.08</td>\n",
       "      <td>2016-12-22 07:00:57.600</td>\n",
       "    </tr>\n",
       "    <tr>\n",
       "      <th>16</th>\n",
       "      <td>17</td>\n",
       "      <td>100</td>\n",
       "      <td>175.68</td>\n",
       "      <td>2016-12-22 07:01:55.200</td>\n",
       "    </tr>\n",
       "    <tr>\n",
       "      <th>17</th>\n",
       "      <td>18</td>\n",
       "      <td>76</td>\n",
       "      <td>100.80</td>\n",
       "      <td>2016-12-22 07:01:55.200</td>\n",
       "    </tr>\n",
       "    <tr>\n",
       "      <th>18</th>\n",
       "      <td>19</td>\n",
       "      <td>105</td>\n",
       "      <td>168.00</td>\n",
       "      <td>2016-12-22 07:01:55.200</td>\n",
       "    </tr>\n",
       "    <tr>\n",
       "      <th>19</th>\n",
       "      <td>20</td>\n",
       "      <td>109</td>\n",
       "      <td>175.68</td>\n",
       "      <td>2016-12-22 07:01:55.200</td>\n",
       "    </tr>\n",
       "    <tr>\n",
       "      <th>20</th>\n",
       "      <td>21</td>\n",
       "      <td>108</td>\n",
       "      <td>183.36</td>\n",
       "      <td>2016-12-22 07:01:55.200</td>\n",
       "    </tr>\n",
       "    <tr>\n",
       "      <th>21</th>\n",
       "      <td>22</td>\n",
       "      <td>112</td>\n",
       "      <td>185.28</td>\n",
       "      <td>2016-12-22 07:01:55.200</td>\n",
       "    </tr>\n",
       "    <tr>\n",
       "      <th>22</th>\n",
       "      <td>23</td>\n",
       "      <td>45</td>\n",
       "      <td>54.72</td>\n",
       "      <td>2016-12-22 07:01:55.200</td>\n",
       "    </tr>\n",
       "    <tr>\n",
       "      <th>23</th>\n",
       "      <td>24</td>\n",
       "      <td>97</td>\n",
       "      <td>141.12</td>\n",
       "      <td>2016-12-22 07:01:55.200</td>\n",
       "    </tr>\n",
       "    <tr>\n",
       "      <th>24</th>\n",
       "      <td>25</td>\n",
       "      <td>99</td>\n",
       "      <td>136.32</td>\n",
       "      <td>2016-12-22 07:01:55.200</td>\n",
       "    </tr>\n",
       "    <tr>\n",
       "      <th>25</th>\n",
       "      <td>26</td>\n",
       "      <td>97</td>\n",
       "      <td>147.84</td>\n",
       "      <td>2016-12-22 07:01:55.200</td>\n",
       "    </tr>\n",
       "    <tr>\n",
       "      <th>26</th>\n",
       "      <td>27</td>\n",
       "      <td>78</td>\n",
       "      <td>96.96</td>\n",
       "      <td>2016-12-22 07:01:55.200</td>\n",
       "    </tr>\n",
       "    <tr>\n",
       "      <th>27</th>\n",
       "      <td>28</td>\n",
       "      <td>83</td>\n",
       "      <td>114.24</td>\n",
       "      <td>2016-12-22 07:01:55.200</td>\n",
       "    </tr>\n",
       "    <tr>\n",
       "      <th>28</th>\n",
       "      <td>29</td>\n",
       "      <td>74</td>\n",
       "      <td>92.16</td>\n",
       "      <td>2016-12-22 07:01:55.200</td>\n",
       "    </tr>\n",
       "    <tr>\n",
       "      <th>29</th>\n",
       "      <td>30</td>\n",
       "      <td>74</td>\n",
       "      <td>98.88</td>\n",
       "      <td>2016-12-22 07:01:55.200</td>\n",
       "    </tr>\n",
       "    <tr>\n",
       "      <th>...</th>\n",
       "      <td>...</td>\n",
       "      <td>...</td>\n",
       "      <td>...</td>\n",
       "      <td>...</td>\n",
       "    </tr>\n",
       "    <tr>\n",
       "      <th>9979</th>\n",
       "      <td>9980</td>\n",
       "      <td>2</td>\n",
       "      <td>1.92</td>\n",
       "      <td>2016-12-22 22:58:04.800</td>\n",
       "    </tr>\n",
       "    <tr>\n",
       "      <th>9980</th>\n",
       "      <td>9981</td>\n",
       "      <td>2</td>\n",
       "      <td>1.92</td>\n",
       "      <td>2016-12-22 22:58:04.800</td>\n",
       "    </tr>\n",
       "    <tr>\n",
       "      <th>9981</th>\n",
       "      <td>9982</td>\n",
       "      <td>2</td>\n",
       "      <td>1.92</td>\n",
       "      <td>2016-12-22 22:58:04.800</td>\n",
       "    </tr>\n",
       "    <tr>\n",
       "      <th>9982</th>\n",
       "      <td>9983</td>\n",
       "      <td>2</td>\n",
       "      <td>1.92</td>\n",
       "      <td>2016-12-22 22:58:04.800</td>\n",
       "    </tr>\n",
       "    <tr>\n",
       "      <th>9983</th>\n",
       "      <td>9984</td>\n",
       "      <td>2</td>\n",
       "      <td>1.92</td>\n",
       "      <td>2016-12-22 22:58:04.800</td>\n",
       "    </tr>\n",
       "    <tr>\n",
       "      <th>9984</th>\n",
       "      <td>9985</td>\n",
       "      <td>2</td>\n",
       "      <td>1.92</td>\n",
       "      <td>2016-12-22 22:58:04.800</td>\n",
       "    </tr>\n",
       "    <tr>\n",
       "      <th>9985</th>\n",
       "      <td>9986</td>\n",
       "      <td>2</td>\n",
       "      <td>1.92</td>\n",
       "      <td>2016-12-22 22:58:04.800</td>\n",
       "    </tr>\n",
       "    <tr>\n",
       "      <th>9986</th>\n",
       "      <td>9987</td>\n",
       "      <td>2</td>\n",
       "      <td>1.92</td>\n",
       "      <td>2016-12-22 22:58:04.800</td>\n",
       "    </tr>\n",
       "    <tr>\n",
       "      <th>9987</th>\n",
       "      <td>9988</td>\n",
       "      <td>2</td>\n",
       "      <td>1.92</td>\n",
       "      <td>2016-12-22 22:58:04.800</td>\n",
       "    </tr>\n",
       "    <tr>\n",
       "      <th>9988</th>\n",
       "      <td>9989</td>\n",
       "      <td>2</td>\n",
       "      <td>1.92</td>\n",
       "      <td>2016-12-22 22:58:04.800</td>\n",
       "    </tr>\n",
       "    <tr>\n",
       "      <th>9989</th>\n",
       "      <td>9990</td>\n",
       "      <td>1</td>\n",
       "      <td>0.96</td>\n",
       "      <td>2016-12-22 22:59:02.400</td>\n",
       "    </tr>\n",
       "    <tr>\n",
       "      <th>9990</th>\n",
       "      <td>9991</td>\n",
       "      <td>1</td>\n",
       "      <td>0.96</td>\n",
       "      <td>2016-12-22 22:59:02.400</td>\n",
       "    </tr>\n",
       "    <tr>\n",
       "      <th>9991</th>\n",
       "      <td>9992</td>\n",
       "      <td>1</td>\n",
       "      <td>0.96</td>\n",
       "      <td>2016-12-22 22:59:02.400</td>\n",
       "    </tr>\n",
       "    <tr>\n",
       "      <th>9992</th>\n",
       "      <td>9993</td>\n",
       "      <td>1</td>\n",
       "      <td>0.96</td>\n",
       "      <td>2016-12-22 22:59:02.400</td>\n",
       "    </tr>\n",
       "    <tr>\n",
       "      <th>9993</th>\n",
       "      <td>9994</td>\n",
       "      <td>1</td>\n",
       "      <td>0.96</td>\n",
       "      <td>2016-12-22 22:59:02.400</td>\n",
       "    </tr>\n",
       "    <tr>\n",
       "      <th>9994</th>\n",
       "      <td>9995</td>\n",
       "      <td>1</td>\n",
       "      <td>0.96</td>\n",
       "      <td>2016-12-22 22:59:02.400</td>\n",
       "    </tr>\n",
       "    <tr>\n",
       "      <th>9995</th>\n",
       "      <td>9996</td>\n",
       "      <td>1</td>\n",
       "      <td>0.96</td>\n",
       "      <td>2016-12-22 22:59:02.400</td>\n",
       "    </tr>\n",
       "    <tr>\n",
       "      <th>9996</th>\n",
       "      <td>9997</td>\n",
       "      <td>1</td>\n",
       "      <td>0.96</td>\n",
       "      <td>2016-12-22 22:59:02.400</td>\n",
       "    </tr>\n",
       "    <tr>\n",
       "      <th>9997</th>\n",
       "      <td>9998</td>\n",
       "      <td>1</td>\n",
       "      <td>0.96</td>\n",
       "      <td>2016-12-22 22:59:02.400</td>\n",
       "    </tr>\n",
       "    <tr>\n",
       "      <th>9998</th>\n",
       "      <td>9999</td>\n",
       "      <td>1</td>\n",
       "      <td>0.96</td>\n",
       "      <td>2016-12-22 22:59:02.400</td>\n",
       "    </tr>\n",
       "    <tr>\n",
       "      <th>9999</th>\n",
       "      <td>10000</td>\n",
       "      <td>1</td>\n",
       "      <td>0.96</td>\n",
       "      <td>2016-12-22 22:59:02.400</td>\n",
       "    </tr>\n",
       "    <tr>\n",
       "      <th>10000</th>\n",
       "      <td>10001</td>\n",
       "      <td>1</td>\n",
       "      <td>0.96</td>\n",
       "      <td>2016-12-22 22:59:02.400</td>\n",
       "    </tr>\n",
       "    <tr>\n",
       "      <th>10001</th>\n",
       "      <td>10002</td>\n",
       "      <td>1</td>\n",
       "      <td>0.96</td>\n",
       "      <td>2016-12-22 22:59:02.400</td>\n",
       "    </tr>\n",
       "    <tr>\n",
       "      <th>10002</th>\n",
       "      <td>10003</td>\n",
       "      <td>1</td>\n",
       "      <td>0.96</td>\n",
       "      <td>2016-12-22 22:59:02.400</td>\n",
       "    </tr>\n",
       "    <tr>\n",
       "      <th>10003</th>\n",
       "      <td>10004</td>\n",
       "      <td>1</td>\n",
       "      <td>0.96</td>\n",
       "      <td>2016-12-22 22:59:02.400</td>\n",
       "    </tr>\n",
       "    <tr>\n",
       "      <th>10004</th>\n",
       "      <td>10005</td>\n",
       "      <td>1</td>\n",
       "      <td>0.96</td>\n",
       "      <td>2016-12-22 22:59:02.400</td>\n",
       "    </tr>\n",
       "    <tr>\n",
       "      <th>10005</th>\n",
       "      <td>10006</td>\n",
       "      <td>1</td>\n",
       "      <td>0.96</td>\n",
       "      <td>2016-12-22 22:59:02.400</td>\n",
       "    </tr>\n",
       "    <tr>\n",
       "      <th>10006</th>\n",
       "      <td>10007</td>\n",
       "      <td>1</td>\n",
       "      <td>0.96</td>\n",
       "      <td>2016-12-22 22:59:02.400</td>\n",
       "    </tr>\n",
       "    <tr>\n",
       "      <th>10007</th>\n",
       "      <td>10008</td>\n",
       "      <td>1</td>\n",
       "      <td>0.96</td>\n",
       "      <td>2016-12-22 22:59:02.400</td>\n",
       "    </tr>\n",
       "    <tr>\n",
       "      <th>10008</th>\n",
       "      <td>10009</td>\n",
       "      <td>1</td>\n",
       "      <td>0.96</td>\n",
       "      <td>2016-12-22 22:59:02.400</td>\n",
       "    </tr>\n",
       "  </tbody>\n",
       "</table>\n",
       "<p>10009 rows × 4 columns</p>\n",
       "</div>"
      ],
      "text/plain": [
       "      mac_address  number_of_shops  length_of_stay              start_time\n",
       "0               1               76           94.08 2016-12-22 07:00:00.000\n",
       "1               2               87          122.88 2016-12-22 07:00:00.000\n",
       "2               3              128          227.52 2016-12-22 07:00:00.000\n",
       "3               4               39           45.12 2016-12-22 07:00:00.000\n",
       "4               5               84          107.52 2016-12-22 07:00:00.000\n",
       "5               6               98          162.24 2016-12-22 07:00:00.000\n",
       "6               7               50           57.60 2016-12-22 07:00:00.000\n",
       "7               8               64           78.72 2016-12-22 07:00:00.000\n",
       "8               9               71           77.76 2016-12-22 07:00:00.000\n",
       "9              10              113          191.04 2016-12-22 07:00:00.000\n",
       "10             11               67           91.20 2016-12-22 07:00:00.000\n",
       "11             12              107          166.08 2016-12-22 07:00:57.600\n",
       "12             13               92          144.00 2016-12-22 07:00:57.600\n",
       "13             14              111          192.96 2016-12-22 07:00:57.600\n",
       "14             15              120          222.72 2016-12-22 07:00:57.600\n",
       "15             16              102          166.08 2016-12-22 07:00:57.600\n",
       "16             17              100          175.68 2016-12-22 07:01:55.200\n",
       "17             18               76          100.80 2016-12-22 07:01:55.200\n",
       "18             19              105          168.00 2016-12-22 07:01:55.200\n",
       "19             20              109          175.68 2016-12-22 07:01:55.200\n",
       "20             21              108          183.36 2016-12-22 07:01:55.200\n",
       "21             22              112          185.28 2016-12-22 07:01:55.200\n",
       "22             23               45           54.72 2016-12-22 07:01:55.200\n",
       "23             24               97          141.12 2016-12-22 07:01:55.200\n",
       "24             25               99          136.32 2016-12-22 07:01:55.200\n",
       "25             26               97          147.84 2016-12-22 07:01:55.200\n",
       "26             27               78           96.96 2016-12-22 07:01:55.200\n",
       "27             28               83          114.24 2016-12-22 07:01:55.200\n",
       "28             29               74           92.16 2016-12-22 07:01:55.200\n",
       "29             30               74           98.88 2016-12-22 07:01:55.200\n",
       "...           ...              ...             ...                     ...\n",
       "9979         9980                2            1.92 2016-12-22 22:58:04.800\n",
       "9980         9981                2            1.92 2016-12-22 22:58:04.800\n",
       "9981         9982                2            1.92 2016-12-22 22:58:04.800\n",
       "9982         9983                2            1.92 2016-12-22 22:58:04.800\n",
       "9983         9984                2            1.92 2016-12-22 22:58:04.800\n",
       "9984         9985                2            1.92 2016-12-22 22:58:04.800\n",
       "9985         9986                2            1.92 2016-12-22 22:58:04.800\n",
       "9986         9987                2            1.92 2016-12-22 22:58:04.800\n",
       "9987         9988                2            1.92 2016-12-22 22:58:04.800\n",
       "9988         9989                2            1.92 2016-12-22 22:58:04.800\n",
       "9989         9990                1            0.96 2016-12-22 22:59:02.400\n",
       "9990         9991                1            0.96 2016-12-22 22:59:02.400\n",
       "9991         9992                1            0.96 2016-12-22 22:59:02.400\n",
       "9992         9993                1            0.96 2016-12-22 22:59:02.400\n",
       "9993         9994                1            0.96 2016-12-22 22:59:02.400\n",
       "9994         9995                1            0.96 2016-12-22 22:59:02.400\n",
       "9995         9996                1            0.96 2016-12-22 22:59:02.400\n",
       "9996         9997                1            0.96 2016-12-22 22:59:02.400\n",
       "9997         9998                1            0.96 2016-12-22 22:59:02.400\n",
       "9998         9999                1            0.96 2016-12-22 22:59:02.400\n",
       "9999        10000                1            0.96 2016-12-22 22:59:02.400\n",
       "10000       10001                1            0.96 2016-12-22 22:59:02.400\n",
       "10001       10002                1            0.96 2016-12-22 22:59:02.400\n",
       "10002       10003                1            0.96 2016-12-22 22:59:02.400\n",
       "10003       10004                1            0.96 2016-12-22 22:59:02.400\n",
       "10004       10005                1            0.96 2016-12-22 22:59:02.400\n",
       "10005       10006                1            0.96 2016-12-22 22:59:02.400\n",
       "10006       10007                1            0.96 2016-12-22 22:59:02.400\n",
       "10007       10008                1            0.96 2016-12-22 22:59:02.400\n",
       "10008       10009                1            0.96 2016-12-22 22:59:02.400\n",
       "\n",
       "[10009 rows x 4 columns]"
      ]
     },
     "execution_count": 256,
     "metadata": {},
     "output_type": "execute_result"
    }
   ],
   "source": [
    "sim.mac_address_df"
   ]
  },
  {
   "cell_type": "code",
   "execution_count": null,
   "metadata": {},
   "outputs": [],
   "source": []
  }
 ],
 "metadata": {
  "kernelspec": {
   "display_name": "Python 3",
   "language": "python",
   "name": "python3"
  },
  "language_info": {
   "codemirror_mode": {
    "name": "ipython",
    "version": 3
   },
   "file_extension": ".py",
   "mimetype": "text/x-python",
   "name": "python",
   "nbconvert_exporter": "python",
   "pygments_lexer": "ipython3",
   "version": "3.6.2"
  },
  "varInspector": {
   "cols": {
    "lenName": 16,
    "lenType": 16,
    "lenVar": 40
   },
   "kernels_config": {
    "python": {
     "delete_cmd_postfix": "",
     "delete_cmd_prefix": "del ",
     "library": "var_list.py",
     "varRefreshCmd": "print(var_dic_list())"
    },
    "r": {
     "delete_cmd_postfix": ") ",
     "delete_cmd_prefix": "rm(",
     "library": "var_list.r",
     "varRefreshCmd": "cat(var_dic_list()) "
    }
   },
   "types_to_exclude": [
    "module",
    "function",
    "builtin_function_or_method",
    "instance",
    "_Feature"
   ],
   "window_display": false
  }
 },
 "nbformat": 4,
 "nbformat_minor": 2
}
