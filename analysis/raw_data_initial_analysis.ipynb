{
 "cells": [
  {
   "cell_type": "markdown",
   "metadata": {},
   "source": [
    "# Raw Data Initial Analysis"
   ]
  },
  {
   "cell_type": "markdown",
   "metadata": {},
   "source": [
    "This workbook is for analysing the raw data set."
   ]
  },
  {
   "cell_type": "code",
   "execution_count": 1,
   "metadata": {},
   "outputs": [],
   "source": [
    "import pandas as pd\n",
    "import numpy as np\n",
    "\n",
    "%matplotlib inline\n",
    "import matplotlib\n",
    "import matplotlib.pyplot as plt\n",
    "matplotlib.style.use('ggplot')"
   ]
  },
  {
   "cell_type": "markdown",
   "metadata": {},
   "source": [
    "## Import data\n",
    "The shoppers file given to us is called bag_mus_12-22-2016.csv. \n",
    "This contains columns:\n",
    " - mac_address:\n",
    " - type:\n",
    " - date_time:\n",
    " - email: \n",
    " - unknown:\n",
    " - unknown.1:\n",
    " - mall:\n",
    " - floor:\n",
    " - lat:\n",
    " - long:"
   ]
  },
  {
   "cell_type": "code",
   "execution_count": 81,
   "metadata": {},
   "outputs": [],
   "source": [
    "shopper_df = pd.read_csv('../data/bag_mus_12-22-2016.csv')\n",
    "\n",
    "# Turn date time to datetime64[ns] format\n",
    "shopper_df.date_time = shopper_df.date_time.astype('datetime64[ns]')"
   ]
  },
  {
   "cell_type": "markdown",
   "metadata": {},
   "source": [
    "## Basic description\n",
    "Different quantities of the dataset can be shown below."
   ]
  },
  {
   "cell_type": "code",
   "execution_count": 82,
   "metadata": {
    "scrolled": true
   },
   "outputs": [
    {
     "data": {
      "text/html": [
       "<div>\n",
       "<style>\n",
       "    .dataframe thead tr:only-child th {\n",
       "        text-align: right;\n",
       "    }\n",
       "\n",
       "    .dataframe thead th {\n",
       "        text-align: left;\n",
       "    }\n",
       "\n",
       "    .dataframe tbody tr th {\n",
       "        vertical-align: top;\n",
       "    }\n",
       "</style>\n",
       "<table border=\"1\" class=\"dataframe\">\n",
       "  <thead>\n",
       "    <tr style=\"text-align: right;\">\n",
       "      <th></th>\n",
       "      <th>mac_address</th>\n",
       "      <th>wifi_type</th>\n",
       "      <th>date_time</th>\n",
       "      <th>email</th>\n",
       "      <th>store_id</th>\n",
       "      <th>fmu</th>\n",
       "      <th>location</th>\n",
       "      <th>floor</th>\n",
       "      <th>x</th>\n",
       "      <th>y</th>\n",
       "    </tr>\n",
       "  </thead>\n",
       "  <tbody>\n",
       "    <tr>\n",
       "      <th>0</th>\n",
       "      <td>24:4b:03:7d:e3:79</td>\n",
       "      <td>unknown</td>\n",
       "      <td>2016-12-22 23:58:59</td>\n",
       "      <td>unknown</td>\n",
       "      <td>A46</td>\n",
       "      <td>FMU</td>\n",
       "      <td>Mall of Mauritius</td>\n",
       "      <td>Ground Floor</td>\n",
       "      <td>156.0</td>\n",
       "      <td>125.0</td>\n",
       "    </tr>\n",
       "    <tr>\n",
       "      <th>1</th>\n",
       "      <td>48:ee:0c:19:33:f9</td>\n",
       "      <td>Discovered-AP</td>\n",
       "      <td>2016-12-22 23:58:59</td>\n",
       "      <td>unknown</td>\n",
       "      <td>NaN</td>\n",
       "      <td>FMU</td>\n",
       "      <td>Mall of Mauritius</td>\n",
       "      <td>Ground Floor</td>\n",
       "      <td>192.0</td>\n",
       "      <td>123.0</td>\n",
       "    </tr>\n",
       "    <tr>\n",
       "      <th>2</th>\n",
       "      <td>78:ba:f9:b6:ee:d0</td>\n",
       "      <td>Discovered-AP</td>\n",
       "      <td>2016-12-22 23:58:59</td>\n",
       "      <td>unknown</td>\n",
       "      <td>A62</td>\n",
       "      <td>FMU</td>\n",
       "      <td>Mall of Mauritius</td>\n",
       "      <td>Ground Floor</td>\n",
       "      <td>214.0</td>\n",
       "      <td>119.0</td>\n",
       "    </tr>\n",
       "    <tr>\n",
       "      <th>3</th>\n",
       "      <td>78:c3:e9:ba:60:74</td>\n",
       "      <td>unknown</td>\n",
       "      <td>2016-12-22 23:58:59</td>\n",
       "      <td>unknown</td>\n",
       "      <td>NaN</td>\n",
       "      <td>FMU</td>\n",
       "      <td>Mall of Mauritius</td>\n",
       "      <td>Ground Floor</td>\n",
       "      <td>189.0</td>\n",
       "      <td>124.0</td>\n",
       "    </tr>\n",
       "    <tr>\n",
       "      <th>4</th>\n",
       "      <td>a4:71:74:64:76:47</td>\n",
       "      <td>wifiuser</td>\n",
       "      <td>2016-12-22 23:58:59</td>\n",
       "      <td>1245690358803893@faceboo</td>\n",
       "      <td>A189B</td>\n",
       "      <td>FMU</td>\n",
       "      <td>Mall of Mauritius</td>\n",
       "      <td>Ground Floor</td>\n",
       "      <td>205.0</td>\n",
       "      <td>87.0</td>\n",
       "    </tr>\n",
       "  </tbody>\n",
       "</table>\n",
       "</div>"
      ],
      "text/plain": [
       "         mac_address      wifi_type           date_time  \\\n",
       "0  24:4b:03:7d:e3:79        unknown 2016-12-22 23:58:59   \n",
       "1  48:ee:0c:19:33:f9  Discovered-AP 2016-12-22 23:58:59   \n",
       "2  78:ba:f9:b6:ee:d0  Discovered-AP 2016-12-22 23:58:59   \n",
       "3  78:c3:e9:ba:60:74        unknown 2016-12-22 23:58:59   \n",
       "4  a4:71:74:64:76:47       wifiuser 2016-12-22 23:58:59   \n",
       "\n",
       "                      email store_id  fmu           location         floor  \\\n",
       "0                   unknown      A46  FMU  Mall of Mauritius  Ground Floor   \n",
       "1                   unknown      NaN  FMU  Mall of Mauritius  Ground Floor   \n",
       "2                   unknown      A62  FMU  Mall of Mauritius  Ground Floor   \n",
       "3                   unknown      NaN  FMU  Mall of Mauritius  Ground Floor   \n",
       "4  1245690358803893@faceboo    A189B  FMU  Mall of Mauritius  Ground Floor   \n",
       "\n",
       "       x      y  \n",
       "0  156.0  125.0  \n",
       "1  192.0  123.0  \n",
       "2  214.0  119.0  \n",
       "3  189.0  124.0  \n",
       "4  205.0   87.0  "
      ]
     },
     "execution_count": 82,
     "metadata": {},
     "output_type": "execute_result"
    }
   ],
   "source": [
    "shopper_df.head()"
   ]
  },
  {
   "cell_type": "code",
   "execution_count": 83,
   "metadata": {},
   "outputs": [
    {
     "name": "stdout",
     "output_type": "stream",
     "text": [
      "<class 'pandas.core.frame.DataFrame'>\n",
      "RangeIndex: 4485949 entries, 0 to 4485948\n",
      "Data columns (total 10 columns):\n",
      "mac_address    object\n",
      "wifi_type      object\n",
      "date_time      datetime64[ns]\n",
      "email          object\n",
      "store_id       object\n",
      "fmu            object\n",
      "location       object\n",
      "floor          object\n",
      "x              float64\n",
      "y              float64\n",
      "dtypes: datetime64[ns](1), float64(2), object(7)\n",
      "memory usage: 342.3+ MB\n"
     ]
    }
   ],
   "source": [
    "shopper_df.info()"
   ]
  },
  {
   "cell_type": "code",
   "execution_count": 84,
   "metadata": {},
   "outputs": [
    {
     "name": "stdout",
     "output_type": "stream",
     "text": [
      "4485949 rows\n",
      "4452133 unique rows\n"
     ]
    }
   ],
   "source": [
    "print('{} rows'.format(len(shopper_df)))\n",
    "print('{} unique rows'.format(len(shopper_df.drop_duplicates())))"
   ]
  },
  {
   "cell_type": "markdown",
   "metadata": {},
   "source": [
    "## Time Analysis\n",
    "\n",
    "This investigates the time of the different occurances to see if there is any unusual behaviour in the data."
   ]
  },
  {
   "cell_type": "markdown",
   "metadata": {},
   "source": [
    "### Histogram of mac address count against time"
   ]
  },
  {
   "cell_type": "code",
   "execution_count": 85,
   "metadata": {},
   "outputs": [
    {
     "data": {
      "image/png": "[encoded data removed]",
      "text/plain": [
       "<matplotlib.figure.Figure at 0x19f6a034f60>"
      ]
     },
     "metadata": {},
     "output_type": "display_data"
    }
   ],
   "source": [
    "fig, axes = plt.subplots(nrows=1, ncols=1, figsize=(12, 6))\n",
    "ax = shopper_df.date_time.hist(bins=50)\n",
    "ax.set_title('Histogram of shoppers against time')\n",
    "ax.set_xlabel('Time (month-day hour)')\n",
    "ax.set_ylabel('Count of shoppers (no.)');"
   ]
  },
  {
   "cell_type": "markdown",
   "metadata": {},
   "source": [
    "There are shoppers at before the store has opened. This makes us belive that there are background signals which are not actual shoppers."
   ]
  },
  {
   "cell_type": "markdown",
   "metadata": {},
   "source": [
    "## Mac Address Analysis"
   ]
  },
  {
   "cell_type": "code",
   "execution_count": 86,
   "metadata": {},
   "outputs": [
    {
     "name": "stdout",
     "output_type": "stream",
     "text": [
      "232471 out of 4485949 unique mac addresses\n"
     ]
    }
   ],
   "source": [
    "print('{} out of {} unique mac addresses'.format(len(shopper_df.mac_address.drop_duplicates()), len(shopper_df)))"
   ]
  },
  {
   "cell_type": "markdown",
   "metadata": {},
   "source": [
    "### Histogram of shoppers against time\n",
    "\n",
    "This shows the time when the first mac address was recorded of a device."
   ]
  },
  {
   "cell_type": "code",
   "execution_count": 87,
   "metadata": {
    "scrolled": false
   },
   "outputs": [
    {
     "data": {
      "image/png": "[encoded data removed]",
      "text/plain": [
       "<matplotlib.figure.Figure at 0x19f50962128>"
      ]
     },
     "metadata": {},
     "output_type": "display_data"
    }
   ],
   "source": [
    "fig, axes = plt.subplots(nrows=1, ncols=1, figsize=(12, 6))\n",
    "ax = shopper_df.loc[shopper_df.drop_duplicates('mac_address').index].date_time.hist(bins=50)\n",
    "ax.set_title('Histogram of shoppers against time')\n",
    "ax.set_xlabel('Time (month-day hour)')\n",
    "ax.set_ylabel('Count of shoppers (no.)');"
   ]
  },
  {
   "cell_type": "code",
   "execution_count": null,
   "metadata": {},
   "outputs": [],
   "source": []
  }
 ],
 "metadata": {
  "kernelspec": {
   "display_name": "Python 3",
   "language": "python",
   "name": "python3"
  },
  "language_info": {
   "codemirror_mode": {
    "name": "ipython",
    "version": 3
   },
   "file_extension": ".py",
   "mimetype": "text/x-python",
   "name": "python",
   "nbconvert_exporter": "python",
   "pygments_lexer": "ipython3",
   "version": "3.6.2"
  },
  "varInspector": {
   "cols": {
    "lenName": 16,
    "lenType": 16,
    "lenVar": 40
   },
   "kernels_config": {
    "python": {
     "delete_cmd_postfix": "",
     "delete_cmd_prefix": "del ",
     "library": "var_list.py",
     "varRefreshCmd": "print(var_dic_list())"
    },
    "r": {
     "delete_cmd_postfix": ") ",
     "delete_cmd_prefix": "rm(",
     "library": "var_list.r",
     "varRefreshCmd": "cat(var_dic_list()) "
    }
   },
   "types_to_exclude": [
    "module",
    "function",
    "builtin_function_or_method",
    "instance",
    "_Feature"
   ],
   "window_display": false
  }
 },
 "nbformat": 4,
 "nbformat_minor": 2
}
